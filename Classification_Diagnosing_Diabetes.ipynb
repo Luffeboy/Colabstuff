{
  "nbformat": 4,
  "nbformat_minor": 0,
  "metadata": {
    "colab": {
      "provenance": [],
      "include_colab_link": true
    },
    "kernelspec": {
      "name": "python3",
      "display_name": "Python 3"
    },
    "language_info": {
      "name": "python"
    }
  },
  "cells": [
    {
      "cell_type": "markdown",
      "metadata": {
        "id": "view-in-github",
        "colab_type": "text"
      },
      "source": [
        "<a href=\"https://colab.research.google.com/github/Luffeboy/Colabstuff/blob/main/Classification_Diagnosing_Diabetes.ipynb\" target=\"_parent\"><img src=\"https://colab.research.google.com/assets/colab-badge.svg\" alt=\"Open In Colab\"/></a>"
      ]
    },
    {
      "cell_type": "markdown",
      "source": [
        "# Classification - Diagnosing Diabetis"
      ],
      "metadata": {
        "id": "h0mQclsZtkVY"
      }
    },
    {
      "cell_type": "markdown",
      "source": [
        "The purpuse a this assignment is to try out one ot more classification algoritms on a diabates dataset. We start with a Decision Tree Classifier. Start running all the cells and the do the mentioned exercises"
      ],
      "metadata": {
        "id": "yKvsk8mcu3_P"
      }
    },
    {
      "cell_type": "code",
      "source": [
        "#Import some common libraries\n",
        "import matplotlib.pyplot as plt\n",
        "import numpy as np\n",
        "import pandas as pd\n"
      ],
      "metadata": {
        "id": "idCHXgcrAaHn"
      },
      "execution_count": 1,
      "outputs": []
    },
    {
      "cell_type": "code",
      "source": [
        "#Establishing graphical routine decision trees\n",
        "from pathlib import Path\n",
        "\n",
        "IMAGES_PATH = Path() / \"images\" / \"decision_trees\"\n",
        "IMAGES_PATH.mkdir(parents=True, exist_ok=True)\n",
        "\n",
        "def save_fig(fig_id, tight_layout=True, fig_extension=\"png\", resolution=300):\n",
        "    path = IMAGES_PATH / f\"{fig_id}.{fig_extension}\"\n",
        "    if tight_layout:\n",
        "        plt.tight_layout()\n",
        "    plt.savefig(path, format=fig_extension, dpi=resolution)"
      ],
      "metadata": {
        "id": "UafDVRuaNdV6"
      },
      "execution_count": 2,
      "outputs": []
    },
    {
      "cell_type": "code",
      "execution_count": 3,
      "metadata": {
        "id": "dwe-SKRiZBWg",
        "colab": {
          "base_uri": "https://localhost:8080/",
          "height": 204
        },
        "outputId": "107df87f-752f-4353-b0f5-dbe30b1ec307"
      },
      "outputs": [
        {
          "output_type": "execute_result",
          "data": {
            "text/plain": [
              "pandas.core.frame.DataFrame"
            ],
            "text/html": [
              "<div style=\"max-width:800px; border: 1px solid var(--colab-border-color);\"><style>\n",
              "      pre.function-repr-contents {\n",
              "        overflow-x: auto;\n",
              "        padding: 8px 12px;\n",
              "        max-height: 500px;\n",
              "      }\n",
              "\n",
              "      pre.function-repr-contents.function-repr-contents-collapsed {\n",
              "        cursor: pointer;\n",
              "        max-height: 100px;\n",
              "      }\n",
              "    </style>\n",
              "    <pre style=\"white-space: initial; background:\n",
              "         var(--colab-secondary-surface-color); padding: 8px 12px;\n",
              "         border-bottom: 1px solid var(--colab-border-color);\"><b>pandas.core.frame.DataFrame</b><br/>def __init__(data=None, index: Axes | None=None, columns: Axes | None=None, dtype: Dtype | None=None, copy: bool | None=None) -&gt; None</pre><pre class=\"function-repr-contents function-repr-contents-collapsed\" style=\"\"><a class=\"filepath\" style=\"display:none\" href=\"#\">/usr/local/lib/python3.11/dist-packages/pandas/core/frame.py</a>Two-dimensional, size-mutable, potentially heterogeneous tabular data.\n",
              "\n",
              "Data structure also contains labeled axes (rows and columns).\n",
              "Arithmetic operations align on both row and column labels. Can be\n",
              "thought of as a dict-like container for Series objects. The primary\n",
              "pandas data structure.\n",
              "\n",
              "Parameters\n",
              "----------\n",
              "data : ndarray (structured or homogeneous), Iterable, dict, or DataFrame\n",
              "    Dict can contain Series, arrays, constants, dataclass or list-like objects. If\n",
              "    data is a dict, column order follows insertion-order. If a dict contains Series\n",
              "    which have an index defined, it is aligned by its index. This alignment also\n",
              "    occurs if data is a Series or a DataFrame itself. Alignment is done on\n",
              "    Series/DataFrame inputs.\n",
              "\n",
              "    If data is a list of dicts, column order follows insertion-order.\n",
              "\n",
              "index : Index or array-like\n",
              "    Index to use for resulting frame. Will default to RangeIndex if\n",
              "    no indexing information part of input data and no index provided.\n",
              "columns : Index or array-like\n",
              "    Column labels to use for resulting frame when data does not have them,\n",
              "    defaulting to RangeIndex(0, 1, 2, ..., n). If data contains column labels,\n",
              "    will perform column selection instead.\n",
              "dtype : dtype, default None\n",
              "    Data type to force. Only a single dtype is allowed. If None, infer.\n",
              "copy : bool or None, default None\n",
              "    Copy data from inputs.\n",
              "    For dict data, the default of None behaves like ``copy=True``.  For DataFrame\n",
              "    or 2d ndarray input, the default of None behaves like ``copy=False``.\n",
              "    If data is a dict containing one or more Series (possibly of different dtypes),\n",
              "    ``copy=False`` will ensure that these inputs are not copied.\n",
              "\n",
              "    .. versionchanged:: 1.3.0\n",
              "\n",
              "See Also\n",
              "--------\n",
              "DataFrame.from_records : Constructor from tuples, also record arrays.\n",
              "DataFrame.from_dict : From dicts of Series, arrays, or dicts.\n",
              "read_csv : Read a comma-separated values (csv) file into DataFrame.\n",
              "read_table : Read general delimited file into DataFrame.\n",
              "read_clipboard : Read text from clipboard into DataFrame.\n",
              "\n",
              "Notes\n",
              "-----\n",
              "Please reference the :ref:`User Guide &lt;basics.dataframe&gt;` for more information.\n",
              "\n",
              "Examples\n",
              "--------\n",
              "Constructing DataFrame from a dictionary.\n",
              "\n",
              "&gt;&gt;&gt; d = {&#x27;col1&#x27;: [1, 2], &#x27;col2&#x27;: [3, 4]}\n",
              "&gt;&gt;&gt; df = pd.DataFrame(data=d)\n",
              "&gt;&gt;&gt; df\n",
              "   col1  col2\n",
              "0     1     3\n",
              "1     2     4\n",
              "\n",
              "Notice that the inferred dtype is int64.\n",
              "\n",
              "&gt;&gt;&gt; df.dtypes\n",
              "col1    int64\n",
              "col2    int64\n",
              "dtype: object\n",
              "\n",
              "To enforce a single dtype:\n",
              "\n",
              "&gt;&gt;&gt; df = pd.DataFrame(data=d, dtype=np.int8)\n",
              "&gt;&gt;&gt; df.dtypes\n",
              "col1    int8\n",
              "col2    int8\n",
              "dtype: object\n",
              "\n",
              "Constructing DataFrame from a dictionary including Series:\n",
              "\n",
              "&gt;&gt;&gt; d = {&#x27;col1&#x27;: [0, 1, 2, 3], &#x27;col2&#x27;: pd.Series([2, 3], index=[2, 3])}\n",
              "&gt;&gt;&gt; pd.DataFrame(data=d, index=[0, 1, 2, 3])\n",
              "   col1  col2\n",
              "0     0   NaN\n",
              "1     1   NaN\n",
              "2     2   2.0\n",
              "3     3   3.0\n",
              "\n",
              "Constructing DataFrame from numpy ndarray:\n",
              "\n",
              "&gt;&gt;&gt; df2 = pd.DataFrame(np.array([[1, 2, 3], [4, 5, 6], [7, 8, 9]]),\n",
              "...                    columns=[&#x27;a&#x27;, &#x27;b&#x27;, &#x27;c&#x27;])\n",
              "&gt;&gt;&gt; df2\n",
              "   a  b  c\n",
              "0  1  2  3\n",
              "1  4  5  6\n",
              "2  7  8  9\n",
              "\n",
              "Constructing DataFrame from a numpy ndarray that has labeled columns:\n",
              "\n",
              "&gt;&gt;&gt; data = np.array([(1, 2, 3), (4, 5, 6), (7, 8, 9)],\n",
              "...                 dtype=[(&quot;a&quot;, &quot;i4&quot;), (&quot;b&quot;, &quot;i4&quot;), (&quot;c&quot;, &quot;i4&quot;)])\n",
              "&gt;&gt;&gt; df3 = pd.DataFrame(data, columns=[&#x27;c&#x27;, &#x27;a&#x27;])\n",
              "...\n",
              "&gt;&gt;&gt; df3\n",
              "   c  a\n",
              "0  3  1\n",
              "1  6  4\n",
              "2  9  7\n",
              "\n",
              "Constructing DataFrame from dataclass:\n",
              "\n",
              "&gt;&gt;&gt; from dataclasses import make_dataclass\n",
              "&gt;&gt;&gt; Point = make_dataclass(&quot;Point&quot;, [(&quot;x&quot;, int), (&quot;y&quot;, int)])\n",
              "&gt;&gt;&gt; pd.DataFrame([Point(0, 0), Point(0, 3), Point(2, 3)])\n",
              "   x  y\n",
              "0  0  0\n",
              "1  0  3\n",
              "2  2  3\n",
              "\n",
              "Constructing DataFrame from Series/DataFrame:\n",
              "\n",
              "&gt;&gt;&gt; ser = pd.Series([1, 2, 3], index=[&quot;a&quot;, &quot;b&quot;, &quot;c&quot;])\n",
              "&gt;&gt;&gt; df = pd.DataFrame(data=ser, index=[&quot;a&quot;, &quot;c&quot;])\n",
              "&gt;&gt;&gt; df\n",
              "   0\n",
              "a  1\n",
              "c  3\n",
              "\n",
              "&gt;&gt;&gt; df1 = pd.DataFrame([1, 2, 3], index=[&quot;a&quot;, &quot;b&quot;, &quot;c&quot;], columns=[&quot;x&quot;])\n",
              "&gt;&gt;&gt; df2 = pd.DataFrame(data=df1, index=[&quot;a&quot;, &quot;c&quot;])\n",
              "&gt;&gt;&gt; df2\n",
              "   x\n",
              "a  1\n",
              "c  3</pre>\n",
              "      <script>\n",
              "      if (google.colab.kernel.accessAllowed && google.colab.files && google.colab.files.view) {\n",
              "        for (const element of document.querySelectorAll('.filepath')) {\n",
              "          element.style.display = 'block'\n",
              "          element.onclick = (event) => {\n",
              "            event.preventDefault();\n",
              "            event.stopPropagation();\n",
              "            google.colab.files.view(element.textContent, 509);\n",
              "          };\n",
              "        }\n",
              "      }\n",
              "      for (const element of document.querySelectorAll('.function-repr-contents')) {\n",
              "        element.onclick = (event) => {\n",
              "          event.preventDefault();\n",
              "          event.stopPropagation();\n",
              "          element.classList.toggle('function-repr-contents-collapsed');\n",
              "        };\n",
              "      }\n",
              "      </script>\n",
              "      </div>"
            ]
          },
          "metadata": {},
          "execution_count": 3
        }
      ],
      "source": [
        "# Download data in a DataFrame structure\n",
        "data_ref = \"https://raw.githubusercontent.com/jpandersen61/Machine-Learning/main/diabetes.csv\"\n",
        "diabetesData = pd.read_csv(data_ref)\n",
        "type(diabetesData)\n"
      ]
    },
    {
      "cell_type": "code",
      "source": [
        "#Show diabetes data\n",
        "diabetesData"
      ],
      "metadata": {
        "colab": {
          "base_uri": "https://localhost:8080/",
          "height": 424
        },
        "id": "mYZTw4-dAmLo",
        "outputId": "4ae220e0-7519-4d82-8236-9126631e074d"
      },
      "execution_count": 4,
      "outputs": [
        {
          "output_type": "execute_result",
          "data": {
            "text/plain": [
              "     Pregnancies  Glucose  BloodPressure  SkinThickness  Insulin   BMI  \\\n",
              "0              6      148             72             35        0  33.6   \n",
              "1              1       85             66             29        0  26.6   \n",
              "2              8      183             64              0        0  23.3   \n",
              "3              1       89             66             23       94  28.1   \n",
              "4              0      137             40             35      168  43.1   \n",
              "..           ...      ...            ...            ...      ...   ...   \n",
              "764            2      122             70             27        0  36.8   \n",
              "765            5      121             72             23      112  26.2   \n",
              "766            1      126             60              0        0  30.1   \n",
              "767            1       93             70             31        0  30.4   \n",
              "768            0      123             77              0        1  36.3   \n",
              "\n",
              "     DiabetesPedigreeFunction  Age  Outcome  \n",
              "0                       0.627   50        1  \n",
              "1                       0.351   31        0  \n",
              "2                       0.672   32        1  \n",
              "3                       0.167   21        0  \n",
              "4                       2.288   33        1  \n",
              "..                        ...  ...      ...  \n",
              "764                     0.340   27        0  \n",
              "765                     0.245   30        0  \n",
              "766                     0.349   47        1  \n",
              "767                     0.315   23        0  \n",
              "768                     0.252   55        1  \n",
              "\n",
              "[769 rows x 9 columns]"
            ],
            "text/html": [
              "\n",
              "  <div id=\"df-59898042-a243-417a-8e00-34f150e43b79\" class=\"colab-df-container\">\n",
              "    <div>\n",
              "<style scoped>\n",
              "    .dataframe tbody tr th:only-of-type {\n",
              "        vertical-align: middle;\n",
              "    }\n",
              "\n",
              "    .dataframe tbody tr th {\n",
              "        vertical-align: top;\n",
              "    }\n",
              "\n",
              "    .dataframe thead th {\n",
              "        text-align: right;\n",
              "    }\n",
              "</style>\n",
              "<table border=\"1\" class=\"dataframe\">\n",
              "  <thead>\n",
              "    <tr style=\"text-align: right;\">\n",
              "      <th></th>\n",
              "      <th>Pregnancies</th>\n",
              "      <th>Glucose</th>\n",
              "      <th>BloodPressure</th>\n",
              "      <th>SkinThickness</th>\n",
              "      <th>Insulin</th>\n",
              "      <th>BMI</th>\n",
              "      <th>DiabetesPedigreeFunction</th>\n",
              "      <th>Age</th>\n",
              "      <th>Outcome</th>\n",
              "    </tr>\n",
              "  </thead>\n",
              "  <tbody>\n",
              "    <tr>\n",
              "      <th>0</th>\n",
              "      <td>6</td>\n",
              "      <td>148</td>\n",
              "      <td>72</td>\n",
              "      <td>35</td>\n",
              "      <td>0</td>\n",
              "      <td>33.6</td>\n",
              "      <td>0.627</td>\n",
              "      <td>50</td>\n",
              "      <td>1</td>\n",
              "    </tr>\n",
              "    <tr>\n",
              "      <th>1</th>\n",
              "      <td>1</td>\n",
              "      <td>85</td>\n",
              "      <td>66</td>\n",
              "      <td>29</td>\n",
              "      <td>0</td>\n",
              "      <td>26.6</td>\n",
              "      <td>0.351</td>\n",
              "      <td>31</td>\n",
              "      <td>0</td>\n",
              "    </tr>\n",
              "    <tr>\n",
              "      <th>2</th>\n",
              "      <td>8</td>\n",
              "      <td>183</td>\n",
              "      <td>64</td>\n",
              "      <td>0</td>\n",
              "      <td>0</td>\n",
              "      <td>23.3</td>\n",
              "      <td>0.672</td>\n",
              "      <td>32</td>\n",
              "      <td>1</td>\n",
              "    </tr>\n",
              "    <tr>\n",
              "      <th>3</th>\n",
              "      <td>1</td>\n",
              "      <td>89</td>\n",
              "      <td>66</td>\n",
              "      <td>23</td>\n",
              "      <td>94</td>\n",
              "      <td>28.1</td>\n",
              "      <td>0.167</td>\n",
              "      <td>21</td>\n",
              "      <td>0</td>\n",
              "    </tr>\n",
              "    <tr>\n",
              "      <th>4</th>\n",
              "      <td>0</td>\n",
              "      <td>137</td>\n",
              "      <td>40</td>\n",
              "      <td>35</td>\n",
              "      <td>168</td>\n",
              "      <td>43.1</td>\n",
              "      <td>2.288</td>\n",
              "      <td>33</td>\n",
              "      <td>1</td>\n",
              "    </tr>\n",
              "    <tr>\n",
              "      <th>...</th>\n",
              "      <td>...</td>\n",
              "      <td>...</td>\n",
              "      <td>...</td>\n",
              "      <td>...</td>\n",
              "      <td>...</td>\n",
              "      <td>...</td>\n",
              "      <td>...</td>\n",
              "      <td>...</td>\n",
              "      <td>...</td>\n",
              "    </tr>\n",
              "    <tr>\n",
              "      <th>764</th>\n",
              "      <td>2</td>\n",
              "      <td>122</td>\n",
              "      <td>70</td>\n",
              "      <td>27</td>\n",
              "      <td>0</td>\n",
              "      <td>36.8</td>\n",
              "      <td>0.340</td>\n",
              "      <td>27</td>\n",
              "      <td>0</td>\n",
              "    </tr>\n",
              "    <tr>\n",
              "      <th>765</th>\n",
              "      <td>5</td>\n",
              "      <td>121</td>\n",
              "      <td>72</td>\n",
              "      <td>23</td>\n",
              "      <td>112</td>\n",
              "      <td>26.2</td>\n",
              "      <td>0.245</td>\n",
              "      <td>30</td>\n",
              "      <td>0</td>\n",
              "    </tr>\n",
              "    <tr>\n",
              "      <th>766</th>\n",
              "      <td>1</td>\n",
              "      <td>126</td>\n",
              "      <td>60</td>\n",
              "      <td>0</td>\n",
              "      <td>0</td>\n",
              "      <td>30.1</td>\n",
              "      <td>0.349</td>\n",
              "      <td>47</td>\n",
              "      <td>1</td>\n",
              "    </tr>\n",
              "    <tr>\n",
              "      <th>767</th>\n",
              "      <td>1</td>\n",
              "      <td>93</td>\n",
              "      <td>70</td>\n",
              "      <td>31</td>\n",
              "      <td>0</td>\n",
              "      <td>30.4</td>\n",
              "      <td>0.315</td>\n",
              "      <td>23</td>\n",
              "      <td>0</td>\n",
              "    </tr>\n",
              "    <tr>\n",
              "      <th>768</th>\n",
              "      <td>0</td>\n",
              "      <td>123</td>\n",
              "      <td>77</td>\n",
              "      <td>0</td>\n",
              "      <td>1</td>\n",
              "      <td>36.3</td>\n",
              "      <td>0.252</td>\n",
              "      <td>55</td>\n",
              "      <td>1</td>\n",
              "    </tr>\n",
              "  </tbody>\n",
              "</table>\n",
              "<p>769 rows × 9 columns</p>\n",
              "</div>\n",
              "    <div class=\"colab-df-buttons\">\n",
              "\n",
              "  <div class=\"colab-df-container\">\n",
              "    <button class=\"colab-df-convert\" onclick=\"convertToInteractive('df-59898042-a243-417a-8e00-34f150e43b79')\"\n",
              "            title=\"Convert this dataframe to an interactive table.\"\n",
              "            style=\"display:none;\">\n",
              "\n",
              "  <svg xmlns=\"http://www.w3.org/2000/svg\" height=\"24px\" viewBox=\"0 -960 960 960\">\n",
              "    <path d=\"M120-120v-720h720v720H120Zm60-500h600v-160H180v160Zm220 220h160v-160H400v160Zm0 220h160v-160H400v160ZM180-400h160v-160H180v160Zm440 0h160v-160H620v160ZM180-180h160v-160H180v160Zm440 0h160v-160H620v160Z\"/>\n",
              "  </svg>\n",
              "    </button>\n",
              "\n",
              "  <style>\n",
              "    .colab-df-container {\n",
              "      display:flex;\n",
              "      gap: 12px;\n",
              "    }\n",
              "\n",
              "    .colab-df-convert {\n",
              "      background-color: #E8F0FE;\n",
              "      border: none;\n",
              "      border-radius: 50%;\n",
              "      cursor: pointer;\n",
              "      display: none;\n",
              "      fill: #1967D2;\n",
              "      height: 32px;\n",
              "      padding: 0 0 0 0;\n",
              "      width: 32px;\n",
              "    }\n",
              "\n",
              "    .colab-df-convert:hover {\n",
              "      background-color: #E2EBFA;\n",
              "      box-shadow: 0px 1px 2px rgba(60, 64, 67, 0.3), 0px 1px 3px 1px rgba(60, 64, 67, 0.15);\n",
              "      fill: #174EA6;\n",
              "    }\n",
              "\n",
              "    .colab-df-buttons div {\n",
              "      margin-bottom: 4px;\n",
              "    }\n",
              "\n",
              "    [theme=dark] .colab-df-convert {\n",
              "      background-color: #3B4455;\n",
              "      fill: #D2E3FC;\n",
              "    }\n",
              "\n",
              "    [theme=dark] .colab-df-convert:hover {\n",
              "      background-color: #434B5C;\n",
              "      box-shadow: 0px 1px 3px 1px rgba(0, 0, 0, 0.15);\n",
              "      filter: drop-shadow(0px 1px 2px rgba(0, 0, 0, 0.3));\n",
              "      fill: #FFFFFF;\n",
              "    }\n",
              "  </style>\n",
              "\n",
              "    <script>\n",
              "      const buttonEl =\n",
              "        document.querySelector('#df-59898042-a243-417a-8e00-34f150e43b79 button.colab-df-convert');\n",
              "      buttonEl.style.display =\n",
              "        google.colab.kernel.accessAllowed ? 'block' : 'none';\n",
              "\n",
              "      async function convertToInteractive(key) {\n",
              "        const element = document.querySelector('#df-59898042-a243-417a-8e00-34f150e43b79');\n",
              "        const dataTable =\n",
              "          await google.colab.kernel.invokeFunction('convertToInteractive',\n",
              "                                                    [key], {});\n",
              "        if (!dataTable) return;\n",
              "\n",
              "        const docLinkHtml = 'Like what you see? Visit the ' +\n",
              "          '<a target=\"_blank\" href=https://colab.research.google.com/notebooks/data_table.ipynb>data table notebook</a>'\n",
              "          + ' to learn more about interactive tables.';\n",
              "        element.innerHTML = '';\n",
              "        dataTable['output_type'] = 'display_data';\n",
              "        await google.colab.output.renderOutput(dataTable, element);\n",
              "        const docLink = document.createElement('div');\n",
              "        docLink.innerHTML = docLinkHtml;\n",
              "        element.appendChild(docLink);\n",
              "      }\n",
              "    </script>\n",
              "  </div>\n",
              "\n",
              "\n",
              "<div id=\"df-a8555c5a-6e57-46bc-b68e-dc93c3052e3b\">\n",
              "  <button class=\"colab-df-quickchart\" onclick=\"quickchart('df-a8555c5a-6e57-46bc-b68e-dc93c3052e3b')\"\n",
              "            title=\"Suggest charts\"\n",
              "            style=\"display:none;\">\n",
              "\n",
              "<svg xmlns=\"http://www.w3.org/2000/svg\" height=\"24px\"viewBox=\"0 0 24 24\"\n",
              "     width=\"24px\">\n",
              "    <g>\n",
              "        <path d=\"M19 3H5c-1.1 0-2 .9-2 2v14c0 1.1.9 2 2 2h14c1.1 0 2-.9 2-2V5c0-1.1-.9-2-2-2zM9 17H7v-7h2v7zm4 0h-2V7h2v10zm4 0h-2v-4h2v4z\"/>\n",
              "    </g>\n",
              "</svg>\n",
              "  </button>\n",
              "\n",
              "<style>\n",
              "  .colab-df-quickchart {\n",
              "      --bg-color: #E8F0FE;\n",
              "      --fill-color: #1967D2;\n",
              "      --hover-bg-color: #E2EBFA;\n",
              "      --hover-fill-color: #174EA6;\n",
              "      --disabled-fill-color: #AAA;\n",
              "      --disabled-bg-color: #DDD;\n",
              "  }\n",
              "\n",
              "  [theme=dark] .colab-df-quickchart {\n",
              "      --bg-color: #3B4455;\n",
              "      --fill-color: #D2E3FC;\n",
              "      --hover-bg-color: #434B5C;\n",
              "      --hover-fill-color: #FFFFFF;\n",
              "      --disabled-bg-color: #3B4455;\n",
              "      --disabled-fill-color: #666;\n",
              "  }\n",
              "\n",
              "  .colab-df-quickchart {\n",
              "    background-color: var(--bg-color);\n",
              "    border: none;\n",
              "    border-radius: 50%;\n",
              "    cursor: pointer;\n",
              "    display: none;\n",
              "    fill: var(--fill-color);\n",
              "    height: 32px;\n",
              "    padding: 0;\n",
              "    width: 32px;\n",
              "  }\n",
              "\n",
              "  .colab-df-quickchart:hover {\n",
              "    background-color: var(--hover-bg-color);\n",
              "    box-shadow: 0 1px 2px rgba(60, 64, 67, 0.3), 0 1px 3px 1px rgba(60, 64, 67, 0.15);\n",
              "    fill: var(--button-hover-fill-color);\n",
              "  }\n",
              "\n",
              "  .colab-df-quickchart-complete:disabled,\n",
              "  .colab-df-quickchart-complete:disabled:hover {\n",
              "    background-color: var(--disabled-bg-color);\n",
              "    fill: var(--disabled-fill-color);\n",
              "    box-shadow: none;\n",
              "  }\n",
              "\n",
              "  .colab-df-spinner {\n",
              "    border: 2px solid var(--fill-color);\n",
              "    border-color: transparent;\n",
              "    border-bottom-color: var(--fill-color);\n",
              "    animation:\n",
              "      spin 1s steps(1) infinite;\n",
              "  }\n",
              "\n",
              "  @keyframes spin {\n",
              "    0% {\n",
              "      border-color: transparent;\n",
              "      border-bottom-color: var(--fill-color);\n",
              "      border-left-color: var(--fill-color);\n",
              "    }\n",
              "    20% {\n",
              "      border-color: transparent;\n",
              "      border-left-color: var(--fill-color);\n",
              "      border-top-color: var(--fill-color);\n",
              "    }\n",
              "    30% {\n",
              "      border-color: transparent;\n",
              "      border-left-color: var(--fill-color);\n",
              "      border-top-color: var(--fill-color);\n",
              "      border-right-color: var(--fill-color);\n",
              "    }\n",
              "    40% {\n",
              "      border-color: transparent;\n",
              "      border-right-color: var(--fill-color);\n",
              "      border-top-color: var(--fill-color);\n",
              "    }\n",
              "    60% {\n",
              "      border-color: transparent;\n",
              "      border-right-color: var(--fill-color);\n",
              "    }\n",
              "    80% {\n",
              "      border-color: transparent;\n",
              "      border-right-color: var(--fill-color);\n",
              "      border-bottom-color: var(--fill-color);\n",
              "    }\n",
              "    90% {\n",
              "      border-color: transparent;\n",
              "      border-bottom-color: var(--fill-color);\n",
              "    }\n",
              "  }\n",
              "</style>\n",
              "\n",
              "  <script>\n",
              "    async function quickchart(key) {\n",
              "      const quickchartButtonEl =\n",
              "        document.querySelector('#' + key + ' button');\n",
              "      quickchartButtonEl.disabled = true;  // To prevent multiple clicks.\n",
              "      quickchartButtonEl.classList.add('colab-df-spinner');\n",
              "      try {\n",
              "        const charts = await google.colab.kernel.invokeFunction(\n",
              "            'suggestCharts', [key], {});\n",
              "      } catch (error) {\n",
              "        console.error('Error during call to suggestCharts:', error);\n",
              "      }\n",
              "      quickchartButtonEl.classList.remove('colab-df-spinner');\n",
              "      quickchartButtonEl.classList.add('colab-df-quickchart-complete');\n",
              "    }\n",
              "    (() => {\n",
              "      let quickchartButtonEl =\n",
              "        document.querySelector('#df-a8555c5a-6e57-46bc-b68e-dc93c3052e3b button');\n",
              "      quickchartButtonEl.style.display =\n",
              "        google.colab.kernel.accessAllowed ? 'block' : 'none';\n",
              "    })();\n",
              "  </script>\n",
              "</div>\n",
              "\n",
              "  <div id=\"id_8bbf9d2f-b660-4202-ba56-6c53ca13a89f\">\n",
              "    <style>\n",
              "      .colab-df-generate {\n",
              "        background-color: #E8F0FE;\n",
              "        border: none;\n",
              "        border-radius: 50%;\n",
              "        cursor: pointer;\n",
              "        display: none;\n",
              "        fill: #1967D2;\n",
              "        height: 32px;\n",
              "        padding: 0 0 0 0;\n",
              "        width: 32px;\n",
              "      }\n",
              "\n",
              "      .colab-df-generate:hover {\n",
              "        background-color: #E2EBFA;\n",
              "        box-shadow: 0px 1px 2px rgba(60, 64, 67, 0.3), 0px 1px 3px 1px rgba(60, 64, 67, 0.15);\n",
              "        fill: #174EA6;\n",
              "      }\n",
              "\n",
              "      [theme=dark] .colab-df-generate {\n",
              "        background-color: #3B4455;\n",
              "        fill: #D2E3FC;\n",
              "      }\n",
              "\n",
              "      [theme=dark] .colab-df-generate:hover {\n",
              "        background-color: #434B5C;\n",
              "        box-shadow: 0px 1px 3px 1px rgba(0, 0, 0, 0.15);\n",
              "        filter: drop-shadow(0px 1px 2px rgba(0, 0, 0, 0.3));\n",
              "        fill: #FFFFFF;\n",
              "      }\n",
              "    </style>\n",
              "    <button class=\"colab-df-generate\" onclick=\"generateWithVariable('diabetesData')\"\n",
              "            title=\"Generate code using this dataframe.\"\n",
              "            style=\"display:none;\">\n",
              "\n",
              "  <svg xmlns=\"http://www.w3.org/2000/svg\" height=\"24px\"viewBox=\"0 0 24 24\"\n",
              "       width=\"24px\">\n",
              "    <path d=\"M7,19H8.4L18.45,9,17,7.55,7,17.6ZM5,21V16.75L18.45,3.32a2,2,0,0,1,2.83,0l1.4,1.43a1.91,1.91,0,0,1,.58,1.4,1.91,1.91,0,0,1-.58,1.4L9.25,21ZM18.45,9,17,7.55Zm-12,3A5.31,5.31,0,0,0,4.9,8.1,5.31,5.31,0,0,0,1,6.5,5.31,5.31,0,0,0,4.9,4.9,5.31,5.31,0,0,0,6.5,1,5.31,5.31,0,0,0,8.1,4.9,5.31,5.31,0,0,0,12,6.5,5.46,5.46,0,0,0,6.5,12Z\"/>\n",
              "  </svg>\n",
              "    </button>\n",
              "    <script>\n",
              "      (() => {\n",
              "      const buttonEl =\n",
              "        document.querySelector('#id_8bbf9d2f-b660-4202-ba56-6c53ca13a89f button.colab-df-generate');\n",
              "      buttonEl.style.display =\n",
              "        google.colab.kernel.accessAllowed ? 'block' : 'none';\n",
              "\n",
              "      buttonEl.onclick = () => {\n",
              "        google.colab.notebook.generateWithVariable('diabetesData');\n",
              "      }\n",
              "      })();\n",
              "    </script>\n",
              "  </div>\n",
              "\n",
              "    </div>\n",
              "  </div>\n"
            ],
            "application/vnd.google.colaboratory.intrinsic+json": {
              "type": "dataframe",
              "variable_name": "diabetesData",
              "summary": "{\n  \"name\": \"diabetesData\",\n  \"rows\": 769,\n  \"fields\": [\n    {\n      \"column\": \"Pregnancies\",\n      \"properties\": {\n        \"dtype\": \"number\",\n        \"std\": 3,\n        \"min\": 0,\n        \"max\": 17,\n        \"num_unique_values\": 17,\n        \"samples\": [\n          6,\n          1,\n          3\n        ],\n        \"semantic_type\": \"\",\n        \"description\": \"\"\n      }\n    },\n    {\n      \"column\": \"Glucose\",\n      \"properties\": {\n        \"dtype\": \"number\",\n        \"std\": 31,\n        \"min\": 0,\n        \"max\": 199,\n        \"num_unique_values\": 136,\n        \"samples\": [\n          151,\n          101,\n          112\n        ],\n        \"semantic_type\": \"\",\n        \"description\": \"\"\n      }\n    },\n    {\n      \"column\": \"BloodPressure\",\n      \"properties\": {\n        \"dtype\": \"number\",\n        \"std\": 19,\n        \"min\": 0,\n        \"max\": 122,\n        \"num_unique_values\": 48,\n        \"samples\": [\n          86,\n          102,\n          85\n        ],\n        \"semantic_type\": \"\",\n        \"description\": \"\"\n      }\n    },\n    {\n      \"column\": \"SkinThickness\",\n      \"properties\": {\n        \"dtype\": \"number\",\n        \"std\": 15,\n        \"min\": 0,\n        \"max\": 99,\n        \"num_unique_values\": 51,\n        \"samples\": [\n          7,\n          12,\n          48\n        ],\n        \"semantic_type\": \"\",\n        \"description\": \"\"\n      }\n    },\n    {\n      \"column\": \"Insulin\",\n      \"properties\": {\n        \"dtype\": \"number\",\n        \"std\": 115,\n        \"min\": 0,\n        \"max\": 846,\n        \"num_unique_values\": 187,\n        \"samples\": [\n          112,\n          129,\n          63\n        ],\n        \"semantic_type\": \"\",\n        \"description\": \"\"\n      }\n    },\n    {\n      \"column\": \"BMI\",\n      \"properties\": {\n        \"dtype\": \"number\",\n        \"std\": 7.880556691289605,\n        \"min\": 0.0,\n        \"max\": 67.1,\n        \"num_unique_values\": 248,\n        \"samples\": [\n          19.9,\n          31.0,\n          38.1\n        ],\n        \"semantic_type\": \"\",\n        \"description\": \"\"\n      }\n    },\n    {\n      \"column\": \"DiabetesPedigreeFunction\",\n      \"properties\": {\n        \"dtype\": \"number\",\n        \"std\": 0.33120773702244555,\n        \"min\": 0.078,\n        \"max\": 2.42,\n        \"num_unique_values\": 517,\n        \"samples\": [\n          1.731,\n          0.426,\n          0.138\n        ],\n        \"semantic_type\": \"\",\n        \"description\": \"\"\n      }\n    },\n    {\n      \"column\": \"Age\",\n      \"properties\": {\n        \"dtype\": \"number\",\n        \"std\": 11,\n        \"min\": 21,\n        \"max\": 81,\n        \"num_unique_values\": 52,\n        \"samples\": [\n          60,\n          47,\n          72\n        ],\n        \"semantic_type\": \"\",\n        \"description\": \"\"\n      }\n    },\n    {\n      \"column\": \"Outcome\",\n      \"properties\": {\n        \"dtype\": \"number\",\n        \"std\": 0,\n        \"min\": 0,\n        \"max\": 1,\n        \"num_unique_values\": 2,\n        \"samples\": [\n          0,\n          1\n        ],\n        \"semantic_type\": \"\",\n        \"description\": \"\"\n      }\n    }\n  ]\n}"
            }
          },
          "metadata": {},
          "execution_count": 4
        }
      ]
    },
    {
      "cell_type": "code",
      "source": [
        "#Establish class names for the diagnosis\n",
        "class_Names = [\"Negative\", \"Positive\"]\n",
        "class_Names"
      ],
      "metadata": {
        "id": "limvYW4gGC82",
        "colab": {
          "base_uri": "https://localhost:8080/"
        },
        "outputId": "7838a81b-92d3-4b58-d735-94c4d2a55b3f"
      },
      "execution_count": 5,
      "outputs": [
        {
          "output_type": "execute_result",
          "data": {
            "text/plain": [
              "['Negative', 'Positive']"
            ]
          },
          "metadata": {},
          "execution_count": 5
        }
      ]
    },
    {
      "cell_type": "code",
      "source": [
        "#Establish names for the features, that we will use for predicting the diagnosis\n",
        "feature_Names = [\"Pregnancies\", \"Glucose\", \"BloodPressure\", \"SkinThickness\", \"Insulin\", \"BMI\", \t\"DiabetesPedigreeFunction\", \"Age\"]"
      ],
      "metadata": {
        "id": "eNX9L7MqGmR9"
      },
      "execution_count": 6,
      "outputs": []
    },
    {
      "cell_type": "code",
      "source": [
        "#Extracting features leaving out 'Outcome'\n",
        "X = diabetesData.iloc[:, :-1].values\n",
        "\n",
        "#Extracting labels:\n",
        "y = diabetesData[\"Outcome\"]"
      ],
      "metadata": {
        "id": "9l1Mp6btB1CH"
      },
      "execution_count": 7,
      "outputs": []
    },
    {
      "cell_type": "code",
      "source": [
        "type(X)"
      ],
      "metadata": {
        "colab": {
          "base_uri": "https://localhost:8080/"
        },
        "id": "EaTm7b166Bg0",
        "outputId": "08f36cf9-8156-46f5-809e-9b50aa0b6e56"
      },
      "execution_count": 9,
      "outputs": [
        {
          "output_type": "execute_result",
          "data": {
            "text/plain": [
              "numpy.ndarray"
            ]
          },
          "metadata": {},
          "execution_count": 9
        }
      ]
    },
    {
      "cell_type": "code",
      "source": [
        "#Extract learning and test sets\n",
        "from sklearn.model_selection import train_test_split\n",
        "#train_test_split parameters: array with the data, what values to test with, stratify is for making sure there is the same amount of each class in the training and testing setes, random_state = seed for sudo-random numbers\n",
        "X_train, X_test, y_train, y_test = train_test_split(X, y, stratify=y, random_state=42)"
      ],
      "metadata": {
        "id": "htDL-wXqCkjO"
      },
      "execution_count": 10,
      "outputs": []
    },
    {
      "cell_type": "markdown",
      "source": [
        "### Exercise(s)"
      ],
      "metadata": {
        "id": "V1QngOGON4sv"
      }
    },
    {
      "cell_type": "markdown",
      "source": [
        "1.   Explain what the `train_test_split` is doing for us?\n",
        "\n"
      ],
      "metadata": {
        "id": "OMLetWjuOBFP"
      }
    },
    {
      "cell_type": "markdown",
      "source": [
        "Splits the data into training and testing data sets."
      ],
      "metadata": {
        "id": "J-Nw8uXO76Zz"
      }
    },
    {
      "cell_type": "code",
      "source": [
        "#We pick a DecisionTreeClassifier to experent with\n",
        "from sklearn.tree import DecisionTreeClassifier\n",
        "tree_clf = DecisionTreeClassifier(max_depth=8, random_state=42)"
      ],
      "metadata": {
        "id": "YPAZ-YclCqaR"
      },
      "execution_count": 90,
      "outputs": []
    },
    {
      "cell_type": "code",
      "source": [
        "#Let the classifier learn from training data\n",
        "tree_clf.fit(X_train, y_train)\n",
        "#tree_clf.fit(X_test, y_test)"
      ],
      "metadata": {
        "colab": {
          "base_uri": "https://localhost:8080/",
          "height": 80
        },
        "id": "Xr6Y92zqDWEP",
        "outputId": "3f69e331-72d0-4391-f4bb-b662beb26b01"
      },
      "execution_count": 91,
      "outputs": [
        {
          "output_type": "execute_result",
          "data": {
            "text/plain": [
              "DecisionTreeClassifier(max_depth=8, random_state=42)"
            ],
            "text/html": [
              "<style>#sk-container-id-9 {\n",
              "  /* Definition of color scheme common for light and dark mode */\n",
              "  --sklearn-color-text: #000;\n",
              "  --sklearn-color-text-muted: #666;\n",
              "  --sklearn-color-line: gray;\n",
              "  /* Definition of color scheme for unfitted estimators */\n",
              "  --sklearn-color-unfitted-level-0: #fff5e6;\n",
              "  --sklearn-color-unfitted-level-1: #f6e4d2;\n",
              "  --sklearn-color-unfitted-level-2: #ffe0b3;\n",
              "  --sklearn-color-unfitted-level-3: chocolate;\n",
              "  /* Definition of color scheme for fitted estimators */\n",
              "  --sklearn-color-fitted-level-0: #f0f8ff;\n",
              "  --sklearn-color-fitted-level-1: #d4ebff;\n",
              "  --sklearn-color-fitted-level-2: #b3dbfd;\n",
              "  --sklearn-color-fitted-level-3: cornflowerblue;\n",
              "\n",
              "  /* Specific color for light theme */\n",
              "  --sklearn-color-text-on-default-background: var(--sg-text-color, var(--theme-code-foreground, var(--jp-content-font-color1, black)));\n",
              "  --sklearn-color-background: var(--sg-background-color, var(--theme-background, var(--jp-layout-color0, white)));\n",
              "  --sklearn-color-border-box: var(--sg-text-color, var(--theme-code-foreground, var(--jp-content-font-color1, black)));\n",
              "  --sklearn-color-icon: #696969;\n",
              "\n",
              "  @media (prefers-color-scheme: dark) {\n",
              "    /* Redefinition of color scheme for dark theme */\n",
              "    --sklearn-color-text-on-default-background: var(--sg-text-color, var(--theme-code-foreground, var(--jp-content-font-color1, white)));\n",
              "    --sklearn-color-background: var(--sg-background-color, var(--theme-background, var(--jp-layout-color0, #111)));\n",
              "    --sklearn-color-border-box: var(--sg-text-color, var(--theme-code-foreground, var(--jp-content-font-color1, white)));\n",
              "    --sklearn-color-icon: #878787;\n",
              "  }\n",
              "}\n",
              "\n",
              "#sk-container-id-9 {\n",
              "  color: var(--sklearn-color-text);\n",
              "}\n",
              "\n",
              "#sk-container-id-9 pre {\n",
              "  padding: 0;\n",
              "}\n",
              "\n",
              "#sk-container-id-9 input.sk-hidden--visually {\n",
              "  border: 0;\n",
              "  clip: rect(1px 1px 1px 1px);\n",
              "  clip: rect(1px, 1px, 1px, 1px);\n",
              "  height: 1px;\n",
              "  margin: -1px;\n",
              "  overflow: hidden;\n",
              "  padding: 0;\n",
              "  position: absolute;\n",
              "  width: 1px;\n",
              "}\n",
              "\n",
              "#sk-container-id-9 div.sk-dashed-wrapped {\n",
              "  border: 1px dashed var(--sklearn-color-line);\n",
              "  margin: 0 0.4em 0.5em 0.4em;\n",
              "  box-sizing: border-box;\n",
              "  padding-bottom: 0.4em;\n",
              "  background-color: var(--sklearn-color-background);\n",
              "}\n",
              "\n",
              "#sk-container-id-9 div.sk-container {\n",
              "  /* jupyter's `normalize.less` sets `[hidden] { display: none; }`\n",
              "     but bootstrap.min.css set `[hidden] { display: none !important; }`\n",
              "     so we also need the `!important` here to be able to override the\n",
              "     default hidden behavior on the sphinx rendered scikit-learn.org.\n",
              "     See: https://github.com/scikit-learn/scikit-learn/issues/21755 */\n",
              "  display: inline-block !important;\n",
              "  position: relative;\n",
              "}\n",
              "\n",
              "#sk-container-id-9 div.sk-text-repr-fallback {\n",
              "  display: none;\n",
              "}\n",
              "\n",
              "div.sk-parallel-item,\n",
              "div.sk-serial,\n",
              "div.sk-item {\n",
              "  /* draw centered vertical line to link estimators */\n",
              "  background-image: linear-gradient(var(--sklearn-color-text-on-default-background), var(--sklearn-color-text-on-default-background));\n",
              "  background-size: 2px 100%;\n",
              "  background-repeat: no-repeat;\n",
              "  background-position: center center;\n",
              "}\n",
              "\n",
              "/* Parallel-specific style estimator block */\n",
              "\n",
              "#sk-container-id-9 div.sk-parallel-item::after {\n",
              "  content: \"\";\n",
              "  width: 100%;\n",
              "  border-bottom: 2px solid var(--sklearn-color-text-on-default-background);\n",
              "  flex-grow: 1;\n",
              "}\n",
              "\n",
              "#sk-container-id-9 div.sk-parallel {\n",
              "  display: flex;\n",
              "  align-items: stretch;\n",
              "  justify-content: center;\n",
              "  background-color: var(--sklearn-color-background);\n",
              "  position: relative;\n",
              "}\n",
              "\n",
              "#sk-container-id-9 div.sk-parallel-item {\n",
              "  display: flex;\n",
              "  flex-direction: column;\n",
              "}\n",
              "\n",
              "#sk-container-id-9 div.sk-parallel-item:first-child::after {\n",
              "  align-self: flex-end;\n",
              "  width: 50%;\n",
              "}\n",
              "\n",
              "#sk-container-id-9 div.sk-parallel-item:last-child::after {\n",
              "  align-self: flex-start;\n",
              "  width: 50%;\n",
              "}\n",
              "\n",
              "#sk-container-id-9 div.sk-parallel-item:only-child::after {\n",
              "  width: 0;\n",
              "}\n",
              "\n",
              "/* Serial-specific style estimator block */\n",
              "\n",
              "#sk-container-id-9 div.sk-serial {\n",
              "  display: flex;\n",
              "  flex-direction: column;\n",
              "  align-items: center;\n",
              "  background-color: var(--sklearn-color-background);\n",
              "  padding-right: 1em;\n",
              "  padding-left: 1em;\n",
              "}\n",
              "\n",
              "\n",
              "/* Toggleable style: style used for estimator/Pipeline/ColumnTransformer box that is\n",
              "clickable and can be expanded/collapsed.\n",
              "- Pipeline and ColumnTransformer use this feature and define the default style\n",
              "- Estimators will overwrite some part of the style using the `sk-estimator` class\n",
              "*/\n",
              "\n",
              "/* Pipeline and ColumnTransformer style (default) */\n",
              "\n",
              "#sk-container-id-9 div.sk-toggleable {\n",
              "  /* Default theme specific background. It is overwritten whether we have a\n",
              "  specific estimator or a Pipeline/ColumnTransformer */\n",
              "  background-color: var(--sklearn-color-background);\n",
              "}\n",
              "\n",
              "/* Toggleable label */\n",
              "#sk-container-id-9 label.sk-toggleable__label {\n",
              "  cursor: pointer;\n",
              "  display: flex;\n",
              "  width: 100%;\n",
              "  margin-bottom: 0;\n",
              "  padding: 0.5em;\n",
              "  box-sizing: border-box;\n",
              "  text-align: center;\n",
              "  align-items: start;\n",
              "  justify-content: space-between;\n",
              "  gap: 0.5em;\n",
              "}\n",
              "\n",
              "#sk-container-id-9 label.sk-toggleable__label .caption {\n",
              "  font-size: 0.6rem;\n",
              "  font-weight: lighter;\n",
              "  color: var(--sklearn-color-text-muted);\n",
              "}\n",
              "\n",
              "#sk-container-id-9 label.sk-toggleable__label-arrow:before {\n",
              "  /* Arrow on the left of the label */\n",
              "  content: \"▸\";\n",
              "  float: left;\n",
              "  margin-right: 0.25em;\n",
              "  color: var(--sklearn-color-icon);\n",
              "}\n",
              "\n",
              "#sk-container-id-9 label.sk-toggleable__label-arrow:hover:before {\n",
              "  color: var(--sklearn-color-text);\n",
              "}\n",
              "\n",
              "/* Toggleable content - dropdown */\n",
              "\n",
              "#sk-container-id-9 div.sk-toggleable__content {\n",
              "  max-height: 0;\n",
              "  max-width: 0;\n",
              "  overflow: hidden;\n",
              "  text-align: left;\n",
              "  /* unfitted */\n",
              "  background-color: var(--sklearn-color-unfitted-level-0);\n",
              "}\n",
              "\n",
              "#sk-container-id-9 div.sk-toggleable__content.fitted {\n",
              "  /* fitted */\n",
              "  background-color: var(--sklearn-color-fitted-level-0);\n",
              "}\n",
              "\n",
              "#sk-container-id-9 div.sk-toggleable__content pre {\n",
              "  margin: 0.2em;\n",
              "  border-radius: 0.25em;\n",
              "  color: var(--sklearn-color-text);\n",
              "  /* unfitted */\n",
              "  background-color: var(--sklearn-color-unfitted-level-0);\n",
              "}\n",
              "\n",
              "#sk-container-id-9 div.sk-toggleable__content.fitted pre {\n",
              "  /* unfitted */\n",
              "  background-color: var(--sklearn-color-fitted-level-0);\n",
              "}\n",
              "\n",
              "#sk-container-id-9 input.sk-toggleable__control:checked~div.sk-toggleable__content {\n",
              "  /* Expand drop-down */\n",
              "  max-height: 200px;\n",
              "  max-width: 100%;\n",
              "  overflow: auto;\n",
              "}\n",
              "\n",
              "#sk-container-id-9 input.sk-toggleable__control:checked~label.sk-toggleable__label-arrow:before {\n",
              "  content: \"▾\";\n",
              "}\n",
              "\n",
              "/* Pipeline/ColumnTransformer-specific style */\n",
              "\n",
              "#sk-container-id-9 div.sk-label input.sk-toggleable__control:checked~label.sk-toggleable__label {\n",
              "  color: var(--sklearn-color-text);\n",
              "  background-color: var(--sklearn-color-unfitted-level-2);\n",
              "}\n",
              "\n",
              "#sk-container-id-9 div.sk-label.fitted input.sk-toggleable__control:checked~label.sk-toggleable__label {\n",
              "  background-color: var(--sklearn-color-fitted-level-2);\n",
              "}\n",
              "\n",
              "/* Estimator-specific style */\n",
              "\n",
              "/* Colorize estimator box */\n",
              "#sk-container-id-9 div.sk-estimator input.sk-toggleable__control:checked~label.sk-toggleable__label {\n",
              "  /* unfitted */\n",
              "  background-color: var(--sklearn-color-unfitted-level-2);\n",
              "}\n",
              "\n",
              "#sk-container-id-9 div.sk-estimator.fitted input.sk-toggleable__control:checked~label.sk-toggleable__label {\n",
              "  /* fitted */\n",
              "  background-color: var(--sklearn-color-fitted-level-2);\n",
              "}\n",
              "\n",
              "#sk-container-id-9 div.sk-label label.sk-toggleable__label,\n",
              "#sk-container-id-9 div.sk-label label {\n",
              "  /* The background is the default theme color */\n",
              "  color: var(--sklearn-color-text-on-default-background);\n",
              "}\n",
              "\n",
              "/* On hover, darken the color of the background */\n",
              "#sk-container-id-9 div.sk-label:hover label.sk-toggleable__label {\n",
              "  color: var(--sklearn-color-text);\n",
              "  background-color: var(--sklearn-color-unfitted-level-2);\n",
              "}\n",
              "\n",
              "/* Label box, darken color on hover, fitted */\n",
              "#sk-container-id-9 div.sk-label.fitted:hover label.sk-toggleable__label.fitted {\n",
              "  color: var(--sklearn-color-text);\n",
              "  background-color: var(--sklearn-color-fitted-level-2);\n",
              "}\n",
              "\n",
              "/* Estimator label */\n",
              "\n",
              "#sk-container-id-9 div.sk-label label {\n",
              "  font-family: monospace;\n",
              "  font-weight: bold;\n",
              "  display: inline-block;\n",
              "  line-height: 1.2em;\n",
              "}\n",
              "\n",
              "#sk-container-id-9 div.sk-label-container {\n",
              "  text-align: center;\n",
              "}\n",
              "\n",
              "/* Estimator-specific */\n",
              "#sk-container-id-9 div.sk-estimator {\n",
              "  font-family: monospace;\n",
              "  border: 1px dotted var(--sklearn-color-border-box);\n",
              "  border-radius: 0.25em;\n",
              "  box-sizing: border-box;\n",
              "  margin-bottom: 0.5em;\n",
              "  /* unfitted */\n",
              "  background-color: var(--sklearn-color-unfitted-level-0);\n",
              "}\n",
              "\n",
              "#sk-container-id-9 div.sk-estimator.fitted {\n",
              "  /* fitted */\n",
              "  background-color: var(--sklearn-color-fitted-level-0);\n",
              "}\n",
              "\n",
              "/* on hover */\n",
              "#sk-container-id-9 div.sk-estimator:hover {\n",
              "  /* unfitted */\n",
              "  background-color: var(--sklearn-color-unfitted-level-2);\n",
              "}\n",
              "\n",
              "#sk-container-id-9 div.sk-estimator.fitted:hover {\n",
              "  /* fitted */\n",
              "  background-color: var(--sklearn-color-fitted-level-2);\n",
              "}\n",
              "\n",
              "/* Specification for estimator info (e.g. \"i\" and \"?\") */\n",
              "\n",
              "/* Common style for \"i\" and \"?\" */\n",
              "\n",
              ".sk-estimator-doc-link,\n",
              "a:link.sk-estimator-doc-link,\n",
              "a:visited.sk-estimator-doc-link {\n",
              "  float: right;\n",
              "  font-size: smaller;\n",
              "  line-height: 1em;\n",
              "  font-family: monospace;\n",
              "  background-color: var(--sklearn-color-background);\n",
              "  border-radius: 1em;\n",
              "  height: 1em;\n",
              "  width: 1em;\n",
              "  text-decoration: none !important;\n",
              "  margin-left: 0.5em;\n",
              "  text-align: center;\n",
              "  /* unfitted */\n",
              "  border: var(--sklearn-color-unfitted-level-1) 1pt solid;\n",
              "  color: var(--sklearn-color-unfitted-level-1);\n",
              "}\n",
              "\n",
              ".sk-estimator-doc-link.fitted,\n",
              "a:link.sk-estimator-doc-link.fitted,\n",
              "a:visited.sk-estimator-doc-link.fitted {\n",
              "  /* fitted */\n",
              "  border: var(--sklearn-color-fitted-level-1) 1pt solid;\n",
              "  color: var(--sklearn-color-fitted-level-1);\n",
              "}\n",
              "\n",
              "/* On hover */\n",
              "div.sk-estimator:hover .sk-estimator-doc-link:hover,\n",
              ".sk-estimator-doc-link:hover,\n",
              "div.sk-label-container:hover .sk-estimator-doc-link:hover,\n",
              ".sk-estimator-doc-link:hover {\n",
              "  /* unfitted */\n",
              "  background-color: var(--sklearn-color-unfitted-level-3);\n",
              "  color: var(--sklearn-color-background);\n",
              "  text-decoration: none;\n",
              "}\n",
              "\n",
              "div.sk-estimator.fitted:hover .sk-estimator-doc-link.fitted:hover,\n",
              ".sk-estimator-doc-link.fitted:hover,\n",
              "div.sk-label-container:hover .sk-estimator-doc-link.fitted:hover,\n",
              ".sk-estimator-doc-link.fitted:hover {\n",
              "  /* fitted */\n",
              "  background-color: var(--sklearn-color-fitted-level-3);\n",
              "  color: var(--sklearn-color-background);\n",
              "  text-decoration: none;\n",
              "}\n",
              "\n",
              "/* Span, style for the box shown on hovering the info icon */\n",
              ".sk-estimator-doc-link span {\n",
              "  display: none;\n",
              "  z-index: 9999;\n",
              "  position: relative;\n",
              "  font-weight: normal;\n",
              "  right: .2ex;\n",
              "  padding: .5ex;\n",
              "  margin: .5ex;\n",
              "  width: min-content;\n",
              "  min-width: 20ex;\n",
              "  max-width: 50ex;\n",
              "  color: var(--sklearn-color-text);\n",
              "  box-shadow: 2pt 2pt 4pt #999;\n",
              "  /* unfitted */\n",
              "  background: var(--sklearn-color-unfitted-level-0);\n",
              "  border: .5pt solid var(--sklearn-color-unfitted-level-3);\n",
              "}\n",
              "\n",
              ".sk-estimator-doc-link.fitted span {\n",
              "  /* fitted */\n",
              "  background: var(--sklearn-color-fitted-level-0);\n",
              "  border: var(--sklearn-color-fitted-level-3);\n",
              "}\n",
              "\n",
              ".sk-estimator-doc-link:hover span {\n",
              "  display: block;\n",
              "}\n",
              "\n",
              "/* \"?\"-specific style due to the `<a>` HTML tag */\n",
              "\n",
              "#sk-container-id-9 a.estimator_doc_link {\n",
              "  float: right;\n",
              "  font-size: 1rem;\n",
              "  line-height: 1em;\n",
              "  font-family: monospace;\n",
              "  background-color: var(--sklearn-color-background);\n",
              "  border-radius: 1rem;\n",
              "  height: 1rem;\n",
              "  width: 1rem;\n",
              "  text-decoration: none;\n",
              "  /* unfitted */\n",
              "  color: var(--sklearn-color-unfitted-level-1);\n",
              "  border: var(--sklearn-color-unfitted-level-1) 1pt solid;\n",
              "}\n",
              "\n",
              "#sk-container-id-9 a.estimator_doc_link.fitted {\n",
              "  /* fitted */\n",
              "  border: var(--sklearn-color-fitted-level-1) 1pt solid;\n",
              "  color: var(--sklearn-color-fitted-level-1);\n",
              "}\n",
              "\n",
              "/* On hover */\n",
              "#sk-container-id-9 a.estimator_doc_link:hover {\n",
              "  /* unfitted */\n",
              "  background-color: var(--sklearn-color-unfitted-level-3);\n",
              "  color: var(--sklearn-color-background);\n",
              "  text-decoration: none;\n",
              "}\n",
              "\n",
              "#sk-container-id-9 a.estimator_doc_link.fitted:hover {\n",
              "  /* fitted */\n",
              "  background-color: var(--sklearn-color-fitted-level-3);\n",
              "}\n",
              "</style><div id=\"sk-container-id-9\" class=\"sk-top-container\"><div class=\"sk-text-repr-fallback\"><pre>DecisionTreeClassifier(max_depth=8, random_state=42)</pre><b>In a Jupyter environment, please rerun this cell to show the HTML representation or trust the notebook. <br />On GitHub, the HTML representation is unable to render, please try loading this page with nbviewer.org.</b></div><div class=\"sk-container\" hidden><div class=\"sk-item\"><div class=\"sk-estimator fitted sk-toggleable\"><input class=\"sk-toggleable__control sk-hidden--visually\" id=\"sk-estimator-id-9\" type=\"checkbox\" checked><label for=\"sk-estimator-id-9\" class=\"sk-toggleable__label fitted sk-toggleable__label-arrow\"><div><div>DecisionTreeClassifier</div></div><div><a class=\"sk-estimator-doc-link fitted\" rel=\"noreferrer\" target=\"_blank\" href=\"https://scikit-learn.org/1.6/modules/generated/sklearn.tree.DecisionTreeClassifier.html\">?<span>Documentation for DecisionTreeClassifier</span></a><span class=\"sk-estimator-doc-link fitted\">i<span>Fitted</span></span></div></label><div class=\"sk-toggleable__content fitted\"><pre>DecisionTreeClassifier(max_depth=8, random_state=42)</pre></div> </div></div></div></div>"
            ]
          },
          "metadata": {},
          "execution_count": 91
        }
      ]
    },
    {
      "cell_type": "code",
      "source": [
        "#Let the classifier predict diagnosis on training data\n",
        "y_train_pred=tree_clf.predict(X_train)\n",
        "type(y_train_pred)"
      ],
      "metadata": {
        "id": "O4vi6pAVEUsC",
        "colab": {
          "base_uri": "https://localhost:8080/"
        },
        "outputId": "f16db450-2354-4141-e7c3-9012666e9793"
      },
      "execution_count": 110,
      "outputs": [
        {
          "output_type": "execute_result",
          "data": {
            "text/plain": [
              "numpy.ndarray"
            ]
          },
          "metadata": {},
          "execution_count": 110
        }
      ]
    },
    {
      "cell_type": "code",
      "source": [
        "#Establish confusion matrix\n",
        "from sklearn.metrics import confusion_matrix\n",
        "cm=confusion_matrix(y_train, y_train_pred)"
      ],
      "metadata": {
        "id": "BXw6vrb8Eo2x"
      },
      "execution_count": 93,
      "outputs": []
    },
    {
      "cell_type": "code",
      "source": [
        "#Plot confusion matrix\n",
        "from sklearn.metrics import ConfusionMatrixDisplay\n",
        "disp = ConfusionMatrixDisplay(cm)\n",
        "disp.plot()\n",
        "plt.show()"
      ],
      "metadata": {
        "colab": {
          "base_uri": "https://localhost:8080/",
          "height": 449
        },
        "id": "kI6Jp8V7E6r9",
        "outputId": "db3e2d90-775c-4837-bdd0-33768a9838e2"
      },
      "execution_count": 94,
      "outputs": [
        {
          "output_type": "display_data",
          "data": {
            "text/plain": [
              "<Figure size 640x480 with 2 Axes>"
            ],
            "image/png": "[encoded data removed]"
          },
          "metadata": {}
        }
      ]
    },
    {
      "cell_type": "code",
      "source": [
        "#Calculate the accuracy score on training set:\n",
        "from sklearn.metrics import accuracy_score\n",
        "accuracy_score(y_train, y_train_pred)"
      ],
      "metadata": {
        "colab": {
          "base_uri": "https://localhost:8080/"
        },
        "id": "rQlb5hAKFJle",
        "outputId": "9fc56612-3db6-48f2-dd29-a0ba0739f6fd"
      },
      "execution_count": 111,
      "outputs": [
        {
          "output_type": "execute_result",
          "data": {
            "text/plain": [
              "0.90625"
            ]
          },
          "metadata": {},
          "execution_count": 111
        }
      ]
    },
    {
      "cell_type": "markdown",
      "source": [
        "### Exercise(s)"
      ],
      "metadata": {
        "id": "Yr6U36yMQnT4"
      }
    },
    {
      "cell_type": "markdown",
      "source": [
        "1.   Explain the confusion matrix above\n",
        "2.   What does `accuracy_score` tell us?\n",
        "\n"
      ],
      "metadata": {
        "id": "Mwk3k5OPRm6P"
      }
    },
    {
      "cell_type": "markdown",
      "source": [
        "1:\n",
        "\n",
        "314 true negatives and 167 true positives\n",
        "\n",
        "Along with 34 false negatives and 61 false positives\n",
        "\n",
        "2:\n",
        "\n",
        "(tp + tn) / (fp + fn)\n",
        "\n",
        "How large a percentage of the data that predicted was predicted correctly, both in terms of the Recall and Precision."
      ],
      "metadata": {
        "id": "52AHw4ri8kI_"
      }
    },
    {
      "cell_type": "code",
      "source": [
        "#Export decision tree graphics to the \"diabetes_tree.dot\" file\n",
        "from sklearn.tree import export_graphviz\n",
        "\n",
        "export_graphviz(\n",
        "        tree_clf,\n",
        "        out_file=str(IMAGES_PATH / \"diabetes_tree.dot\"),  # path differs in the book\n",
        "        feature_names=feature_Names,\n",
        "        class_names=class_Names,\n",
        "        rounded=True,\n",
        "        filled=True\n",
        "    )"
      ],
      "metadata": {
        "id": "F2q1nfz3HaqH"
      },
      "execution_count": 96,
      "outputs": []
    },
    {
      "cell_type": "code",
      "source": [
        "#Load decision tree graphic from the \"diabetes_tree.dot\" file\n",
        "from graphviz import Source\n",
        "\n",
        "Source.from_file(IMAGES_PATH / \"diabetes_tree.dot\")"
      ],
      "metadata": {
        "colab": {
          "base_uri": "https://localhost:8080/",
          "height": 1000
        },
        "id": "Llf0LEZVHxlo",
        "outputId": "4e75e497-51db-45e4-df88-53ee8b35fb2f"
      },
      "execution_count": 97,
      "outputs": [
        {
          "output_type": "execute_result",
          "data": {
            "image/svg+xml": "<?xml version=\"1.0\" encoding=\"UTF-8\" standalone=\"no\"?>\n<!DOCTYPE svg PUBLIC \"-//W3C//DTD SVG 1.1//EN\"\n \"http://www.w3.org/Graphics/SVG/1.1/DTD/svg11.dtd\">\n<!-- Generated by graphviz version 2.43.0 (0)\n -->\n<!-- Title: Tree Pages: 1 -->\n<svg width=\"4328pt\" height=\"1028pt\"\n viewBox=\"0.00 0.00 4328.00 1028.00\" xmlns=\"http://www.w3.org/2000/svg\" xmlns:xlink=\"http://www.w3.org/1999/xlink\">\n<g id=\"graph0\" class=\"graph\" transform=\"scale(1 1) rotate(0) translate(4 1024)\">\n<title>Tree</title>\n<polygon fill=\"white\" stroke=\"transparent\" points=\"-4,4 -4,-1024 4324,-1024 4324,4 -4,4\"/>\n<!-- 0 -->\n<g id=\"node1\" class=\"node\">\n<title>0</title>\n<path fill=\"#f3c5a3\" stroke=\"black\" d=\"M2014.5,-1020C2014.5,-1020 1913.5,-1020 1913.5,-1020 1907.5,-1020 1901.5,-1014 1901.5,-1008 1901.5,-1008 1901.5,-949 1901.5,-949 1901.5,-943 1907.5,-937 1913.5,-937 1913.5,-937 2014.5,-937 2014.5,-937 2020.5,-937 2026.5,-943 2026.5,-949 2026.5,-949 2026.5,-1008 2026.5,-1008 2026.5,-1014 2020.5,-1020 2014.5,-1020\"/>\n<text text-anchor=\"middle\" x=\"1964\" y=\"-1004.8\" font-family=\"Helvetica,sans-Serif\" font-size=\"14.00\">Glucose &lt;= 154.5</text>\n<text text-anchor=\"middle\" x=\"1964\" y=\"-989.8\" font-family=\"Helvetica,sans-Serif\" font-size=\"14.00\">gini = 0.454</text>\n<text text-anchor=\"middle\" x=\"1964\" y=\"-974.8\" font-family=\"Helvetica,sans-Serif\" font-size=\"14.00\">samples = 576</text>\n<text text-anchor=\"middle\" x=\"1964\" y=\"-959.8\" font-family=\"Helvetica,sans-Serif\" font-size=\"14.00\">value = [375, 201]</text>\n<text text-anchor=\"middle\" x=\"1964\" y=\"-944.8\" font-family=\"Helvetica,sans-Serif\" font-size=\"14.00\">class = Negative</text>\n</g>\n<!-- 1 -->\n<g id=\"node2\" class=\"node\">\n<title>1</title>\n<path fill=\"#eeac7c\" stroke=\"black\" d=\"M1939.5,-901C1939.5,-901 1838.5,-901 1838.5,-901 1832.5,-901 1826.5,-895 1826.5,-889 1826.5,-889 1826.5,-830 1826.5,-830 1826.5,-824 1832.5,-818 1838.5,-818 1838.5,-818 1939.5,-818 1939.5,-818 1945.5,-818 1951.5,-824 1951.5,-830 1951.5,-830 1951.5,-889 1951.5,-889 1951.5,-895 1945.5,-901 1939.5,-901\"/>\n<text text-anchor=\"middle\" x=\"1889\" y=\"-885.8\" font-family=\"Helvetica,sans-Serif\" font-size=\"14.00\">BMI &lt;= 26.75</text>\n<text text-anchor=\"middle\" x=\"1889\" y=\"-870.8\" font-family=\"Helvetica,sans-Serif\" font-size=\"14.00\">gini = 0.378</text>\n<text text-anchor=\"middle\" x=\"1889\" y=\"-855.8\" font-family=\"Helvetica,sans-Serif\" font-size=\"14.00\">samples = 482</text>\n<text text-anchor=\"middle\" x=\"1889\" y=\"-840.8\" font-family=\"Helvetica,sans-Serif\" font-size=\"14.00\">value = [360, 122]</text>\n<text text-anchor=\"middle\" x=\"1889\" y=\"-825.8\" font-family=\"Helvetica,sans-Serif\" font-size=\"14.00\">class = Negative</text>\n</g>\n<!-- 0&#45;&gt;1 -->\n<g id=\"edge1\" class=\"edge\">\n<title>0&#45;&gt;1</title>\n<path fill=\"none\" stroke=\"black\" d=\"M1937.98,-936.91C1932.34,-928.1 1926.31,-918.7 1920.48,-909.61\"/>\n<polygon fill=\"black\" stroke=\"black\" points=\"1923.32,-907.55 1914.97,-901.02 1917.43,-911.33 1923.32,-907.55\"/>\n<text text-anchor=\"middle\" x=\"1909.63\" y=\"-921.74\" font-family=\"Helvetica,sans-Serif\" font-size=\"14.00\">True</text>\n</g>\n<!-- 86 -->\n<g id=\"node87\" class=\"node\">\n<title>86</title>\n<path fill=\"#5fb0ea\" stroke=\"black\" d=\"M3227,-901C3227,-901 3141,-901 3141,-901 3135,-901 3129,-895 3129,-889 3129,-889 3129,-830 3129,-830 3129,-824 3135,-818 3141,-818 3141,-818 3227,-818 3227,-818 3233,-818 3239,-824 3239,-830 3239,-830 3239,-889 3239,-889 3239,-895 3233,-901 3227,-901\"/>\n<text text-anchor=\"middle\" x=\"3184\" y=\"-885.8\" font-family=\"Helvetica,sans-Serif\" font-size=\"14.00\">BMI &lt;= 23.1</text>\n<text text-anchor=\"middle\" x=\"3184\" y=\"-870.8\" font-family=\"Helvetica,sans-Serif\" font-size=\"14.00\">gini = 0.268</text>\n<text text-anchor=\"middle\" x=\"3184\" y=\"-855.8\" font-family=\"Helvetica,sans-Serif\" font-size=\"14.00\">samples = 94</text>\n<text text-anchor=\"middle\" x=\"3184\" y=\"-840.8\" font-family=\"Helvetica,sans-Serif\" font-size=\"14.00\">value = [15, 79]</text>\n<text text-anchor=\"middle\" x=\"3184\" y=\"-825.8\" font-family=\"Helvetica,sans-Serif\" font-size=\"14.00\">class = Positive</text>\n</g>\n<!-- 0&#45;&gt;86 -->\n<g id=\"edge86\" class=\"edge\">\n<title>0&#45;&gt;86</title>\n<path fill=\"none\" stroke=\"black\" d=\"M2026.6,-971.5C2235.29,-951.48 2906.02,-887.16 3118.67,-866.76\"/>\n<polygon fill=\"black\" stroke=\"black\" points=\"3119.13,-870.24 3128.75,-865.8 3118.46,-863.27 3119.13,-870.24\"/>\n<text text-anchor=\"middle\" x=\"3112.84\" y=\"-881.38\" font-family=\"Helvetica,sans-Serif\" font-size=\"14.00\">False</text>\n</g>\n<!-- 2 -->\n<g id=\"node3\" class=\"node\">\n<title>2</title>\n<path fill=\"#e6853f\" stroke=\"black\" d=\"M921.5,-782C921.5,-782 790.5,-782 790.5,-782 784.5,-782 778.5,-776 778.5,-770 778.5,-770 778.5,-711 778.5,-711 778.5,-705 784.5,-699 790.5,-699 790.5,-699 921.5,-699 921.5,-699 927.5,-699 933.5,-705 933.5,-711 933.5,-711 933.5,-770 933.5,-770 933.5,-776 927.5,-782 921.5,-782\"/>\n<text text-anchor=\"middle\" x=\"856\" y=\"-766.8\" font-family=\"Helvetica,sans-Serif\" font-size=\"14.00\">BloodPressure &lt;= 93.0</text>\n<text text-anchor=\"middle\" x=\"856\" y=\"-751.8\" font-family=\"Helvetica,sans-Serif\" font-size=\"14.00\">gini = 0.053</text>\n<text text-anchor=\"middle\" x=\"856\" y=\"-736.8\" font-family=\"Helvetica,sans-Serif\" font-size=\"14.00\">samples = 110</text>\n<text text-anchor=\"middle\" x=\"856\" y=\"-721.8\" font-family=\"Helvetica,sans-Serif\" font-size=\"14.00\">value = [107, 3]</text>\n<text text-anchor=\"middle\" x=\"856\" y=\"-706.8\" font-family=\"Helvetica,sans-Serif\" font-size=\"14.00\">class = Negative</text>\n</g>\n<!-- 1&#45;&gt;2 -->\n<g id=\"edge2\" class=\"edge\">\n<title>1&#45;&gt;2</title>\n<path fill=\"none\" stroke=\"black\" d=\"M1826.32,-851.4C1649.75,-831.4 1147.85,-774.56 943.84,-751.45\"/>\n<polygon fill=\"black\" stroke=\"black\" points=\"944.1,-747.96 933.77,-750.31 943.31,-754.91 944.1,-747.96\"/>\n</g>\n<!-- 15 -->\n<g id=\"node16\" class=\"node\">\n<title>15</title>\n<path fill=\"#f1bc96\" stroke=\"black\" d=\"M1950.5,-782C1950.5,-782 1827.5,-782 1827.5,-782 1821.5,-782 1815.5,-776 1815.5,-770 1815.5,-770 1815.5,-711 1815.5,-711 1815.5,-705 1821.5,-699 1827.5,-699 1827.5,-699 1950.5,-699 1950.5,-699 1956.5,-699 1962.5,-705 1962.5,-711 1962.5,-711 1962.5,-770 1962.5,-770 1962.5,-776 1956.5,-782 1950.5,-782\"/>\n<text text-anchor=\"middle\" x=\"1889\" y=\"-766.8\" font-family=\"Helvetica,sans-Serif\" font-size=\"14.00\">Age &lt;= 30.5</text>\n<text text-anchor=\"middle\" x=\"1889\" y=\"-751.8\" font-family=\"Helvetica,sans-Serif\" font-size=\"14.00\">gini = 0.435</text>\n<text text-anchor=\"middle\" x=\"1889\" y=\"-736.8\" font-family=\"Helvetica,sans-Serif\" font-size=\"14.00\">samples = 372</text>\n<text text-anchor=\"middle\" x=\"1889\" y=\"-721.8\" font-family=\"Helvetica,sans-Serif\" font-size=\"14.00\">value = [253.0, 119.0]</text>\n<text text-anchor=\"middle\" x=\"1889\" y=\"-706.8\" font-family=\"Helvetica,sans-Serif\" font-size=\"14.00\">class = Negative</text>\n</g>\n<!-- 1&#45;&gt;15 -->\n<g id=\"edge15\" class=\"edge\">\n<title>1&#45;&gt;15</title>\n<path fill=\"none\" stroke=\"black\" d=\"M1889,-817.91C1889,-809.65 1889,-800.86 1889,-792.3\"/>\n<polygon fill=\"black\" stroke=\"black\" points=\"1892.5,-792.02 1889,-782.02 1885.5,-792.02 1892.5,-792.02\"/>\n</g>\n<!-- 3 -->\n<g id=\"node4\" class=\"node\">\n<title>3</title>\n<path fill=\"#e6833d\" stroke=\"black\" d=\"M662.5,-663C662.5,-663 561.5,-663 561.5,-663 555.5,-663 549.5,-657 549.5,-651 549.5,-651 549.5,-592 549.5,-592 549.5,-586 555.5,-580 561.5,-580 561.5,-580 662.5,-580 662.5,-580 668.5,-580 674.5,-586 674.5,-592 674.5,-592 674.5,-651 674.5,-651 674.5,-657 668.5,-663 662.5,-663\"/>\n<text text-anchor=\"middle\" x=\"612\" y=\"-647.8\" font-family=\"Helvetica,sans-Serif\" font-size=\"14.00\">Glucose &lt;= 138.0</text>\n<text text-anchor=\"middle\" x=\"612\" y=\"-632.8\" font-family=\"Helvetica,sans-Serif\" font-size=\"14.00\">gini = 0.037</text>\n<text text-anchor=\"middle\" x=\"612\" y=\"-617.8\" font-family=\"Helvetica,sans-Serif\" font-size=\"14.00\">samples = 106</text>\n<text text-anchor=\"middle\" x=\"612\" y=\"-602.8\" font-family=\"Helvetica,sans-Serif\" font-size=\"14.00\">value = [104, 2]</text>\n<text text-anchor=\"middle\" x=\"612\" y=\"-587.8\" font-family=\"Helvetica,sans-Serif\" font-size=\"14.00\">class = Negative</text>\n</g>\n<!-- 2&#45;&gt;3 -->\n<g id=\"edge3\" class=\"edge\">\n<title>2&#45;&gt;3</title>\n<path fill=\"none\" stroke=\"black\" d=\"M778.46,-702.32C748.11,-687.77 713.51,-671.17 683.74,-656.9\"/>\n<polygon fill=\"black\" stroke=\"black\" points=\"685.2,-653.72 674.67,-652.55 682.17,-660.03 685.2,-653.72\"/>\n</g>\n<!-- 12 -->\n<g id=\"node13\" class=\"node\">\n<title>12</title>\n<path fill=\"#eeab7b\" stroke=\"black\" d=\"M902,-663C902,-663 810,-663 810,-663 804,-663 798,-657 798,-651 798,-651 798,-592 798,-592 798,-586 804,-580 810,-580 810,-580 902,-580 902,-580 908,-580 914,-586 914,-592 914,-592 914,-651 914,-651 914,-657 908,-663 902,-663\"/>\n<text text-anchor=\"middle\" x=\"856\" y=\"-647.8\" font-family=\"Helvetica,sans-Serif\" font-size=\"14.00\">BMI &lt;= 11.2</text>\n<text text-anchor=\"middle\" x=\"856\" y=\"-632.8\" font-family=\"Helvetica,sans-Serif\" font-size=\"14.00\">gini = 0.375</text>\n<text text-anchor=\"middle\" x=\"856\" y=\"-617.8\" font-family=\"Helvetica,sans-Serif\" font-size=\"14.00\">samples = 4</text>\n<text text-anchor=\"middle\" x=\"856\" y=\"-602.8\" font-family=\"Helvetica,sans-Serif\" font-size=\"14.00\">value = [3, 1]</text>\n<text text-anchor=\"middle\" x=\"856\" y=\"-587.8\" font-family=\"Helvetica,sans-Serif\" font-size=\"14.00\">class = Negative</text>\n</g>\n<!-- 2&#45;&gt;12 -->\n<g id=\"edge12\" class=\"edge\">\n<title>2&#45;&gt;12</title>\n<path fill=\"none\" stroke=\"black\" d=\"M856,-698.91C856,-690.65 856,-681.86 856,-673.3\"/>\n<polygon fill=\"black\" stroke=\"black\" points=\"859.5,-673.02 856,-663.02 852.5,-673.02 859.5,-673.02\"/>\n</g>\n<!-- 4 -->\n<g id=\"node5\" class=\"node\">\n<title>4</title>\n<path fill=\"#e5823b\" stroke=\"black\" d=\"M449.5,-544C449.5,-544 240.5,-544 240.5,-544 234.5,-544 228.5,-538 228.5,-532 228.5,-532 228.5,-473 228.5,-473 228.5,-467 234.5,-461 240.5,-461 240.5,-461 449.5,-461 449.5,-461 455.5,-461 461.5,-467 461.5,-473 461.5,-473 461.5,-532 461.5,-532 461.5,-538 455.5,-544 449.5,-544\"/>\n<text text-anchor=\"middle\" x=\"345\" y=\"-528.8\" font-family=\"Helvetica,sans-Serif\" font-size=\"14.00\">DiabetesPedigreeFunction &lt;= 0.675</text>\n<text text-anchor=\"middle\" x=\"345\" y=\"-513.8\" font-family=\"Helvetica,sans-Serif\" font-size=\"14.00\">gini = 0.02</text>\n<text text-anchor=\"middle\" x=\"345\" y=\"-498.8\" font-family=\"Helvetica,sans-Serif\" font-size=\"14.00\">samples = 99</text>\n<text text-anchor=\"middle\" x=\"345\" y=\"-483.8\" font-family=\"Helvetica,sans-Serif\" font-size=\"14.00\">value = [98, 1]</text>\n<text text-anchor=\"middle\" x=\"345\" y=\"-468.8\" font-family=\"Helvetica,sans-Serif\" font-size=\"14.00\">class = Negative</text>\n</g>\n<!-- 3&#45;&gt;4 -->\n<g id=\"edge4\" class=\"edge\">\n<title>3&#45;&gt;4</title>\n<path fill=\"none\" stroke=\"black\" d=\"M549.4,-593.07C518.84,-579.68 481.29,-563.22 446.76,-548.09\"/>\n<polygon fill=\"black\" stroke=\"black\" points=\"448.14,-544.87 437.58,-544.07 445.33,-551.29 448.14,-544.87\"/>\n</g>\n<!-- 9 -->\n<g id=\"node10\" class=\"node\">\n<title>9</title>\n<path fill=\"#e9965a\" stroke=\"black\" d=\"M677.5,-544C677.5,-544 546.5,-544 546.5,-544 540.5,-544 534.5,-538 534.5,-532 534.5,-532 534.5,-473 534.5,-473 534.5,-467 540.5,-461 546.5,-461 546.5,-461 677.5,-461 677.5,-461 683.5,-461 689.5,-467 689.5,-473 689.5,-473 689.5,-532 689.5,-532 689.5,-538 683.5,-544 677.5,-544\"/>\n<text text-anchor=\"middle\" x=\"612\" y=\"-528.8\" font-family=\"Helvetica,sans-Serif\" font-size=\"14.00\">BloodPressure &lt;= 56.0</text>\n<text text-anchor=\"middle\" x=\"612\" y=\"-513.8\" font-family=\"Helvetica,sans-Serif\" font-size=\"14.00\">gini = 0.245</text>\n<text text-anchor=\"middle\" x=\"612\" y=\"-498.8\" font-family=\"Helvetica,sans-Serif\" font-size=\"14.00\">samples = 7</text>\n<text text-anchor=\"middle\" x=\"612\" y=\"-483.8\" font-family=\"Helvetica,sans-Serif\" font-size=\"14.00\">value = [6, 1]</text>\n<text text-anchor=\"middle\" x=\"612\" y=\"-468.8\" font-family=\"Helvetica,sans-Serif\" font-size=\"14.00\">class = Negative</text>\n</g>\n<!-- 3&#45;&gt;9 -->\n<g id=\"edge9\" class=\"edge\">\n<title>3&#45;&gt;9</title>\n<path fill=\"none\" stroke=\"black\" d=\"M612,-579.91C612,-571.65 612,-562.86 612,-554.3\"/>\n<polygon fill=\"black\" stroke=\"black\" points=\"615.5,-554.02 612,-544.02 608.5,-554.02 615.5,-554.02\"/>\n</g>\n<!-- 5 -->\n<g id=\"node6\" class=\"node\">\n<title>5</title>\n<path fill=\"#e58139\" stroke=\"black\" d=\"M198,-417.5C198,-417.5 106,-417.5 106,-417.5 100,-417.5 94,-411.5 94,-405.5 94,-405.5 94,-361.5 94,-361.5 94,-355.5 100,-349.5 106,-349.5 106,-349.5 198,-349.5 198,-349.5 204,-349.5 210,-355.5 210,-361.5 210,-361.5 210,-405.5 210,-405.5 210,-411.5 204,-417.5 198,-417.5\"/>\n<text text-anchor=\"middle\" x=\"152\" y=\"-402.3\" font-family=\"Helvetica,sans-Serif\" font-size=\"14.00\">gini = 0.0</text>\n<text text-anchor=\"middle\" x=\"152\" y=\"-387.3\" font-family=\"Helvetica,sans-Serif\" font-size=\"14.00\">samples = 82</text>\n<text text-anchor=\"middle\" x=\"152\" y=\"-372.3\" font-family=\"Helvetica,sans-Serif\" font-size=\"14.00\">value = [82, 0]</text>\n<text text-anchor=\"middle\" x=\"152\" y=\"-357.3\" font-family=\"Helvetica,sans-Serif\" font-size=\"14.00\">class = Negative</text>\n</g>\n<!-- 4&#45;&gt;5 -->\n<g id=\"edge5\" class=\"edge\">\n<title>4&#45;&gt;5</title>\n<path fill=\"none\" stroke=\"black\" d=\"M278.04,-460.91C257.74,-448.6 235.52,-435.13 215.46,-422.97\"/>\n<polygon fill=\"black\" stroke=\"black\" points=\"217.08,-419.86 206.71,-417.67 213.45,-425.84 217.08,-419.86\"/>\n</g>\n<!-- 6 -->\n<g id=\"node7\" class=\"node\">\n<title>6</title>\n<path fill=\"#e78945\" stroke=\"black\" d=\"M449.5,-425C449.5,-425 240.5,-425 240.5,-425 234.5,-425 228.5,-419 228.5,-413 228.5,-413 228.5,-354 228.5,-354 228.5,-348 234.5,-342 240.5,-342 240.5,-342 449.5,-342 449.5,-342 455.5,-342 461.5,-348 461.5,-354 461.5,-354 461.5,-413 461.5,-413 461.5,-419 455.5,-425 449.5,-425\"/>\n<text text-anchor=\"middle\" x=\"345\" y=\"-409.8\" font-family=\"Helvetica,sans-Serif\" font-size=\"14.00\">DiabetesPedigreeFunction &lt;= 0.682</text>\n<text text-anchor=\"middle\" x=\"345\" y=\"-394.8\" font-family=\"Helvetica,sans-Serif\" font-size=\"14.00\">gini = 0.111</text>\n<text text-anchor=\"middle\" x=\"345\" y=\"-379.8\" font-family=\"Helvetica,sans-Serif\" font-size=\"14.00\">samples = 17</text>\n<text text-anchor=\"middle\" x=\"345\" y=\"-364.8\" font-family=\"Helvetica,sans-Serif\" font-size=\"14.00\">value = [16, 1]</text>\n<text text-anchor=\"middle\" x=\"345\" y=\"-349.8\" font-family=\"Helvetica,sans-Serif\" font-size=\"14.00\">class = Negative</text>\n</g>\n<!-- 4&#45;&gt;6 -->\n<g id=\"edge6\" class=\"edge\">\n<title>4&#45;&gt;6</title>\n<path fill=\"none\" stroke=\"black\" d=\"M345,-460.91C345,-452.65 345,-443.86 345,-435.3\"/>\n<polygon fill=\"black\" stroke=\"black\" points=\"348.5,-435.02 345,-425.02 341.5,-435.02 348.5,-435.02\"/>\n</g>\n<!-- 7 -->\n<g id=\"node8\" class=\"node\">\n<title>7</title>\n<path fill=\"#399de5\" stroke=\"black\" d=\"M257,-298.5C257,-298.5 171,-298.5 171,-298.5 165,-298.5 159,-292.5 159,-286.5 159,-286.5 159,-242.5 159,-242.5 159,-236.5 165,-230.5 171,-230.5 171,-230.5 257,-230.5 257,-230.5 263,-230.5 269,-236.5 269,-242.5 269,-242.5 269,-286.5 269,-286.5 269,-292.5 263,-298.5 257,-298.5\"/>\n<text text-anchor=\"middle\" x=\"214\" y=\"-283.3\" font-family=\"Helvetica,sans-Serif\" font-size=\"14.00\">gini = 0.0</text>\n<text text-anchor=\"middle\" x=\"214\" y=\"-268.3\" font-family=\"Helvetica,sans-Serif\" font-size=\"14.00\">samples = 1</text>\n<text text-anchor=\"middle\" x=\"214\" y=\"-253.3\" font-family=\"Helvetica,sans-Serif\" font-size=\"14.00\">value = [0, 1]</text>\n<text text-anchor=\"middle\" x=\"214\" y=\"-238.3\" font-family=\"Helvetica,sans-Serif\" font-size=\"14.00\">class = Positive</text>\n</g>\n<!-- 6&#45;&gt;7 -->\n<g id=\"edge7\" class=\"edge\">\n<title>6&#45;&gt;7</title>\n<path fill=\"none\" stroke=\"black\" d=\"M299.55,-341.91C286.33,-330.1 271.9,-317.22 258.73,-305.45\"/>\n<polygon fill=\"black\" stroke=\"black\" points=\"260.93,-302.72 251.14,-298.67 256.26,-307.94 260.93,-302.72\"/>\n</g>\n<!-- 8 -->\n<g id=\"node9\" class=\"node\">\n<title>8</title>\n<path fill=\"#e58139\" stroke=\"black\" d=\"M391,-298.5C391,-298.5 299,-298.5 299,-298.5 293,-298.5 287,-292.5 287,-286.5 287,-286.5 287,-242.5 287,-242.5 287,-236.5 293,-230.5 299,-230.5 299,-230.5 391,-230.5 391,-230.5 397,-230.5 403,-236.5 403,-242.5 403,-242.5 403,-286.5 403,-286.5 403,-292.5 397,-298.5 391,-298.5\"/>\n<text text-anchor=\"middle\" x=\"345\" y=\"-283.3\" font-family=\"Helvetica,sans-Serif\" font-size=\"14.00\">gini = 0.0</text>\n<text text-anchor=\"middle\" x=\"345\" y=\"-268.3\" font-family=\"Helvetica,sans-Serif\" font-size=\"14.00\">samples = 16</text>\n<text text-anchor=\"middle\" x=\"345\" y=\"-253.3\" font-family=\"Helvetica,sans-Serif\" font-size=\"14.00\">value = [16, 0]</text>\n<text text-anchor=\"middle\" x=\"345\" y=\"-238.3\" font-family=\"Helvetica,sans-Serif\" font-size=\"14.00\">class = Negative</text>\n</g>\n<!-- 6&#45;&gt;8 -->\n<g id=\"edge8\" class=\"edge\">\n<title>6&#45;&gt;8</title>\n<path fill=\"none\" stroke=\"black\" d=\"M345,-341.91C345,-331.2 345,-319.62 345,-308.78\"/>\n<polygon fill=\"black\" stroke=\"black\" points=\"348.5,-308.67 345,-298.67 341.5,-308.67 348.5,-308.67\"/>\n</g>\n<!-- 10 -->\n<g id=\"node11\" class=\"node\">\n<title>10</title>\n<path fill=\"#399de5\" stroke=\"black\" d=\"M579,-417.5C579,-417.5 493,-417.5 493,-417.5 487,-417.5 481,-411.5 481,-405.5 481,-405.5 481,-361.5 481,-361.5 481,-355.5 487,-349.5 493,-349.5 493,-349.5 579,-349.5 579,-349.5 585,-349.5 591,-355.5 591,-361.5 591,-361.5 591,-405.5 591,-405.5 591,-411.5 585,-417.5 579,-417.5\"/>\n<text text-anchor=\"middle\" x=\"536\" y=\"-402.3\" font-family=\"Helvetica,sans-Serif\" font-size=\"14.00\">gini = 0.0</text>\n<text text-anchor=\"middle\" x=\"536\" y=\"-387.3\" font-family=\"Helvetica,sans-Serif\" font-size=\"14.00\">samples = 1</text>\n<text text-anchor=\"middle\" x=\"536\" y=\"-372.3\" font-family=\"Helvetica,sans-Serif\" font-size=\"14.00\">value = [0, 1]</text>\n<text text-anchor=\"middle\" x=\"536\" y=\"-357.3\" font-family=\"Helvetica,sans-Serif\" font-size=\"14.00\">class = Positive</text>\n</g>\n<!-- 9&#45;&gt;10 -->\n<g id=\"edge10\" class=\"edge\">\n<title>9&#45;&gt;10</title>\n<path fill=\"none\" stroke=\"black\" d=\"M585.63,-460.91C578.32,-449.65 570.37,-437.42 563.03,-426.11\"/>\n<polygon fill=\"black\" stroke=\"black\" points=\"565.93,-424.15 557.54,-417.67 560.06,-427.96 565.93,-424.15\"/>\n</g>\n<!-- 11 -->\n<g id=\"node12\" class=\"node\">\n<title>11</title>\n<path fill=\"#e58139\" stroke=\"black\" d=\"M713,-417.5C713,-417.5 621,-417.5 621,-417.5 615,-417.5 609,-411.5 609,-405.5 609,-405.5 609,-361.5 609,-361.5 609,-355.5 615,-349.5 621,-349.5 621,-349.5 713,-349.5 713,-349.5 719,-349.5 725,-355.5 725,-361.5 725,-361.5 725,-405.5 725,-405.5 725,-411.5 719,-417.5 713,-417.5\"/>\n<text text-anchor=\"middle\" x=\"667\" y=\"-402.3\" font-family=\"Helvetica,sans-Serif\" font-size=\"14.00\">gini = 0.0</text>\n<text text-anchor=\"middle\" x=\"667\" y=\"-387.3\" font-family=\"Helvetica,sans-Serif\" font-size=\"14.00\">samples = 6</text>\n<text text-anchor=\"middle\" x=\"667\" y=\"-372.3\" font-family=\"Helvetica,sans-Serif\" font-size=\"14.00\">value = [6, 0]</text>\n<text text-anchor=\"middle\" x=\"667\" y=\"-357.3\" font-family=\"Helvetica,sans-Serif\" font-size=\"14.00\">class = Negative</text>\n</g>\n<!-- 9&#45;&gt;11 -->\n<g id=\"edge11\" class=\"edge\">\n<title>9&#45;&gt;11</title>\n<path fill=\"none\" stroke=\"black\" d=\"M631.08,-460.91C636.27,-449.87 641.9,-437.9 647.13,-426.77\"/>\n<polygon fill=\"black\" stroke=\"black\" points=\"650.32,-428.21 651.41,-417.67 643.99,-425.23 650.32,-428.21\"/>\n</g>\n<!-- 13 -->\n<g id=\"node14\" class=\"node\">\n<title>13</title>\n<path fill=\"#399de5\" stroke=\"black\" d=\"M833,-536.5C833,-536.5 747,-536.5 747,-536.5 741,-536.5 735,-530.5 735,-524.5 735,-524.5 735,-480.5 735,-480.5 735,-474.5 741,-468.5 747,-468.5 747,-468.5 833,-468.5 833,-468.5 839,-468.5 845,-474.5 845,-480.5 845,-480.5 845,-524.5 845,-524.5 845,-530.5 839,-536.5 833,-536.5\"/>\n<text text-anchor=\"middle\" x=\"790\" y=\"-521.3\" font-family=\"Helvetica,sans-Serif\" font-size=\"14.00\">gini = 0.0</text>\n<text text-anchor=\"middle\" x=\"790\" y=\"-506.3\" font-family=\"Helvetica,sans-Serif\" font-size=\"14.00\">samples = 1</text>\n<text text-anchor=\"middle\" x=\"790\" y=\"-491.3\" font-family=\"Helvetica,sans-Serif\" font-size=\"14.00\">value = [0, 1]</text>\n<text text-anchor=\"middle\" x=\"790\" y=\"-476.3\" font-family=\"Helvetica,sans-Serif\" font-size=\"14.00\">class = Positive</text>\n</g>\n<!-- 12&#45;&gt;13 -->\n<g id=\"edge13\" class=\"edge\">\n<title>12&#45;&gt;13</title>\n<path fill=\"none\" stroke=\"black\" d=\"M833.1,-579.91C826.81,-568.76 819.99,-556.66 813.66,-545.44\"/>\n<polygon fill=\"black\" stroke=\"black\" points=\"816.67,-543.66 808.71,-536.67 810.57,-547.1 816.67,-543.66\"/>\n</g>\n<!-- 14 -->\n<g id=\"node15\" class=\"node\">\n<title>14</title>\n<path fill=\"#e58139\" stroke=\"black\" d=\"M967,-536.5C967,-536.5 875,-536.5 875,-536.5 869,-536.5 863,-530.5 863,-524.5 863,-524.5 863,-480.5 863,-480.5 863,-474.5 869,-468.5 875,-468.5 875,-468.5 967,-468.5 967,-468.5 973,-468.5 979,-474.5 979,-480.5 979,-480.5 979,-524.5 979,-524.5 979,-530.5 973,-536.5 967,-536.5\"/>\n<text text-anchor=\"middle\" x=\"921\" y=\"-521.3\" font-family=\"Helvetica,sans-Serif\" font-size=\"14.00\">gini = 0.0</text>\n<text text-anchor=\"middle\" x=\"921\" y=\"-506.3\" font-family=\"Helvetica,sans-Serif\" font-size=\"14.00\">samples = 3</text>\n<text text-anchor=\"middle\" x=\"921\" y=\"-491.3\" font-family=\"Helvetica,sans-Serif\" font-size=\"14.00\">value = [3, 0]</text>\n<text text-anchor=\"middle\" x=\"921\" y=\"-476.3\" font-family=\"Helvetica,sans-Serif\" font-size=\"14.00\">class = Negative</text>\n</g>\n<!-- 12&#45;&gt;14 -->\n<g id=\"edge14\" class=\"edge\">\n<title>12&#45;&gt;14</title>\n<path fill=\"none\" stroke=\"black\" d=\"M878.55,-579.91C884.74,-568.76 891.47,-556.66 897.7,-545.44\"/>\n<polygon fill=\"black\" stroke=\"black\" points=\"900.78,-547.11 902.57,-536.67 894.66,-543.71 900.78,-547.11\"/>\n</g>\n<!-- 16 -->\n<g id=\"node17\" class=\"node\">\n<title>16</title>\n<path fill=\"#eba069\" stroke=\"black\" d=\"M1518.5,-663C1518.5,-663 1417.5,-663 1417.5,-663 1411.5,-663 1405.5,-657 1405.5,-651 1405.5,-651 1405.5,-592 1405.5,-592 1405.5,-586 1411.5,-580 1417.5,-580 1417.5,-580 1518.5,-580 1518.5,-580 1524.5,-580 1530.5,-586 1530.5,-592 1530.5,-592 1530.5,-651 1530.5,-651 1530.5,-657 1524.5,-663 1518.5,-663\"/>\n<text text-anchor=\"middle\" x=\"1468\" y=\"-647.8\" font-family=\"Helvetica,sans-Serif\" font-size=\"14.00\">Glucose &lt;= 131.5</text>\n<text text-anchor=\"middle\" x=\"1468\" y=\"-632.8\" font-family=\"Helvetica,sans-Serif\" font-size=\"14.00\">gini = 0.315</text>\n<text text-anchor=\"middle\" x=\"1468\" y=\"-617.8\" font-family=\"Helvetica,sans-Serif\" font-size=\"14.00\">samples = 199</text>\n<text text-anchor=\"middle\" x=\"1468\" y=\"-602.8\" font-family=\"Helvetica,sans-Serif\" font-size=\"14.00\">value = [160, 39]</text>\n<text text-anchor=\"middle\" x=\"1468\" y=\"-587.8\" font-family=\"Helvetica,sans-Serif\" font-size=\"14.00\">class = Negative</text>\n</g>\n<!-- 15&#45;&gt;16 -->\n<g id=\"edge16\" class=\"edge\">\n<title>15&#45;&gt;16</title>\n<path fill=\"none\" stroke=\"black\" d=\"M1815.19,-718.99C1738,-697.54 1617.62,-664.08 1540.81,-642.73\"/>\n<polygon fill=\"black\" stroke=\"black\" points=\"1541.31,-639.24 1530.73,-639.93 1539.43,-645.98 1541.31,-639.24\"/>\n</g>\n<!-- 49 -->\n<g id=\"node50\" class=\"node\">\n<title>49</title>\n<path fill=\"#fbede3\" stroke=\"black\" d=\"M2215.5,-663C2215.5,-663 2114.5,-663 2114.5,-663 2108.5,-663 2102.5,-657 2102.5,-651 2102.5,-651 2102.5,-592 2102.5,-592 2102.5,-586 2108.5,-580 2114.5,-580 2114.5,-580 2215.5,-580 2215.5,-580 2221.5,-580 2227.5,-586 2227.5,-592 2227.5,-592 2227.5,-651 2227.5,-651 2227.5,-657 2221.5,-663 2215.5,-663\"/>\n<text text-anchor=\"middle\" x=\"2165\" y=\"-647.8\" font-family=\"Helvetica,sans-Serif\" font-size=\"14.00\">Glucose &lt;= 107.5</text>\n<text text-anchor=\"middle\" x=\"2165\" y=\"-632.8\" font-family=\"Helvetica,sans-Serif\" font-size=\"14.00\">gini = 0.497</text>\n<text text-anchor=\"middle\" x=\"2165\" y=\"-617.8\" font-family=\"Helvetica,sans-Serif\" font-size=\"14.00\">samples = 173</text>\n<text text-anchor=\"middle\" x=\"2165\" y=\"-602.8\" font-family=\"Helvetica,sans-Serif\" font-size=\"14.00\">value = [93, 80]</text>\n<text text-anchor=\"middle\" x=\"2165\" y=\"-587.8\" font-family=\"Helvetica,sans-Serif\" font-size=\"14.00\">class = Negative</text>\n</g>\n<!-- 15&#45;&gt;49 -->\n<g id=\"edge49\" class=\"edge\">\n<title>15&#45;&gt;49</title>\n<path fill=\"none\" stroke=\"black\" d=\"M1962.6,-708.3C2002.96,-691.19 2052.79,-670.07 2092.91,-653.06\"/>\n<polygon fill=\"black\" stroke=\"black\" points=\"2094.52,-656.18 2102.36,-649.05 2091.79,-649.73 2094.52,-656.18\"/>\n</g>\n<!-- 17 -->\n<g id=\"node18\" class=\"node\">\n<title>17</title>\n<path fill=\"#e9975b\" stroke=\"black\" d=\"M1154.5,-544C1154.5,-544 1061.5,-544 1061.5,-544 1055.5,-544 1049.5,-538 1049.5,-532 1049.5,-532 1049.5,-473 1049.5,-473 1049.5,-467 1055.5,-461 1061.5,-461 1061.5,-461 1154.5,-461 1154.5,-461 1160.5,-461 1166.5,-467 1166.5,-473 1166.5,-473 1166.5,-532 1166.5,-532 1166.5,-538 1160.5,-544 1154.5,-544\"/>\n<text text-anchor=\"middle\" x=\"1108\" y=\"-528.8\" font-family=\"Helvetica,sans-Serif\" font-size=\"14.00\">BMI &lt;= 45.4</text>\n<text text-anchor=\"middle\" x=\"1108\" y=\"-513.8\" font-family=\"Helvetica,sans-Serif\" font-size=\"14.00\">gini = 0.25</text>\n<text text-anchor=\"middle\" x=\"1108\" y=\"-498.8\" font-family=\"Helvetica,sans-Serif\" font-size=\"14.00\">samples = 171</text>\n<text text-anchor=\"middle\" x=\"1108\" y=\"-483.8\" font-family=\"Helvetica,sans-Serif\" font-size=\"14.00\">value = [146, 25]</text>\n<text text-anchor=\"middle\" x=\"1108\" y=\"-468.8\" font-family=\"Helvetica,sans-Serif\" font-size=\"14.00\">class = Negative</text>\n</g>\n<!-- 16&#45;&gt;17 -->\n<g id=\"edge17\" class=\"edge\">\n<title>16&#45;&gt;17</title>\n<path fill=\"none\" stroke=\"black\" d=\"M1405.29,-600.12C1341.39,-579.35 1242.55,-547.23 1176.6,-525.79\"/>\n<polygon fill=\"black\" stroke=\"black\" points=\"1177.3,-522.34 1166.71,-522.58 1175.14,-529 1177.3,-522.34\"/>\n</g>\n<!-- 36 -->\n<g id=\"node37\" class=\"node\">\n<title>36</title>\n<path fill=\"#ffffff\" stroke=\"black\" d=\"M1533.5,-544C1533.5,-544 1402.5,-544 1402.5,-544 1396.5,-544 1390.5,-538 1390.5,-532 1390.5,-532 1390.5,-473 1390.5,-473 1390.5,-467 1396.5,-461 1402.5,-461 1402.5,-461 1533.5,-461 1533.5,-461 1539.5,-461 1545.5,-467 1545.5,-473 1545.5,-473 1545.5,-532 1545.5,-532 1545.5,-538 1539.5,-544 1533.5,-544\"/>\n<text text-anchor=\"middle\" x=\"1468\" y=\"-528.8\" font-family=\"Helvetica,sans-Serif\" font-size=\"14.00\">BloodPressure &lt;= 72.0</text>\n<text text-anchor=\"middle\" x=\"1468\" y=\"-513.8\" font-family=\"Helvetica,sans-Serif\" font-size=\"14.00\">gini = 0.5</text>\n<text text-anchor=\"middle\" x=\"1468\" y=\"-498.8\" font-family=\"Helvetica,sans-Serif\" font-size=\"14.00\">samples = 28</text>\n<text text-anchor=\"middle\" x=\"1468\" y=\"-483.8\" font-family=\"Helvetica,sans-Serif\" font-size=\"14.00\">value = [14, 14]</text>\n<text text-anchor=\"middle\" x=\"1468\" y=\"-468.8\" font-family=\"Helvetica,sans-Serif\" font-size=\"14.00\">class = Negative</text>\n</g>\n<!-- 16&#45;&gt;36 -->\n<g id=\"edge36\" class=\"edge\">\n<title>16&#45;&gt;36</title>\n<path fill=\"none\" stroke=\"black\" d=\"M1468,-579.91C1468,-571.65 1468,-562.86 1468,-554.3\"/>\n<polygon fill=\"black\" stroke=\"black\" points=\"1471.5,-554.02 1468,-544.02 1464.5,-554.02 1471.5,-554.02\"/>\n</g>\n<!-- 18 -->\n<g id=\"node19\" class=\"node\">\n<title>18</title>\n<path fill=\"#e99254\" stroke=\"black\" d=\"M965.5,-425C965.5,-425 756.5,-425 756.5,-425 750.5,-425 744.5,-419 744.5,-413 744.5,-413 744.5,-354 744.5,-354 744.5,-348 750.5,-342 756.5,-342 756.5,-342 965.5,-342 965.5,-342 971.5,-342 977.5,-348 977.5,-354 977.5,-354 977.5,-413 977.5,-413 977.5,-419 971.5,-425 965.5,-425\"/>\n<text text-anchor=\"middle\" x=\"861\" y=\"-409.8\" font-family=\"Helvetica,sans-Serif\" font-size=\"14.00\">DiabetesPedigreeFunction &lt;= 0.509</text>\n<text text-anchor=\"middle\" x=\"861\" y=\"-394.8\" font-family=\"Helvetica,sans-Serif\" font-size=\"14.00\">gini = 0.213</text>\n<text text-anchor=\"middle\" x=\"861\" y=\"-379.8\" font-family=\"Helvetica,sans-Serif\" font-size=\"14.00\">samples = 165</text>\n<text text-anchor=\"middle\" x=\"861\" y=\"-364.8\" font-family=\"Helvetica,sans-Serif\" font-size=\"14.00\">value = [145, 20]</text>\n<text text-anchor=\"middle\" x=\"861\" y=\"-349.8\" font-family=\"Helvetica,sans-Serif\" font-size=\"14.00\">class = Negative</text>\n</g>\n<!-- 17&#45;&gt;18 -->\n<g id=\"edge18\" class=\"edge\">\n<title>17&#45;&gt;18</title>\n<path fill=\"none\" stroke=\"black\" d=\"M1049.46,-473.77C1021.55,-460.55 987.44,-444.39 955.95,-429.48\"/>\n<polygon fill=\"black\" stroke=\"black\" points=\"957.25,-426.22 946.71,-425.1 954.25,-432.55 957.25,-426.22\"/>\n</g>\n<!-- 33 -->\n<g id=\"node34\" class=\"node\">\n<title>33</title>\n<path fill=\"#61b1ea\" stroke=\"black\" d=\"M1151,-425C1151,-425 1065,-425 1065,-425 1059,-425 1053,-419 1053,-413 1053,-413 1053,-354 1053,-354 1053,-348 1059,-342 1065,-342 1065,-342 1151,-342 1151,-342 1157,-342 1163,-348 1163,-354 1163,-354 1163,-413 1163,-413 1163,-419 1157,-425 1151,-425\"/>\n<text text-anchor=\"middle\" x=\"1108\" y=\"-409.8\" font-family=\"Helvetica,sans-Serif\" font-size=\"14.00\">Age &lt;= 22.5</text>\n<text text-anchor=\"middle\" x=\"1108\" y=\"-394.8\" font-family=\"Helvetica,sans-Serif\" font-size=\"14.00\">gini = 0.278</text>\n<text text-anchor=\"middle\" x=\"1108\" y=\"-379.8\" font-family=\"Helvetica,sans-Serif\" font-size=\"14.00\">samples = 6</text>\n<text text-anchor=\"middle\" x=\"1108\" y=\"-364.8\" font-family=\"Helvetica,sans-Serif\" font-size=\"14.00\">value = [1, 5]</text>\n<text text-anchor=\"middle\" x=\"1108\" y=\"-349.8\" font-family=\"Helvetica,sans-Serif\" font-size=\"14.00\">class = Positive</text>\n</g>\n<!-- 17&#45;&gt;33 -->\n<g id=\"edge33\" class=\"edge\">\n<title>17&#45;&gt;33</title>\n<path fill=\"none\" stroke=\"black\" d=\"M1108,-460.91C1108,-452.65 1108,-443.86 1108,-435.3\"/>\n<polygon fill=\"black\" stroke=\"black\" points=\"1111.5,-435.02 1108,-425.02 1104.5,-435.02 1111.5,-435.02\"/>\n</g>\n<!-- 19 -->\n<g id=\"node20\" class=\"node\">\n<title>19</title>\n<path fill=\"#e78a47\" stroke=\"black\" d=\"M543,-306C543,-306 433,-306 433,-306 427,-306 421,-300 421,-294 421,-294 421,-235 421,-235 421,-229 427,-223 433,-223 433,-223 543,-223 543,-223 549,-223 555,-229 555,-235 555,-235 555,-294 555,-294 555,-300 549,-306 543,-306\"/>\n<text text-anchor=\"middle\" x=\"488\" y=\"-290.8\" font-family=\"Helvetica,sans-Serif\" font-size=\"14.00\">Pregnancies &lt;= 7.0</text>\n<text text-anchor=\"middle\" x=\"488\" y=\"-275.8\" font-family=\"Helvetica,sans-Serif\" font-size=\"14.00\">gini = 0.122</text>\n<text text-anchor=\"middle\" x=\"488\" y=\"-260.8\" font-family=\"Helvetica,sans-Serif\" font-size=\"14.00\">samples = 107</text>\n<text text-anchor=\"middle\" x=\"488\" y=\"-245.8\" font-family=\"Helvetica,sans-Serif\" font-size=\"14.00\">value = [100.0, 7.0]</text>\n<text text-anchor=\"middle\" x=\"488\" y=\"-230.8\" font-family=\"Helvetica,sans-Serif\" font-size=\"14.00\">class = Negative</text>\n</g>\n<!-- 18&#45;&gt;19 -->\n<g id=\"edge19\" class=\"edge\">\n<title>18&#45;&gt;19</title>\n<path fill=\"none\" stroke=\"black\" d=\"M744.4,-345.28C740.89,-344.17 737.42,-343.08 734,-342 677.43,-324.18 613.45,-304.3 564.93,-289.27\"/>\n<polygon fill=\"black\" stroke=\"black\" points=\"565.71,-285.85 555.12,-286.23 563.64,-292.53 565.71,-285.85\"/>\n</g>\n<!-- 26 -->\n<g id=\"node27\" class=\"node\">\n<title>26</title>\n<path fill=\"#eda572\" stroke=\"black\" d=\"M907,-306C907,-306 815,-306 815,-306 809,-306 803,-300 803,-294 803,-294 803,-235 803,-235 803,-229 809,-223 815,-223 815,-223 907,-223 907,-223 913,-223 919,-229 919,-235 919,-235 919,-294 919,-294 919,-300 913,-306 907,-306\"/>\n<text text-anchor=\"middle\" x=\"861\" y=\"-290.8\" font-family=\"Helvetica,sans-Serif\" font-size=\"14.00\">BMI &lt;= 32.1</text>\n<text text-anchor=\"middle\" x=\"861\" y=\"-275.8\" font-family=\"Helvetica,sans-Serif\" font-size=\"14.00\">gini = 0.348</text>\n<text text-anchor=\"middle\" x=\"861\" y=\"-260.8\" font-family=\"Helvetica,sans-Serif\" font-size=\"14.00\">samples = 58</text>\n<text text-anchor=\"middle\" x=\"861\" y=\"-245.8\" font-family=\"Helvetica,sans-Serif\" font-size=\"14.00\">value = [45, 13]</text>\n<text text-anchor=\"middle\" x=\"861\" y=\"-230.8\" font-family=\"Helvetica,sans-Serif\" font-size=\"14.00\">class = Negative</text>\n</g>\n<!-- 18&#45;&gt;26 -->\n<g id=\"edge26\" class=\"edge\">\n<title>18&#45;&gt;26</title>\n<path fill=\"none\" stroke=\"black\" d=\"M861,-341.91C861,-333.65 861,-324.86 861,-316.3\"/>\n<polygon fill=\"black\" stroke=\"black\" points=\"864.5,-316.02 861,-306.02 857.5,-316.02 864.5,-316.02\"/>\n</g>\n<!-- 20 -->\n<g id=\"node21\" class=\"node\">\n<title>20</title>\n<path fill=\"#e68743\" stroke=\"black\" d=\"M256.5,-187C256.5,-187 125.5,-187 125.5,-187 119.5,-187 113.5,-181 113.5,-175 113.5,-175 113.5,-116 113.5,-116 113.5,-110 119.5,-104 125.5,-104 125.5,-104 256.5,-104 256.5,-104 262.5,-104 268.5,-110 268.5,-116 268.5,-116 268.5,-175 268.5,-175 268.5,-181 262.5,-187 256.5,-187\"/>\n<text text-anchor=\"middle\" x=\"191\" y=\"-171.8\" font-family=\"Helvetica,sans-Serif\" font-size=\"14.00\">BloodPressure &lt;= 22.0</text>\n<text text-anchor=\"middle\" x=\"191\" y=\"-156.8\" font-family=\"Helvetica,sans-Serif\" font-size=\"14.00\">gini = 0.092</text>\n<text text-anchor=\"middle\" x=\"191\" y=\"-141.8\" font-family=\"Helvetica,sans-Serif\" font-size=\"14.00\">samples = 104</text>\n<text text-anchor=\"middle\" x=\"191\" y=\"-126.8\" font-family=\"Helvetica,sans-Serif\" font-size=\"14.00\">value = [99, 5]</text>\n<text text-anchor=\"middle\" x=\"191\" y=\"-111.8\" font-family=\"Helvetica,sans-Serif\" font-size=\"14.00\">class = Negative</text>\n</g>\n<!-- 19&#45;&gt;20 -->\n<g id=\"edge20\" class=\"edge\">\n<title>19&#45;&gt;20</title>\n<path fill=\"none\" stroke=\"black\" d=\"M420.73,-226.95C417.79,-225.58 414.88,-224.26 412,-223 368.85,-204.17 319.45,-186.71 278.31,-173.23\"/>\n<polygon fill=\"black\" stroke=\"black\" points=\"279.18,-169.83 268.58,-170.07 277.01,-176.49 279.18,-169.83\"/>\n</g>\n<!-- 23 -->\n<g id=\"node24\" class=\"node\">\n<title>23</title>\n<path fill=\"#9ccef2\" stroke=\"black\" d=\"M513,-187C513,-187 403,-187 403,-187 397,-187 391,-181 391,-175 391,-175 391,-116 391,-116 391,-110 397,-104 403,-104 403,-104 513,-104 513,-104 519,-104 525,-110 525,-116 525,-116 525,-175 525,-175 525,-181 519,-187 513,-187\"/>\n<text text-anchor=\"middle\" x=\"458\" y=\"-171.8\" font-family=\"Helvetica,sans-Serif\" font-size=\"14.00\">Pregnancies &lt;= 9.5</text>\n<text text-anchor=\"middle\" x=\"458\" y=\"-156.8\" font-family=\"Helvetica,sans-Serif\" font-size=\"14.00\">gini = 0.444</text>\n<text text-anchor=\"middle\" x=\"458\" y=\"-141.8\" font-family=\"Helvetica,sans-Serif\" font-size=\"14.00\">samples = 3</text>\n<text text-anchor=\"middle\" x=\"458\" y=\"-126.8\" font-family=\"Helvetica,sans-Serif\" font-size=\"14.00\">value = [1, 2]</text>\n<text text-anchor=\"middle\" x=\"458\" y=\"-111.8\" font-family=\"Helvetica,sans-Serif\" font-size=\"14.00\">class = Positive</text>\n</g>\n<!-- 19&#45;&gt;23 -->\n<g id=\"edge23\" class=\"edge\">\n<title>19&#45;&gt;23</title>\n<path fill=\"none\" stroke=\"black\" d=\"M477.59,-222.91C475.43,-214.47 473.12,-205.48 470.88,-196.74\"/>\n<polygon fill=\"black\" stroke=\"black\" points=\"474.26,-195.84 468.39,-187.02 467.48,-197.58 474.26,-195.84\"/>\n</g>\n<!-- 21 -->\n<g id=\"node22\" class=\"node\">\n<title>21</title>\n<path fill=\"#399de5\" stroke=\"black\" d=\"M98,-68C98,-68 12,-68 12,-68 6,-68 0,-62 0,-56 0,-56 0,-12 0,-12 0,-6 6,0 12,0 12,0 98,0 98,0 104,0 110,-6 110,-12 110,-12 110,-56 110,-56 110,-62 104,-68 98,-68\"/>\n<text text-anchor=\"middle\" x=\"55\" y=\"-52.8\" font-family=\"Helvetica,sans-Serif\" font-size=\"14.00\">gini = 0.0</text>\n<text text-anchor=\"middle\" x=\"55\" y=\"-37.8\" font-family=\"Helvetica,sans-Serif\" font-size=\"14.00\">samples = 1</text>\n<text text-anchor=\"middle\" x=\"55\" y=\"-22.8\" font-family=\"Helvetica,sans-Serif\" font-size=\"14.00\">value = [0, 1]</text>\n<text text-anchor=\"middle\" x=\"55\" y=\"-7.8\" font-family=\"Helvetica,sans-Serif\" font-size=\"14.00\">class = Positive</text>\n</g>\n<!-- 20&#45;&gt;21 -->\n<g id=\"edge21\" class=\"edge\">\n<title>20&#45;&gt;21</title>\n<path fill=\"none\" stroke=\"black\" d=\"M140.36,-103.73C128.58,-94.24 116.05,-84.16 104.33,-74.72\"/>\n<polygon fill=\"black\" stroke=\"black\" points=\"106.34,-71.84 96.36,-68.3 101.95,-77.3 106.34,-71.84\"/>\n</g>\n<!-- 22 -->\n<g id=\"node23\" class=\"node\">\n<title>22</title>\n<path fill=\"#e68641\" stroke=\"black\" d=\"M241.5,-68C241.5,-68 140.5,-68 140.5,-68 134.5,-68 128.5,-62 128.5,-56 128.5,-56 128.5,-12 128.5,-12 128.5,-6 134.5,0 140.5,0 140.5,0 241.5,0 241.5,0 247.5,0 253.5,-6 253.5,-12 253.5,-12 253.5,-56 253.5,-56 253.5,-62 247.5,-68 241.5,-68\"/>\n<text text-anchor=\"middle\" x=\"191\" y=\"-52.8\" font-family=\"Helvetica,sans-Serif\" font-size=\"14.00\">gini = 0.075</text>\n<text text-anchor=\"middle\" x=\"191\" y=\"-37.8\" font-family=\"Helvetica,sans-Serif\" font-size=\"14.00\">samples = 103</text>\n<text text-anchor=\"middle\" x=\"191\" y=\"-22.8\" font-family=\"Helvetica,sans-Serif\" font-size=\"14.00\">value = [99.0, 4.0]</text>\n<text text-anchor=\"middle\" x=\"191\" y=\"-7.8\" font-family=\"Helvetica,sans-Serif\" font-size=\"14.00\">class = Negative</text>\n</g>\n<!-- 20&#45;&gt;22 -->\n<g id=\"edge22\" class=\"edge\">\n<title>20&#45;&gt;22</title>\n<path fill=\"none\" stroke=\"black\" d=\"M191,-103.73C191,-95.52 191,-86.86 191,-78.56\"/>\n<polygon fill=\"black\" stroke=\"black\" points=\"194.5,-78.3 191,-68.3 187.5,-78.3 194.5,-78.3\"/>\n</g>\n<!-- 24 -->\n<g id=\"node25\" class=\"node\">\n<title>24</title>\n<path fill=\"#399de5\" stroke=\"black\" d=\"M370,-68C370,-68 284,-68 284,-68 278,-68 272,-62 272,-56 272,-56 272,-12 272,-12 272,-6 278,0 284,0 284,0 370,0 370,0 376,0 382,-6 382,-12 382,-12 382,-56 382,-56 382,-62 376,-68 370,-68\"/>\n<text text-anchor=\"middle\" x=\"327\" y=\"-52.8\" font-family=\"Helvetica,sans-Serif\" font-size=\"14.00\">gini = 0.0</text>\n<text text-anchor=\"middle\" x=\"327\" y=\"-37.8\" font-family=\"Helvetica,sans-Serif\" font-size=\"14.00\">samples = 2</text>\n<text text-anchor=\"middle\" x=\"327\" y=\"-22.8\" font-family=\"Helvetica,sans-Serif\" font-size=\"14.00\">value = [0, 2]</text>\n<text text-anchor=\"middle\" x=\"327\" y=\"-7.8\" font-family=\"Helvetica,sans-Serif\" font-size=\"14.00\">class = Positive</text>\n</g>\n<!-- 23&#45;&gt;24 -->\n<g id=\"edge24\" class=\"edge\">\n<title>23&#45;&gt;24</title>\n<path fill=\"none\" stroke=\"black\" d=\"M409.22,-103.73C397.87,-94.24 385.81,-84.16 374.51,-74.72\"/>\n<polygon fill=\"black\" stroke=\"black\" points=\"376.76,-72.03 366.84,-68.3 372.27,-77.4 376.76,-72.03\"/>\n</g>\n<!-- 25 -->\n<g id=\"node26\" class=\"node\">\n<title>25</title>\n<path fill=\"#e58139\" stroke=\"black\" d=\"M504,-68C504,-68 412,-68 412,-68 406,-68 400,-62 400,-56 400,-56 400,-12 400,-12 400,-6 406,0 412,0 412,0 504,0 504,0 510,0 516,-6 516,-12 516,-12 516,-56 516,-56 516,-62 510,-68 504,-68\"/>\n<text text-anchor=\"middle\" x=\"458\" y=\"-52.8\" font-family=\"Helvetica,sans-Serif\" font-size=\"14.00\">gini = 0.0</text>\n<text text-anchor=\"middle\" x=\"458\" y=\"-37.8\" font-family=\"Helvetica,sans-Serif\" font-size=\"14.00\">samples = 1</text>\n<text text-anchor=\"middle\" x=\"458\" y=\"-22.8\" font-family=\"Helvetica,sans-Serif\" font-size=\"14.00\">value = [1, 0]</text>\n<text text-anchor=\"middle\" x=\"458\" y=\"-7.8\" font-family=\"Helvetica,sans-Serif\" font-size=\"14.00\">class = Negative</text>\n</g>\n<!-- 23&#45;&gt;25 -->\n<g id=\"edge25\" class=\"edge\">\n<title>23&#45;&gt;25</title>\n<path fill=\"none\" stroke=\"black\" d=\"M458,-103.73C458,-95.52 458,-86.86 458,-78.56\"/>\n<polygon fill=\"black\" stroke=\"black\" points=\"461.5,-78.3 458,-68.3 454.5,-78.3 461.5,-78.3\"/>\n</g>\n<!-- 27 -->\n<g id=\"node28\" class=\"node\">\n<title>27</title>\n<path fill=\"#e68642\" stroke=\"black\" d=\"M800.5,-187C800.5,-187 591.5,-187 591.5,-187 585.5,-187 579.5,-181 579.5,-175 579.5,-175 579.5,-116 579.5,-116 579.5,-110 585.5,-104 591.5,-104 591.5,-104 800.5,-104 800.5,-104 806.5,-104 812.5,-110 812.5,-116 812.5,-116 812.5,-175 812.5,-175 812.5,-181 806.5,-187 800.5,-187\"/>\n<text text-anchor=\"middle\" x=\"696\" y=\"-171.8\" font-family=\"Helvetica,sans-Serif\" font-size=\"14.00\">DiabetesPedigreeFunction &lt;= 1.243</text>\n<text text-anchor=\"middle\" x=\"696\" y=\"-156.8\" font-family=\"Helvetica,sans-Serif\" font-size=\"14.00\">gini = 0.08</text>\n<text text-anchor=\"middle\" x=\"696\" y=\"-141.8\" font-family=\"Helvetica,sans-Serif\" font-size=\"14.00\">samples = 24</text>\n<text text-anchor=\"middle\" x=\"696\" y=\"-126.8\" font-family=\"Helvetica,sans-Serif\" font-size=\"14.00\">value = [23, 1]</text>\n<text text-anchor=\"middle\" x=\"696\" y=\"-111.8\" font-family=\"Helvetica,sans-Serif\" font-size=\"14.00\">class = Negative</text>\n</g>\n<!-- 26&#45;&gt;27 -->\n<g id=\"edge27\" class=\"edge\">\n<title>26&#45;&gt;27</title>\n<path fill=\"none\" stroke=\"black\" d=\"M803.75,-222.91C790.06,-213.2 775.34,-202.76 761.31,-192.81\"/>\n<polygon fill=\"black\" stroke=\"black\" points=\"763.33,-189.95 753.14,-187.02 759.28,-195.66 763.33,-189.95\"/>\n</g>\n<!-- 30 -->\n<g id=\"node31\" class=\"node\">\n<title>30</title>\n<path fill=\"#f3c6a5\" stroke=\"black\" d=\"M935.5,-187C935.5,-187 842.5,-187 842.5,-187 836.5,-187 830.5,-181 830.5,-175 830.5,-175 830.5,-116 830.5,-116 830.5,-110 836.5,-104 842.5,-104 842.5,-104 935.5,-104 935.5,-104 941.5,-104 947.5,-110 947.5,-116 947.5,-116 947.5,-175 947.5,-175 947.5,-181 941.5,-187 935.5,-187\"/>\n<text text-anchor=\"middle\" x=\"889\" y=\"-171.8\" font-family=\"Helvetica,sans-Serif\" font-size=\"14.00\">Glucose &lt;= 92.0</text>\n<text text-anchor=\"middle\" x=\"889\" y=\"-156.8\" font-family=\"Helvetica,sans-Serif\" font-size=\"14.00\">gini = 0.457</text>\n<text text-anchor=\"middle\" x=\"889\" y=\"-141.8\" font-family=\"Helvetica,sans-Serif\" font-size=\"14.00\">samples = 34</text>\n<text text-anchor=\"middle\" x=\"889\" y=\"-126.8\" font-family=\"Helvetica,sans-Serif\" font-size=\"14.00\">value = [22, 12]</text>\n<text text-anchor=\"middle\" x=\"889\" y=\"-111.8\" font-family=\"Helvetica,sans-Serif\" font-size=\"14.00\">class = Negative</text>\n</g>\n<!-- 26&#45;&gt;30 -->\n<g id=\"edge30\" class=\"edge\">\n<title>26&#45;&gt;30</title>\n<path fill=\"none\" stroke=\"black\" d=\"M870.71,-222.91C872.71,-214.56 874.84,-205.67 876.91,-197.02\"/>\n<polygon fill=\"black\" stroke=\"black\" points=\"880.38,-197.56 879.3,-187.02 873.57,-195.93 880.38,-197.56\"/>\n</g>\n<!-- 28 -->\n<g id=\"node29\" class=\"node\">\n<title>28</title>\n<path fill=\"#e58139\" stroke=\"black\" d=\"M638,-68C638,-68 546,-68 546,-68 540,-68 534,-62 534,-56 534,-56 534,-12 534,-12 534,-6 540,0 546,0 546,0 638,0 638,0 644,0 650,-6 650,-12 650,-12 650,-56 650,-56 650,-62 644,-68 638,-68\"/>\n<text text-anchor=\"middle\" x=\"592\" y=\"-52.8\" font-family=\"Helvetica,sans-Serif\" font-size=\"14.00\">gini = 0.0</text>\n<text text-anchor=\"middle\" x=\"592\" y=\"-37.8\" font-family=\"Helvetica,sans-Serif\" font-size=\"14.00\">samples = 22</text>\n<text text-anchor=\"middle\" x=\"592\" y=\"-22.8\" font-family=\"Helvetica,sans-Serif\" font-size=\"14.00\">value = [22, 0]</text>\n<text text-anchor=\"middle\" x=\"592\" y=\"-7.8\" font-family=\"Helvetica,sans-Serif\" font-size=\"14.00\">class = Negative</text>\n</g>\n<!-- 27&#45;&gt;28 -->\n<g id=\"edge28\" class=\"edge\">\n<title>27&#45;&gt;28</title>\n<path fill=\"none\" stroke=\"black\" d=\"M657.27,-103.73C648.61,-94.61 639.42,-84.93 630.76,-75.81\"/>\n<polygon fill=\"black\" stroke=\"black\" points=\"633.05,-73.14 623.63,-68.3 627.98,-77.96 633.05,-73.14\"/>\n</g>\n<!-- 29 -->\n<g id=\"node30\" class=\"node\">\n<title>29</title>\n<path fill=\"#ffffff\" stroke=\"black\" d=\"M772,-68C772,-68 680,-68 680,-68 674,-68 668,-62 668,-56 668,-56 668,-12 668,-12 668,-6 674,0 680,0 680,0 772,0 772,0 778,0 784,-6 784,-12 784,-12 784,-56 784,-56 784,-62 778,-68 772,-68\"/>\n<text text-anchor=\"middle\" x=\"726\" y=\"-52.8\" font-family=\"Helvetica,sans-Serif\" font-size=\"14.00\">gini = 0.5</text>\n<text text-anchor=\"middle\" x=\"726\" y=\"-37.8\" font-family=\"Helvetica,sans-Serif\" font-size=\"14.00\">samples = 2</text>\n<text text-anchor=\"middle\" x=\"726\" y=\"-22.8\" font-family=\"Helvetica,sans-Serif\" font-size=\"14.00\">value = [1, 1]</text>\n<text text-anchor=\"middle\" x=\"726\" y=\"-7.8\" font-family=\"Helvetica,sans-Serif\" font-size=\"14.00\">class = Negative</text>\n</g>\n<!-- 27&#45;&gt;29 -->\n<g id=\"edge29\" class=\"edge\">\n<title>27&#45;&gt;29</title>\n<path fill=\"none\" stroke=\"black\" d=\"M707.17,-103.73C709.47,-95.34 711.9,-86.47 714.22,-78.01\"/>\n<polygon fill=\"black\" stroke=\"black\" points=\"717.61,-78.87 716.88,-68.3 710.86,-77.02 717.61,-78.87\"/>\n</g>\n<!-- 31 -->\n<g id=\"node32\" class=\"node\">\n<title>31</title>\n<path fill=\"#e89152\" stroke=\"black\" d=\"M906,-68C906,-68 814,-68 814,-68 808,-68 802,-62 802,-56 802,-56 802,-12 802,-12 802,-6 808,0 814,0 814,0 906,0 906,0 912,0 918,-6 918,-12 918,-12 918,-56 918,-56 918,-62 912,-68 906,-68\"/>\n<text text-anchor=\"middle\" x=\"860\" y=\"-52.8\" font-family=\"Helvetica,sans-Serif\" font-size=\"14.00\">gini = 0.198</text>\n<text text-anchor=\"middle\" x=\"860\" y=\"-37.8\" font-family=\"Helvetica,sans-Serif\" font-size=\"14.00\">samples = 9</text>\n<text text-anchor=\"middle\" x=\"860\" y=\"-22.8\" font-family=\"Helvetica,sans-Serif\" font-size=\"14.00\">value = [8, 1]</text>\n<text text-anchor=\"middle\" x=\"860\" y=\"-7.8\" font-family=\"Helvetica,sans-Serif\" font-size=\"14.00\">class = Negative</text>\n</g>\n<!-- 30&#45;&gt;31 -->\n<g id=\"edge31\" class=\"edge\">\n<title>30&#45;&gt;31</title>\n<path fill=\"none\" stroke=\"black\" d=\"M878.2,-103.73C875.98,-95.34 873.63,-86.47 871.39,-78.01\"/>\n<polygon fill=\"black\" stroke=\"black\" points=\"874.76,-77.07 868.82,-68.3 868,-78.86 874.76,-77.07\"/>\n</g>\n<!-- 32 -->\n<g id=\"node33\" class=\"node\">\n<title>32</title>\n<path fill=\"#f9e4d5\" stroke=\"black\" d=\"M1056,-68C1056,-68 948,-68 948,-68 942,-68 936,-62 936,-56 936,-56 936,-12 936,-12 936,-6 942,0 948,0 948,0 1056,0 1056,0 1062,0 1068,-6 1068,-12 1068,-12 1068,-56 1068,-56 1068,-62 1062,-68 1056,-68\"/>\n<text text-anchor=\"middle\" x=\"1002\" y=\"-52.8\" font-family=\"Helvetica,sans-Serif\" font-size=\"14.00\">gini = 0.493</text>\n<text text-anchor=\"middle\" x=\"1002\" y=\"-37.8\" font-family=\"Helvetica,sans-Serif\" font-size=\"14.00\">samples = 25</text>\n<text text-anchor=\"middle\" x=\"1002\" y=\"-22.8\" font-family=\"Helvetica,sans-Serif\" font-size=\"14.00\">value = [14.0, 11.0]</text>\n<text text-anchor=\"middle\" x=\"1002\" y=\"-7.8\" font-family=\"Helvetica,sans-Serif\" font-size=\"14.00\">class = Negative</text>\n</g>\n<!-- 30&#45;&gt;32 -->\n<g id=\"edge32\" class=\"edge\">\n<title>30&#45;&gt;32</title>\n<path fill=\"none\" stroke=\"black\" d=\"M931.08,-103.73C940.68,-94.42 950.87,-84.54 960.45,-75.26\"/>\n<polygon fill=\"black\" stroke=\"black\" points=\"962.89,-77.77 967.64,-68.3 958.02,-72.75 962.89,-77.77\"/>\n</g>\n<!-- 34 -->\n<g id=\"node35\" class=\"node\">\n<title>34</title>\n<path fill=\"#e58139\" stroke=\"black\" d=\"M1049,-298.5C1049,-298.5 957,-298.5 957,-298.5 951,-298.5 945,-292.5 945,-286.5 945,-286.5 945,-242.5 945,-242.5 945,-236.5 951,-230.5 957,-230.5 957,-230.5 1049,-230.5 1049,-230.5 1055,-230.5 1061,-236.5 1061,-242.5 1061,-242.5 1061,-286.5 1061,-286.5 1061,-292.5 1055,-298.5 1049,-298.5\"/>\n<text text-anchor=\"middle\" x=\"1003\" y=\"-283.3\" font-family=\"Helvetica,sans-Serif\" font-size=\"14.00\">gini = 0.0</text>\n<text text-anchor=\"middle\" x=\"1003\" y=\"-268.3\" font-family=\"Helvetica,sans-Serif\" font-size=\"14.00\">samples = 1</text>\n<text text-anchor=\"middle\" x=\"1003\" y=\"-253.3\" font-family=\"Helvetica,sans-Serif\" font-size=\"14.00\">value = [1, 0]</text>\n<text text-anchor=\"middle\" x=\"1003\" y=\"-238.3\" font-family=\"Helvetica,sans-Serif\" font-size=\"14.00\">class = Negative</text>\n</g>\n<!-- 33&#45;&gt;34 -->\n<g id=\"edge34\" class=\"edge\">\n<title>33&#45;&gt;34</title>\n<path fill=\"none\" stroke=\"black\" d=\"M1071.57,-341.91C1061.17,-330.32 1049.84,-317.7 1039.45,-306.11\"/>\n<polygon fill=\"black\" stroke=\"black\" points=\"1042.05,-303.77 1032.77,-298.67 1036.84,-308.45 1042.05,-303.77\"/>\n</g>\n<!-- 35 -->\n<g id=\"node36\" class=\"node\">\n<title>35</title>\n<path fill=\"#399de5\" stroke=\"black\" d=\"M1177,-298.5C1177,-298.5 1091,-298.5 1091,-298.5 1085,-298.5 1079,-292.5 1079,-286.5 1079,-286.5 1079,-242.5 1079,-242.5 1079,-236.5 1085,-230.5 1091,-230.5 1091,-230.5 1177,-230.5 1177,-230.5 1183,-230.5 1189,-236.5 1189,-242.5 1189,-242.5 1189,-286.5 1189,-286.5 1189,-292.5 1183,-298.5 1177,-298.5\"/>\n<text text-anchor=\"middle\" x=\"1134\" y=\"-283.3\" font-family=\"Helvetica,sans-Serif\" font-size=\"14.00\">gini = 0.0</text>\n<text text-anchor=\"middle\" x=\"1134\" y=\"-268.3\" font-family=\"Helvetica,sans-Serif\" font-size=\"14.00\">samples = 5</text>\n<text text-anchor=\"middle\" x=\"1134\" y=\"-253.3\" font-family=\"Helvetica,sans-Serif\" font-size=\"14.00\">value = [0, 5]</text>\n<text text-anchor=\"middle\" x=\"1134\" y=\"-238.3\" font-family=\"Helvetica,sans-Serif\" font-size=\"14.00\">class = Positive</text>\n</g>\n<!-- 33&#45;&gt;35 -->\n<g id=\"edge35\" class=\"edge\">\n<title>33&#45;&gt;35</title>\n<path fill=\"none\" stroke=\"black\" d=\"M1117.02,-341.91C1119.42,-331.09 1122.03,-319.38 1124.46,-308.44\"/>\n<polygon fill=\"black\" stroke=\"black\" points=\"1127.88,-309.19 1126.63,-298.67 1121.04,-307.67 1127.88,-309.19\"/>\n</g>\n<!-- 37 -->\n<g id=\"node38\" class=\"node\">\n<title>37</title>\n<path fill=\"#7bbeee\" stroke=\"black\" d=\"M1447.5,-425C1447.5,-425 1346.5,-425 1346.5,-425 1340.5,-425 1334.5,-419 1334.5,-413 1334.5,-413 1334.5,-354 1334.5,-354 1334.5,-348 1340.5,-342 1346.5,-342 1346.5,-342 1447.5,-342 1447.5,-342 1453.5,-342 1459.5,-348 1459.5,-354 1459.5,-354 1459.5,-413 1459.5,-413 1459.5,-419 1453.5,-425 1447.5,-425\"/>\n<text text-anchor=\"middle\" x=\"1397\" y=\"-409.8\" font-family=\"Helvetica,sans-Serif\" font-size=\"14.00\">Glucose &lt;= 147.0</text>\n<text text-anchor=\"middle\" x=\"1397\" y=\"-394.8\" font-family=\"Helvetica,sans-Serif\" font-size=\"14.00\">gini = 0.375</text>\n<text text-anchor=\"middle\" x=\"1397\" y=\"-379.8\" font-family=\"Helvetica,sans-Serif\" font-size=\"14.00\">samples = 16</text>\n<text text-anchor=\"middle\" x=\"1397\" y=\"-364.8\" font-family=\"Helvetica,sans-Serif\" font-size=\"14.00\">value = [4, 12]</text>\n<text text-anchor=\"middle\" x=\"1397\" y=\"-349.8\" font-family=\"Helvetica,sans-Serif\" font-size=\"14.00\">class = Positive</text>\n</g>\n<!-- 36&#45;&gt;37 -->\n<g id=\"edge37\" class=\"edge\">\n<title>36&#45;&gt;37</title>\n<path fill=\"none\" stroke=\"black\" d=\"M1443.37,-460.91C1438.03,-452.1 1432.32,-442.7 1426.8,-433.61\"/>\n<polygon fill=\"black\" stroke=\"black\" points=\"1429.77,-431.75 1421.59,-425.02 1423.79,-435.39 1429.77,-431.75\"/>\n</g>\n<!-- 44 -->\n<g id=\"node45\" class=\"node\">\n<title>44</title>\n<path fill=\"#ea9a61\" stroke=\"black\" d=\"M1586,-425C1586,-425 1494,-425 1494,-425 1488,-425 1482,-419 1482,-413 1482,-413 1482,-354 1482,-354 1482,-348 1488,-342 1494,-342 1494,-342 1586,-342 1586,-342 1592,-342 1598,-348 1598,-354 1598,-354 1598,-413 1598,-413 1598,-419 1592,-425 1586,-425\"/>\n<text text-anchor=\"middle\" x=\"1540\" y=\"-409.8\" font-family=\"Helvetica,sans-Serif\" font-size=\"14.00\">BMI &lt;= 43.4</text>\n<text text-anchor=\"middle\" x=\"1540\" y=\"-394.8\" font-family=\"Helvetica,sans-Serif\" font-size=\"14.00\">gini = 0.278</text>\n<text text-anchor=\"middle\" x=\"1540\" y=\"-379.8\" font-family=\"Helvetica,sans-Serif\" font-size=\"14.00\">samples = 12</text>\n<text text-anchor=\"middle\" x=\"1540\" y=\"-364.8\" font-family=\"Helvetica,sans-Serif\" font-size=\"14.00\">value = [10, 2]</text>\n<text text-anchor=\"middle\" x=\"1540\" y=\"-349.8\" font-family=\"Helvetica,sans-Serif\" font-size=\"14.00\">class = Negative</text>\n</g>\n<!-- 36&#45;&gt;44 -->\n<g id=\"edge44\" class=\"edge\">\n<title>36&#45;&gt;44</title>\n<path fill=\"none\" stroke=\"black\" d=\"M1492.98,-460.91C1498.4,-452.1 1504.18,-442.7 1509.78,-433.61\"/>\n<polygon fill=\"black\" stroke=\"black\" points=\"1512.8,-435.37 1515.06,-425.02 1506.84,-431.7 1512.8,-435.37\"/>\n</g>\n<!-- 38 -->\n<g id=\"node39\" class=\"node\">\n<title>38</title>\n<path fill=\"#5aade9\" stroke=\"black\" d=\"M1309,-306C1309,-306 1223,-306 1223,-306 1217,-306 1211,-300 1211,-294 1211,-294 1211,-235 1211,-235 1211,-229 1217,-223 1223,-223 1223,-223 1309,-223 1309,-223 1315,-223 1321,-229 1321,-235 1321,-235 1321,-294 1321,-294 1321,-300 1315,-306 1309,-306\"/>\n<text text-anchor=\"middle\" x=\"1266\" y=\"-290.8\" font-family=\"Helvetica,sans-Serif\" font-size=\"14.00\">BMI &lt;= 29.85</text>\n<text text-anchor=\"middle\" x=\"1266\" y=\"-275.8\" font-family=\"Helvetica,sans-Serif\" font-size=\"14.00\">gini = 0.245</text>\n<text text-anchor=\"middle\" x=\"1266\" y=\"-260.8\" font-family=\"Helvetica,sans-Serif\" font-size=\"14.00\">samples = 14</text>\n<text text-anchor=\"middle\" x=\"1266\" y=\"-245.8\" font-family=\"Helvetica,sans-Serif\" font-size=\"14.00\">value = [2, 12]</text>\n<text text-anchor=\"middle\" x=\"1266\" y=\"-230.8\" font-family=\"Helvetica,sans-Serif\" font-size=\"14.00\">class = Positive</text>\n</g>\n<!-- 37&#45;&gt;38 -->\n<g id=\"edge38\" class=\"edge\">\n<title>37&#45;&gt;38</title>\n<path fill=\"none\" stroke=\"black\" d=\"M1351.55,-341.91C1341.08,-332.56 1329.86,-322.54 1319.1,-312.93\"/>\n<polygon fill=\"black\" stroke=\"black\" points=\"1321.16,-310.07 1311.37,-306.02 1316.5,-315.29 1321.16,-310.07\"/>\n</g>\n<!-- 43 -->\n<g id=\"node44\" class=\"node\">\n<title>43</title>\n<path fill=\"#e58139\" stroke=\"black\" d=\"M1443,-298.5C1443,-298.5 1351,-298.5 1351,-298.5 1345,-298.5 1339,-292.5 1339,-286.5 1339,-286.5 1339,-242.5 1339,-242.5 1339,-236.5 1345,-230.5 1351,-230.5 1351,-230.5 1443,-230.5 1443,-230.5 1449,-230.5 1455,-236.5 1455,-242.5 1455,-242.5 1455,-286.5 1455,-286.5 1455,-292.5 1449,-298.5 1443,-298.5\"/>\n<text text-anchor=\"middle\" x=\"1397\" y=\"-283.3\" font-family=\"Helvetica,sans-Serif\" font-size=\"14.00\">gini = 0.0</text>\n<text text-anchor=\"middle\" x=\"1397\" y=\"-268.3\" font-family=\"Helvetica,sans-Serif\" font-size=\"14.00\">samples = 2</text>\n<text text-anchor=\"middle\" x=\"1397\" y=\"-253.3\" font-family=\"Helvetica,sans-Serif\" font-size=\"14.00\">value = [2, 0]</text>\n<text text-anchor=\"middle\" x=\"1397\" y=\"-238.3\" font-family=\"Helvetica,sans-Serif\" font-size=\"14.00\">class = Negative</text>\n</g>\n<!-- 37&#45;&gt;43 -->\n<g id=\"edge43\" class=\"edge\">\n<title>37&#45;&gt;43</title>\n<path fill=\"none\" stroke=\"black\" d=\"M1397,-341.91C1397,-331.2 1397,-319.62 1397,-308.78\"/>\n<polygon fill=\"black\" stroke=\"black\" points=\"1400.5,-308.67 1397,-298.67 1393.5,-308.67 1400.5,-308.67\"/>\n</g>\n<!-- 39 -->\n<g id=\"node40\" class=\"node\">\n<title>39</title>\n<path fill=\"#ffffff\" stroke=\"black\" d=\"M1200.5,-187C1200.5,-187 991.5,-187 991.5,-187 985.5,-187 979.5,-181 979.5,-175 979.5,-175 979.5,-116 979.5,-116 979.5,-110 985.5,-104 991.5,-104 991.5,-104 1200.5,-104 1200.5,-104 1206.5,-104 1212.5,-110 1212.5,-116 1212.5,-116 1212.5,-175 1212.5,-175 1212.5,-181 1206.5,-187 1200.5,-187\"/>\n<text text-anchor=\"middle\" x=\"1096\" y=\"-171.8\" font-family=\"Helvetica,sans-Serif\" font-size=\"14.00\">DiabetesPedigreeFunction &lt;= 0.553</text>\n<text text-anchor=\"middle\" x=\"1096\" y=\"-156.8\" font-family=\"Helvetica,sans-Serif\" font-size=\"14.00\">gini = 0.5</text>\n<text text-anchor=\"middle\" x=\"1096\" y=\"-141.8\" font-family=\"Helvetica,sans-Serif\" font-size=\"14.00\">samples = 4</text>\n<text text-anchor=\"middle\" x=\"1096\" y=\"-126.8\" font-family=\"Helvetica,sans-Serif\" font-size=\"14.00\">value = [2, 2]</text>\n<text text-anchor=\"middle\" x=\"1096\" y=\"-111.8\" font-family=\"Helvetica,sans-Serif\" font-size=\"14.00\">class = Negative</text>\n</g>\n<!-- 38&#45;&gt;39 -->\n<g id=\"edge39\" class=\"edge\">\n<title>38&#45;&gt;39</title>\n<path fill=\"none\" stroke=\"black\" d=\"M1210.81,-225.51C1195.75,-215.15 1179.27,-203.81 1163.62,-193.04\"/>\n<polygon fill=\"black\" stroke=\"black\" points=\"1165.24,-189.9 1155.02,-187.12 1161.27,-195.67 1165.24,-189.9\"/>\n</g>\n<!-- 42 -->\n<g id=\"node43\" class=\"node\">\n<title>42</title>\n<path fill=\"#399de5\" stroke=\"black\" d=\"M1329,-179.5C1329,-179.5 1243,-179.5 1243,-179.5 1237,-179.5 1231,-173.5 1231,-167.5 1231,-167.5 1231,-123.5 1231,-123.5 1231,-117.5 1237,-111.5 1243,-111.5 1243,-111.5 1329,-111.5 1329,-111.5 1335,-111.5 1341,-117.5 1341,-123.5 1341,-123.5 1341,-167.5 1341,-167.5 1341,-173.5 1335,-179.5 1329,-179.5\"/>\n<text text-anchor=\"middle\" x=\"1286\" y=\"-164.3\" font-family=\"Helvetica,sans-Serif\" font-size=\"14.00\">gini = 0.0</text>\n<text text-anchor=\"middle\" x=\"1286\" y=\"-149.3\" font-family=\"Helvetica,sans-Serif\" font-size=\"14.00\">samples = 10</text>\n<text text-anchor=\"middle\" x=\"1286\" y=\"-134.3\" font-family=\"Helvetica,sans-Serif\" font-size=\"14.00\">value = [0, 10]</text>\n<text text-anchor=\"middle\" x=\"1286\" y=\"-119.3\" font-family=\"Helvetica,sans-Serif\" font-size=\"14.00\">class = Positive</text>\n</g>\n<!-- 38&#45;&gt;42 -->\n<g id=\"edge42\" class=\"edge\">\n<title>38&#45;&gt;42</title>\n<path fill=\"none\" stroke=\"black\" d=\"M1272.94,-222.91C1274.77,-212.2 1276.75,-200.62 1278.6,-189.78\"/>\n<polygon fill=\"black\" stroke=\"black\" points=\"1282.1,-190.11 1280.33,-179.67 1275.2,-188.93 1282.1,-190.11\"/>\n</g>\n<!-- 40 -->\n<g id=\"node41\" class=\"node\">\n<title>40</title>\n<path fill=\"#399de5\" stroke=\"black\" d=\"M1184,-68C1184,-68 1098,-68 1098,-68 1092,-68 1086,-62 1086,-56 1086,-56 1086,-12 1086,-12 1086,-6 1092,0 1098,0 1098,0 1184,0 1184,0 1190,0 1196,-6 1196,-12 1196,-12 1196,-56 1196,-56 1196,-62 1190,-68 1184,-68\"/>\n<text text-anchor=\"middle\" x=\"1141\" y=\"-52.8\" font-family=\"Helvetica,sans-Serif\" font-size=\"14.00\">gini = 0.0</text>\n<text text-anchor=\"middle\" x=\"1141\" y=\"-37.8\" font-family=\"Helvetica,sans-Serif\" font-size=\"14.00\">samples = 2</text>\n<text text-anchor=\"middle\" x=\"1141\" y=\"-22.8\" font-family=\"Helvetica,sans-Serif\" font-size=\"14.00\">value = [0, 2]</text>\n<text text-anchor=\"middle\" x=\"1141\" y=\"-7.8\" font-family=\"Helvetica,sans-Serif\" font-size=\"14.00\">class = Positive</text>\n</g>\n<!-- 39&#45;&gt;40 -->\n<g id=\"edge40\" class=\"edge\">\n<title>39&#45;&gt;40</title>\n<path fill=\"none\" stroke=\"black\" d=\"M1112.76,-103.73C1116.24,-95.24 1119.93,-86.28 1123.44,-77.73\"/>\n<polygon fill=\"black\" stroke=\"black\" points=\"1126.75,-78.88 1127.32,-68.3 1120.28,-76.22 1126.75,-78.88\"/>\n</g>\n<!-- 41 -->\n<g id=\"node42\" class=\"node\">\n<title>41</title>\n<path fill=\"#e58139\" stroke=\"black\" d=\"M1318,-68C1318,-68 1226,-68 1226,-68 1220,-68 1214,-62 1214,-56 1214,-56 1214,-12 1214,-12 1214,-6 1220,0 1226,0 1226,0 1318,0 1318,0 1324,0 1330,-6 1330,-12 1330,-12 1330,-56 1330,-56 1330,-62 1324,-68 1318,-68\"/>\n<text text-anchor=\"middle\" x=\"1272\" y=\"-52.8\" font-family=\"Helvetica,sans-Serif\" font-size=\"14.00\">gini = 0.0</text>\n<text text-anchor=\"middle\" x=\"1272\" y=\"-37.8\" font-family=\"Helvetica,sans-Serif\" font-size=\"14.00\">samples = 2</text>\n<text text-anchor=\"middle\" x=\"1272\" y=\"-22.8\" font-family=\"Helvetica,sans-Serif\" font-size=\"14.00\">value = [2, 0]</text>\n<text text-anchor=\"middle\" x=\"1272\" y=\"-7.8\" font-family=\"Helvetica,sans-Serif\" font-size=\"14.00\">class = Negative</text>\n</g>\n<!-- 39&#45;&gt;41 -->\n<g id=\"edge41\" class=\"edge\">\n<title>39&#45;&gt;41</title>\n<path fill=\"none\" stroke=\"black\" d=\"M1161.54,-103.73C1177.45,-93.82 1194.42,-83.27 1210.16,-73.48\"/>\n<polygon fill=\"black\" stroke=\"black\" points=\"1212.12,-76.38 1218.76,-68.13 1208.42,-70.44 1212.12,-76.38\"/>\n</g>\n<!-- 45 -->\n<g id=\"node46\" class=\"node\">\n<title>45</title>\n<path fill=\"#e88e4d\" stroke=\"black\" d=\"M1595,-306C1595,-306 1485,-306 1485,-306 1479,-306 1473,-300 1473,-294 1473,-294 1473,-235 1473,-235 1473,-229 1479,-223 1485,-223 1485,-223 1595,-223 1595,-223 1601,-223 1607,-229 1607,-235 1607,-235 1607,-294 1607,-294 1607,-300 1601,-306 1595,-306\"/>\n<text text-anchor=\"middle\" x=\"1540\" y=\"-290.8\" font-family=\"Helvetica,sans-Serif\" font-size=\"14.00\">Pregnancies &lt;= 4.5</text>\n<text text-anchor=\"middle\" x=\"1540\" y=\"-275.8\" font-family=\"Helvetica,sans-Serif\" font-size=\"14.00\">gini = 0.165</text>\n<text text-anchor=\"middle\" x=\"1540\" y=\"-260.8\" font-family=\"Helvetica,sans-Serif\" font-size=\"14.00\">samples = 11</text>\n<text text-anchor=\"middle\" x=\"1540\" y=\"-245.8\" font-family=\"Helvetica,sans-Serif\" font-size=\"14.00\">value = [10, 1]</text>\n<text text-anchor=\"middle\" x=\"1540\" y=\"-230.8\" font-family=\"Helvetica,sans-Serif\" font-size=\"14.00\">class = Negative</text>\n</g>\n<!-- 44&#45;&gt;45 -->\n<g id=\"edge45\" class=\"edge\">\n<title>44&#45;&gt;45</title>\n<path fill=\"none\" stroke=\"black\" d=\"M1540,-341.91C1540,-333.65 1540,-324.86 1540,-316.3\"/>\n<polygon fill=\"black\" stroke=\"black\" points=\"1543.5,-316.02 1540,-306.02 1536.5,-316.02 1543.5,-316.02\"/>\n</g>\n<!-- 48 -->\n<g id=\"node49\" class=\"node\">\n<title>48</title>\n<path fill=\"#399de5\" stroke=\"black\" d=\"M1723,-298.5C1723,-298.5 1637,-298.5 1637,-298.5 1631,-298.5 1625,-292.5 1625,-286.5 1625,-286.5 1625,-242.5 1625,-242.5 1625,-236.5 1631,-230.5 1637,-230.5 1637,-230.5 1723,-230.5 1723,-230.5 1729,-230.5 1735,-236.5 1735,-242.5 1735,-242.5 1735,-286.5 1735,-286.5 1735,-292.5 1729,-298.5 1723,-298.5\"/>\n<text text-anchor=\"middle\" x=\"1680\" y=\"-283.3\" font-family=\"Helvetica,sans-Serif\" font-size=\"14.00\">gini = 0.0</text>\n<text text-anchor=\"middle\" x=\"1680\" y=\"-268.3\" font-family=\"Helvetica,sans-Serif\" font-size=\"14.00\">samples = 1</text>\n<text text-anchor=\"middle\" x=\"1680\" y=\"-253.3\" font-family=\"Helvetica,sans-Serif\" font-size=\"14.00\">value = [0, 1]</text>\n<text text-anchor=\"middle\" x=\"1680\" y=\"-238.3\" font-family=\"Helvetica,sans-Serif\" font-size=\"14.00\">class = Positive</text>\n</g>\n<!-- 44&#45;&gt;48 -->\n<g id=\"edge48\" class=\"edge\">\n<title>44&#45;&gt;48</title>\n<path fill=\"none\" stroke=\"black\" d=\"M1588.57,-341.91C1602.83,-329.99 1618.41,-316.98 1632.59,-305.12\"/>\n<polygon fill=\"black\" stroke=\"black\" points=\"1634.88,-307.77 1640.31,-298.67 1630.4,-302.39 1634.88,-307.77\"/>\n</g>\n<!-- 46 -->\n<g id=\"node47\" class=\"node\">\n<title>46</title>\n<path fill=\"#e58139\" stroke=\"black\" d=\"M1463,-179.5C1463,-179.5 1371,-179.5 1371,-179.5 1365,-179.5 1359,-173.5 1359,-167.5 1359,-167.5 1359,-123.5 1359,-123.5 1359,-117.5 1365,-111.5 1371,-111.5 1371,-111.5 1463,-111.5 1463,-111.5 1469,-111.5 1475,-117.5 1475,-123.5 1475,-123.5 1475,-167.5 1475,-167.5 1475,-173.5 1469,-179.5 1463,-179.5\"/>\n<text text-anchor=\"middle\" x=\"1417\" y=\"-164.3\" font-family=\"Helvetica,sans-Serif\" font-size=\"14.00\">gini = 0.0</text>\n<text text-anchor=\"middle\" x=\"1417\" y=\"-149.3\" font-family=\"Helvetica,sans-Serif\" font-size=\"14.00\">samples = 10</text>\n<text text-anchor=\"middle\" x=\"1417\" y=\"-134.3\" font-family=\"Helvetica,sans-Serif\" font-size=\"14.00\">value = [10, 0]</text>\n<text text-anchor=\"middle\" x=\"1417\" y=\"-119.3\" font-family=\"Helvetica,sans-Serif\" font-size=\"14.00\">class = Negative</text>\n</g>\n<!-- 45&#45;&gt;46 -->\n<g id=\"edge46\" class=\"edge\">\n<title>45&#45;&gt;46</title>\n<path fill=\"none\" stroke=\"black\" d=\"M1497.33,-222.91C1485.03,-211.21 1471.62,-198.46 1459.35,-186.78\"/>\n<polygon fill=\"black\" stroke=\"black\" points=\"1461.53,-184.02 1451.87,-179.67 1456.7,-189.1 1461.53,-184.02\"/>\n</g>\n<!-- 47 -->\n<g id=\"node48\" class=\"node\">\n<title>47</title>\n<path fill=\"#399de5\" stroke=\"black\" d=\"M1591,-179.5C1591,-179.5 1505,-179.5 1505,-179.5 1499,-179.5 1493,-173.5 1493,-167.5 1493,-167.5 1493,-123.5 1493,-123.5 1493,-117.5 1499,-111.5 1505,-111.5 1505,-111.5 1591,-111.5 1591,-111.5 1597,-111.5 1603,-117.5 1603,-123.5 1603,-123.5 1603,-167.5 1603,-167.5 1603,-173.5 1597,-179.5 1591,-179.5\"/>\n<text text-anchor=\"middle\" x=\"1548\" y=\"-164.3\" font-family=\"Helvetica,sans-Serif\" font-size=\"14.00\">gini = 0.0</text>\n<text text-anchor=\"middle\" x=\"1548\" y=\"-149.3\" font-family=\"Helvetica,sans-Serif\" font-size=\"14.00\">samples = 1</text>\n<text text-anchor=\"middle\" x=\"1548\" y=\"-134.3\" font-family=\"Helvetica,sans-Serif\" font-size=\"14.00\">value = [0, 1]</text>\n<text text-anchor=\"middle\" x=\"1548\" y=\"-119.3\" font-family=\"Helvetica,sans-Serif\" font-size=\"14.00\">class = Positive</text>\n</g>\n<!-- 45&#45;&gt;47 -->\n<g id=\"edge47\" class=\"edge\">\n<title>45&#45;&gt;47</title>\n<path fill=\"none\" stroke=\"black\" d=\"M1542.78,-222.91C1543.51,-212.2 1544.3,-200.62 1545.04,-189.78\"/>\n<polygon fill=\"black\" stroke=\"black\" points=\"1548.54,-189.88 1545.73,-179.67 1541.56,-189.4 1548.54,-189.88\"/>\n</g>\n<!-- 50 -->\n<g id=\"node51\" class=\"node\">\n<title>50</title>\n<path fill=\"#efb286\" stroke=\"black\" d=\"M2269.5,-544C2269.5,-544 2060.5,-544 2060.5,-544 2054.5,-544 2048.5,-538 2048.5,-532 2048.5,-532 2048.5,-473 2048.5,-473 2048.5,-467 2054.5,-461 2060.5,-461 2060.5,-461 2269.5,-461 2269.5,-461 2275.5,-461 2281.5,-467 2281.5,-473 2281.5,-473 2281.5,-532 2281.5,-532 2281.5,-538 2275.5,-544 2269.5,-544\"/>\n<text text-anchor=\"middle\" x=\"2165\" y=\"-528.8\" font-family=\"Helvetica,sans-Serif\" font-size=\"14.00\">DiabetesPedigreeFunction &lt;= 0.636</text>\n<text text-anchor=\"middle\" x=\"2165\" y=\"-513.8\" font-family=\"Helvetica,sans-Serif\" font-size=\"14.00\">gini = 0.404</text>\n<text text-anchor=\"middle\" x=\"2165\" y=\"-498.8\" font-family=\"Helvetica,sans-Serif\" font-size=\"14.00\">samples = 64</text>\n<text text-anchor=\"middle\" x=\"2165\" y=\"-483.8\" font-family=\"Helvetica,sans-Serif\" font-size=\"14.00\">value = [46, 18]</text>\n<text text-anchor=\"middle\" x=\"2165\" y=\"-468.8\" font-family=\"Helvetica,sans-Serif\" font-size=\"14.00\">class = Negative</text>\n</g>\n<!-- 49&#45;&gt;50 -->\n<g id=\"edge50\" class=\"edge\">\n<title>49&#45;&gt;50</title>\n<path fill=\"none\" stroke=\"black\" d=\"M2165,-579.91C2165,-571.65 2165,-562.86 2165,-554.3\"/>\n<polygon fill=\"black\" stroke=\"black\" points=\"2168.5,-554.02 2165,-544.02 2161.5,-554.02 2168.5,-554.02\"/>\n</g>\n<!-- 67 -->\n<g id=\"node68\" class=\"node\">\n<title>67</title>\n<path fill=\"#cfe7f9\" stroke=\"black\" d=\"M2760,-544C2760,-544 2674,-544 2674,-544 2668,-544 2662,-538 2662,-532 2662,-532 2662,-473 2662,-473 2662,-467 2668,-461 2674,-461 2674,-461 2760,-461 2760,-461 2766,-461 2772,-467 2772,-473 2772,-473 2772,-532 2772,-532 2772,-538 2766,-544 2760,-544\"/>\n<text text-anchor=\"middle\" x=\"2717\" y=\"-528.8\" font-family=\"Helvetica,sans-Serif\" font-size=\"14.00\">Age &lt;= 58.5</text>\n<text text-anchor=\"middle\" x=\"2717\" y=\"-513.8\" font-family=\"Helvetica,sans-Serif\" font-size=\"14.00\">gini = 0.491</text>\n<text text-anchor=\"middle\" x=\"2717\" y=\"-498.8\" font-family=\"Helvetica,sans-Serif\" font-size=\"14.00\">samples = 109</text>\n<text text-anchor=\"middle\" x=\"2717\" y=\"-483.8\" font-family=\"Helvetica,sans-Serif\" font-size=\"14.00\">value = [47, 62]</text>\n<text text-anchor=\"middle\" x=\"2717\" y=\"-468.8\" font-family=\"Helvetica,sans-Serif\" font-size=\"14.00\">class = Positive</text>\n</g>\n<!-- 49&#45;&gt;67 -->\n<g id=\"edge67\" class=\"edge\">\n<title>49&#45;&gt;67</title>\n<path fill=\"none\" stroke=\"black\" d=\"M2227.52,-607.25C2332.79,-584.94 2544.43,-540.08 2651.61,-517.36\"/>\n<polygon fill=\"black\" stroke=\"black\" points=\"2652.59,-520.73 2661.65,-515.23 2651.14,-513.88 2652.59,-520.73\"/>\n</g>\n<!-- 51 -->\n<g id=\"node52\" class=\"node\">\n<title>51</title>\n<path fill=\"#eb9f68\" stroke=\"black\" d=\"M2062,-425C2062,-425 1970,-425 1970,-425 1964,-425 1958,-419 1958,-413 1958,-413 1958,-354 1958,-354 1958,-348 1964,-342 1970,-342 1970,-342 2062,-342 2062,-342 2068,-342 2074,-348 2074,-354 2074,-354 2074,-413 2074,-413 2074,-419 2068,-425 2062,-425\"/>\n<text text-anchor=\"middle\" x=\"2016\" y=\"-409.8\" font-family=\"Helvetica,sans-Serif\" font-size=\"14.00\">Age &lt;= 31.5</text>\n<text text-anchor=\"middle\" x=\"2016\" y=\"-394.8\" font-family=\"Helvetica,sans-Serif\" font-size=\"14.00\">gini = 0.31</text>\n<text text-anchor=\"middle\" x=\"2016\" y=\"-379.8\" font-family=\"Helvetica,sans-Serif\" font-size=\"14.00\">samples = 47</text>\n<text text-anchor=\"middle\" x=\"2016\" y=\"-364.8\" font-family=\"Helvetica,sans-Serif\" font-size=\"14.00\">value = [38, 9]</text>\n<text text-anchor=\"middle\" x=\"2016\" y=\"-349.8\" font-family=\"Helvetica,sans-Serif\" font-size=\"14.00\">class = Negative</text>\n</g>\n<!-- 50&#45;&gt;51 -->\n<g id=\"edge51\" class=\"edge\">\n<title>50&#45;&gt;51</title>\n<path fill=\"none\" stroke=\"black\" d=\"M2113.31,-460.91C2101.17,-451.38 2088.14,-441.15 2075.69,-431.37\"/>\n<polygon fill=\"black\" stroke=\"black\" points=\"2077.63,-428.44 2067.6,-425.02 2073.31,-433.95 2077.63,-428.44\"/>\n</g>\n<!-- 60 -->\n<g id=\"node61\" class=\"node\">\n<title>60</title>\n<path fill=\"#e9f4fc\" stroke=\"black\" d=\"M2295,-425C2295,-425 2185,-425 2185,-425 2179,-425 2173,-419 2173,-413 2173,-413 2173,-354 2173,-354 2173,-348 2179,-342 2185,-342 2185,-342 2295,-342 2295,-342 2301,-342 2307,-348 2307,-354 2307,-354 2307,-413 2307,-413 2307,-419 2301,-425 2295,-425\"/>\n<text text-anchor=\"middle\" x=\"2240\" y=\"-409.8\" font-family=\"Helvetica,sans-Serif\" font-size=\"14.00\">Pregnancies &lt;= 8.5</text>\n<text text-anchor=\"middle\" x=\"2240\" y=\"-394.8\" font-family=\"Helvetica,sans-Serif\" font-size=\"14.00\">gini = 0.498</text>\n<text text-anchor=\"middle\" x=\"2240\" y=\"-379.8\" font-family=\"Helvetica,sans-Serif\" font-size=\"14.00\">samples = 17</text>\n<text text-anchor=\"middle\" x=\"2240\" y=\"-364.8\" font-family=\"Helvetica,sans-Serif\" font-size=\"14.00\">value = [8, 9]</text>\n<text text-anchor=\"middle\" x=\"2240\" y=\"-349.8\" font-family=\"Helvetica,sans-Serif\" font-size=\"14.00\">class = Positive</text>\n</g>\n<!-- 50&#45;&gt;60 -->\n<g id=\"edge60\" class=\"edge\">\n<title>50&#45;&gt;60</title>\n<path fill=\"none\" stroke=\"black\" d=\"M2191.02,-460.91C2196.66,-452.1 2202.69,-442.7 2208.52,-433.61\"/>\n<polygon fill=\"black\" stroke=\"black\" points=\"2211.57,-435.33 2214.03,-425.02 2205.68,-431.55 2211.57,-435.33\"/>\n</g>\n<!-- 52 -->\n<g id=\"node53\" class=\"node\">\n<title>52</title>\n<path fill=\"#9ccef2\" stroke=\"black\" d=\"M1853,-306C1853,-306 1767,-306 1767,-306 1761,-306 1755,-300 1755,-294 1755,-294 1755,-235 1755,-235 1755,-229 1761,-223 1767,-223 1767,-223 1853,-223 1853,-223 1859,-223 1865,-229 1865,-235 1865,-235 1865,-294 1865,-294 1865,-300 1859,-306 1853,-306\"/>\n<text text-anchor=\"middle\" x=\"1810\" y=\"-290.8\" font-family=\"Helvetica,sans-Serif\" font-size=\"14.00\">BMI &lt;= 30.0</text>\n<text text-anchor=\"middle\" x=\"1810\" y=\"-275.8\" font-family=\"Helvetica,sans-Serif\" font-size=\"14.00\">gini = 0.444</text>\n<text text-anchor=\"middle\" x=\"1810\" y=\"-260.8\" font-family=\"Helvetica,sans-Serif\" font-size=\"14.00\">samples = 3</text>\n<text text-anchor=\"middle\" x=\"1810\" y=\"-245.8\" font-family=\"Helvetica,sans-Serif\" font-size=\"14.00\">value = [1, 2]</text>\n<text text-anchor=\"middle\" x=\"1810\" y=\"-230.8\" font-family=\"Helvetica,sans-Serif\" font-size=\"14.00\">class = Positive</text>\n</g>\n<!-- 51&#45;&gt;52 -->\n<g id=\"edge52\" class=\"edge\">\n<title>51&#45;&gt;52</title>\n<path fill=\"none\" stroke=\"black\" d=\"M1957.79,-349.44C1931.71,-334.63 1900.87,-317.11 1874.13,-301.92\"/>\n<polygon fill=\"black\" stroke=\"black\" points=\"1875.65,-298.76 1865.23,-296.87 1872.19,-304.85 1875.65,-298.76\"/>\n</g>\n<!-- 55 -->\n<g id=\"node56\" class=\"node\">\n<title>55</title>\n<path fill=\"#ea995e\" stroke=\"black\" d=\"M2062.5,-306C2062.5,-306 1969.5,-306 1969.5,-306 1963.5,-306 1957.5,-300 1957.5,-294 1957.5,-294 1957.5,-235 1957.5,-235 1957.5,-229 1963.5,-223 1969.5,-223 1969.5,-223 2062.5,-223 2062.5,-223 2068.5,-223 2074.5,-229 2074.5,-235 2074.5,-235 2074.5,-294 2074.5,-294 2074.5,-300 2068.5,-306 2062.5,-306\"/>\n<text text-anchor=\"middle\" x=\"2016\" y=\"-290.8\" font-family=\"Helvetica,sans-Serif\" font-size=\"14.00\">Glucose &lt;= 28.5</text>\n<text text-anchor=\"middle\" x=\"2016\" y=\"-275.8\" font-family=\"Helvetica,sans-Serif\" font-size=\"14.00\">gini = 0.268</text>\n<text text-anchor=\"middle\" x=\"2016\" y=\"-260.8\" font-family=\"Helvetica,sans-Serif\" font-size=\"14.00\">samples = 44</text>\n<text text-anchor=\"middle\" x=\"2016\" y=\"-245.8\" font-family=\"Helvetica,sans-Serif\" font-size=\"14.00\">value = [37, 7]</text>\n<text text-anchor=\"middle\" x=\"2016\" y=\"-230.8\" font-family=\"Helvetica,sans-Serif\" font-size=\"14.00\">class = Negative</text>\n</g>\n<!-- 51&#45;&gt;55 -->\n<g id=\"edge55\" class=\"edge\">\n<title>51&#45;&gt;55</title>\n<path fill=\"none\" stroke=\"black\" d=\"M2016,-341.91C2016,-333.65 2016,-324.86 2016,-316.3\"/>\n<polygon fill=\"black\" stroke=\"black\" points=\"2019.5,-316.02 2016,-306.02 2012.5,-316.02 2019.5,-316.02\"/>\n</g>\n<!-- 53 -->\n<g id=\"node54\" class=\"node\">\n<title>53</title>\n<path fill=\"#e58139\" stroke=\"black\" d=\"M1725,-179.5C1725,-179.5 1633,-179.5 1633,-179.5 1627,-179.5 1621,-173.5 1621,-167.5 1621,-167.5 1621,-123.5 1621,-123.5 1621,-117.5 1627,-111.5 1633,-111.5 1633,-111.5 1725,-111.5 1725,-111.5 1731,-111.5 1737,-117.5 1737,-123.5 1737,-123.5 1737,-167.5 1737,-167.5 1737,-173.5 1731,-179.5 1725,-179.5\"/>\n<text text-anchor=\"middle\" x=\"1679\" y=\"-164.3\" font-family=\"Helvetica,sans-Serif\" font-size=\"14.00\">gini = 0.0</text>\n<text text-anchor=\"middle\" x=\"1679\" y=\"-149.3\" font-family=\"Helvetica,sans-Serif\" font-size=\"14.00\">samples = 1</text>\n<text text-anchor=\"middle\" x=\"1679\" y=\"-134.3\" font-family=\"Helvetica,sans-Serif\" font-size=\"14.00\">value = [1, 0]</text>\n<text text-anchor=\"middle\" x=\"1679\" y=\"-119.3\" font-family=\"Helvetica,sans-Serif\" font-size=\"14.00\">class = Negative</text>\n</g>\n<!-- 52&#45;&gt;53 -->\n<g id=\"edge53\" class=\"edge\">\n<title>52&#45;&gt;53</title>\n<path fill=\"none\" stroke=\"black\" d=\"M1764.55,-222.91C1751.33,-211.1 1736.9,-198.22 1723.73,-186.45\"/>\n<polygon fill=\"black\" stroke=\"black\" points=\"1725.93,-183.72 1716.14,-179.67 1721.26,-188.94 1725.93,-183.72\"/>\n</g>\n<!-- 54 -->\n<g id=\"node55\" class=\"node\">\n<title>54</title>\n<path fill=\"#399de5\" stroke=\"black\" d=\"M1853,-179.5C1853,-179.5 1767,-179.5 1767,-179.5 1761,-179.5 1755,-173.5 1755,-167.5 1755,-167.5 1755,-123.5 1755,-123.5 1755,-117.5 1761,-111.5 1767,-111.5 1767,-111.5 1853,-111.5 1853,-111.5 1859,-111.5 1865,-117.5 1865,-123.5 1865,-123.5 1865,-167.5 1865,-167.5 1865,-173.5 1859,-179.5 1853,-179.5\"/>\n<text text-anchor=\"middle\" x=\"1810\" y=\"-164.3\" font-family=\"Helvetica,sans-Serif\" font-size=\"14.00\">gini = 0.0</text>\n<text text-anchor=\"middle\" x=\"1810\" y=\"-149.3\" font-family=\"Helvetica,sans-Serif\" font-size=\"14.00\">samples = 2</text>\n<text text-anchor=\"middle\" x=\"1810\" y=\"-134.3\" font-family=\"Helvetica,sans-Serif\" font-size=\"14.00\">value = [0, 2]</text>\n<text text-anchor=\"middle\" x=\"1810\" y=\"-119.3\" font-family=\"Helvetica,sans-Serif\" font-size=\"14.00\">class = Positive</text>\n</g>\n<!-- 52&#45;&gt;54 -->\n<g id=\"edge54\" class=\"edge\">\n<title>52&#45;&gt;54</title>\n<path fill=\"none\" stroke=\"black\" d=\"M1810,-222.91C1810,-212.2 1810,-200.62 1810,-189.78\"/>\n<polygon fill=\"black\" stroke=\"black\" points=\"1813.5,-189.67 1810,-179.67 1806.5,-189.67 1813.5,-189.67\"/>\n</g>\n<!-- 56 -->\n<g id=\"node57\" class=\"node\">\n<title>56</title>\n<path fill=\"#399de5\" stroke=\"black\" d=\"M1981,-179.5C1981,-179.5 1895,-179.5 1895,-179.5 1889,-179.5 1883,-173.5 1883,-167.5 1883,-167.5 1883,-123.5 1883,-123.5 1883,-117.5 1889,-111.5 1895,-111.5 1895,-111.5 1981,-111.5 1981,-111.5 1987,-111.5 1993,-117.5 1993,-123.5 1993,-123.5 1993,-167.5 1993,-167.5 1993,-173.5 1987,-179.5 1981,-179.5\"/>\n<text text-anchor=\"middle\" x=\"1938\" y=\"-164.3\" font-family=\"Helvetica,sans-Serif\" font-size=\"14.00\">gini = 0.0</text>\n<text text-anchor=\"middle\" x=\"1938\" y=\"-149.3\" font-family=\"Helvetica,sans-Serif\" font-size=\"14.00\">samples = 1</text>\n<text text-anchor=\"middle\" x=\"1938\" y=\"-134.3\" font-family=\"Helvetica,sans-Serif\" font-size=\"14.00\">value = [0, 1]</text>\n<text text-anchor=\"middle\" x=\"1938\" y=\"-119.3\" font-family=\"Helvetica,sans-Serif\" font-size=\"14.00\">class = Positive</text>\n</g>\n<!-- 55&#45;&gt;56 -->\n<g id=\"edge56\" class=\"edge\">\n<title>55&#45;&gt;56</title>\n<path fill=\"none\" stroke=\"black\" d=\"M1988.94,-222.91C1981.43,-211.65 1973.28,-199.42 1965.74,-188.11\"/>\n<polygon fill=\"black\" stroke=\"black\" points=\"1968.57,-186.05 1960.11,-179.67 1962.75,-189.93 1968.57,-186.05\"/>\n</g>\n<!-- 57 -->\n<g id=\"node58\" class=\"node\">\n<title>57</title>\n<path fill=\"#e99559\" stroke=\"black\" d=\"M2154.5,-187C2154.5,-187 2023.5,-187 2023.5,-187 2017.5,-187 2011.5,-181 2011.5,-175 2011.5,-175 2011.5,-116 2011.5,-116 2011.5,-110 2017.5,-104 2023.5,-104 2023.5,-104 2154.5,-104 2154.5,-104 2160.5,-104 2166.5,-110 2166.5,-116 2166.5,-116 2166.5,-175 2166.5,-175 2166.5,-181 2160.5,-187 2154.5,-187\"/>\n<text text-anchor=\"middle\" x=\"2089\" y=\"-171.8\" font-family=\"Helvetica,sans-Serif\" font-size=\"14.00\">BloodPressure &lt;= 15.0</text>\n<text text-anchor=\"middle\" x=\"2089\" y=\"-156.8\" font-family=\"Helvetica,sans-Serif\" font-size=\"14.00\">gini = 0.24</text>\n<text text-anchor=\"middle\" x=\"2089\" y=\"-141.8\" font-family=\"Helvetica,sans-Serif\" font-size=\"14.00\">samples = 43</text>\n<text text-anchor=\"middle\" x=\"2089\" y=\"-126.8\" font-family=\"Helvetica,sans-Serif\" font-size=\"14.00\">value = [37, 6]</text>\n<text text-anchor=\"middle\" x=\"2089\" y=\"-111.8\" font-family=\"Helvetica,sans-Serif\" font-size=\"14.00\">class = Negative</text>\n</g>\n<!-- 55&#45;&gt;57 -->\n<g id=\"edge57\" class=\"edge\">\n<title>55&#45;&gt;57</title>\n<path fill=\"none\" stroke=\"black\" d=\"M2041.33,-222.91C2046.82,-214.1 2052.69,-204.7 2058.36,-195.61\"/>\n<polygon fill=\"black\" stroke=\"black\" points=\"2061.39,-197.36 2063.72,-187.02 2055.45,-193.65 2061.39,-197.36\"/>\n</g>\n<!-- 58 -->\n<g id=\"node59\" class=\"node\">\n<title>58</title>\n<path fill=\"#399de5\" stroke=\"black\" d=\"M2006,-68C2006,-68 1920,-68 1920,-68 1914,-68 1908,-62 1908,-56 1908,-56 1908,-12 1908,-12 1908,-6 1914,0 1920,0 1920,0 2006,0 2006,0 2012,0 2018,-6 2018,-12 2018,-12 2018,-56 2018,-56 2018,-62 2012,-68 2006,-68\"/>\n<text text-anchor=\"middle\" x=\"1963\" y=\"-52.8\" font-family=\"Helvetica,sans-Serif\" font-size=\"14.00\">gini = 0.0</text>\n<text text-anchor=\"middle\" x=\"1963\" y=\"-37.8\" font-family=\"Helvetica,sans-Serif\" font-size=\"14.00\">samples = 1</text>\n<text text-anchor=\"middle\" x=\"1963\" y=\"-22.8\" font-family=\"Helvetica,sans-Serif\" font-size=\"14.00\">value = [0, 1]</text>\n<text text-anchor=\"middle\" x=\"1963\" y=\"-7.8\" font-family=\"Helvetica,sans-Serif\" font-size=\"14.00\">class = Positive</text>\n</g>\n<!-- 57&#45;&gt;58 -->\n<g id=\"edge58\" class=\"edge\">\n<title>57&#45;&gt;58</title>\n<path fill=\"none\" stroke=\"black\" d=\"M2042.08,-103.73C2031.27,-94.33 2019.79,-84.35 2009.01,-74.99\"/>\n<polygon fill=\"black\" stroke=\"black\" points=\"2011.16,-72.22 2001.32,-68.3 2006.57,-77.5 2011.16,-72.22\"/>\n</g>\n<!-- 59 -->\n<g id=\"node60\" class=\"node\">\n<title>59</title>\n<path fill=\"#e99254\" stroke=\"black\" d=\"M2140,-68C2140,-68 2048,-68 2048,-68 2042,-68 2036,-62 2036,-56 2036,-56 2036,-12 2036,-12 2036,-6 2042,0 2048,0 2048,0 2140,0 2140,0 2146,0 2152,-6 2152,-12 2152,-12 2152,-56 2152,-56 2152,-62 2146,-68 2140,-68\"/>\n<text text-anchor=\"middle\" x=\"2094\" y=\"-52.8\" font-family=\"Helvetica,sans-Serif\" font-size=\"14.00\">gini = 0.21</text>\n<text text-anchor=\"middle\" x=\"2094\" y=\"-37.8\" font-family=\"Helvetica,sans-Serif\" font-size=\"14.00\">samples = 42</text>\n<text text-anchor=\"middle\" x=\"2094\" y=\"-22.8\" font-family=\"Helvetica,sans-Serif\" font-size=\"14.00\">value = [37, 5]</text>\n<text text-anchor=\"middle\" x=\"2094\" y=\"-7.8\" font-family=\"Helvetica,sans-Serif\" font-size=\"14.00\">class = Negative</text>\n</g>\n<!-- 57&#45;&gt;59 -->\n<g id=\"edge59\" class=\"edge\">\n<title>57&#45;&gt;59</title>\n<path fill=\"none\" stroke=\"black\" d=\"M2090.86,-103.73C2091.24,-95.52 2091.63,-86.86 2092.01,-78.56\"/>\n<polygon fill=\"black\" stroke=\"black\" points=\"2095.52,-78.45 2092.48,-68.3 2088.53,-78.13 2095.52,-78.45\"/>\n</g>\n<!-- 61 -->\n<g id=\"node62\" class=\"node\">\n<title>61</title>\n<path fill=\"#f5d0b5\" stroke=\"black\" d=\"M2286,-306C2286,-306 2194,-306 2194,-306 2188,-306 2182,-300 2182,-294 2182,-294 2182,-235 2182,-235 2182,-229 2188,-223 2194,-223 2194,-223 2286,-223 2286,-223 2292,-223 2298,-229 2298,-235 2298,-235 2298,-294 2298,-294 2298,-300 2292,-306 2286,-306\"/>\n<text text-anchor=\"middle\" x=\"2240\" y=\"-290.8\" font-family=\"Helvetica,sans-Serif\" font-size=\"14.00\">BMI &lt;= 30.2</text>\n<text text-anchor=\"middle\" x=\"2240\" y=\"-275.8\" font-family=\"Helvetica,sans-Serif\" font-size=\"14.00\">gini = 0.473</text>\n<text text-anchor=\"middle\" x=\"2240\" y=\"-260.8\" font-family=\"Helvetica,sans-Serif\" font-size=\"14.00\">samples = 13</text>\n<text text-anchor=\"middle\" x=\"2240\" y=\"-245.8\" font-family=\"Helvetica,sans-Serif\" font-size=\"14.00\">value = [8, 5]</text>\n<text text-anchor=\"middle\" x=\"2240\" y=\"-230.8\" font-family=\"Helvetica,sans-Serif\" font-size=\"14.00\">class = Negative</text>\n</g>\n<!-- 60&#45;&gt;61 -->\n<g id=\"edge61\" class=\"edge\">\n<title>60&#45;&gt;61</title>\n<path fill=\"none\" stroke=\"black\" d=\"M2240,-341.91C2240,-333.65 2240,-324.86 2240,-316.3\"/>\n<polygon fill=\"black\" stroke=\"black\" points=\"2243.5,-316.02 2240,-306.02 2236.5,-316.02 2243.5,-316.02\"/>\n</g>\n<!-- 66 -->\n<g id=\"node67\" class=\"node\">\n<title>66</title>\n<path fill=\"#399de5\" stroke=\"black\" d=\"M2414,-298.5C2414,-298.5 2328,-298.5 2328,-298.5 2322,-298.5 2316,-292.5 2316,-286.5 2316,-286.5 2316,-242.5 2316,-242.5 2316,-236.5 2322,-230.5 2328,-230.5 2328,-230.5 2414,-230.5 2414,-230.5 2420,-230.5 2426,-236.5 2426,-242.5 2426,-242.5 2426,-286.5 2426,-286.5 2426,-292.5 2420,-298.5 2414,-298.5\"/>\n<text text-anchor=\"middle\" x=\"2371\" y=\"-283.3\" font-family=\"Helvetica,sans-Serif\" font-size=\"14.00\">gini = 0.0</text>\n<text text-anchor=\"middle\" x=\"2371\" y=\"-268.3\" font-family=\"Helvetica,sans-Serif\" font-size=\"14.00\">samples = 4</text>\n<text text-anchor=\"middle\" x=\"2371\" y=\"-253.3\" font-family=\"Helvetica,sans-Serif\" font-size=\"14.00\">value = [0, 4]</text>\n<text text-anchor=\"middle\" x=\"2371\" y=\"-238.3\" font-family=\"Helvetica,sans-Serif\" font-size=\"14.00\">class = Positive</text>\n</g>\n<!-- 60&#45;&gt;66 -->\n<g id=\"edge66\" class=\"edge\">\n<title>60&#45;&gt;66</title>\n<path fill=\"none\" stroke=\"black\" d=\"M2285.45,-341.91C2298.67,-330.1 2313.1,-317.22 2326.27,-305.45\"/>\n<polygon fill=\"black\" stroke=\"black\" points=\"2328.74,-307.94 2333.86,-298.67 2324.07,-302.72 2328.74,-307.94\"/>\n</g>\n<!-- 62 -->\n<g id=\"node63\" class=\"node\">\n<title>62</title>\n<path fill=\"#399de5\" stroke=\"black\" d=\"M2283,-179.5C2283,-179.5 2197,-179.5 2197,-179.5 2191,-179.5 2185,-173.5 2185,-167.5 2185,-167.5 2185,-123.5 2185,-123.5 2185,-117.5 2191,-111.5 2197,-111.5 2197,-111.5 2283,-111.5 2283,-111.5 2289,-111.5 2295,-117.5 2295,-123.5 2295,-123.5 2295,-167.5 2295,-167.5 2295,-173.5 2289,-179.5 2283,-179.5\"/>\n<text text-anchor=\"middle\" x=\"2240\" y=\"-164.3\" font-family=\"Helvetica,sans-Serif\" font-size=\"14.00\">gini = 0.0</text>\n<text text-anchor=\"middle\" x=\"2240\" y=\"-149.3\" font-family=\"Helvetica,sans-Serif\" font-size=\"14.00\">samples = 3</text>\n<text text-anchor=\"middle\" x=\"2240\" y=\"-134.3\" font-family=\"Helvetica,sans-Serif\" font-size=\"14.00\">value = [0, 3]</text>\n<text text-anchor=\"middle\" x=\"2240\" y=\"-119.3\" font-family=\"Helvetica,sans-Serif\" font-size=\"14.00\">class = Positive</text>\n</g>\n<!-- 61&#45;&gt;62 -->\n<g id=\"edge62\" class=\"edge\">\n<title>61&#45;&gt;62</title>\n<path fill=\"none\" stroke=\"black\" d=\"M2240,-222.91C2240,-212.2 2240,-200.62 2240,-189.78\"/>\n<polygon fill=\"black\" stroke=\"black\" points=\"2243.5,-189.67 2240,-179.67 2236.5,-189.67 2243.5,-189.67\"/>\n</g>\n<!-- 63 -->\n<g id=\"node64\" class=\"node\">\n<title>63</title>\n<path fill=\"#eca06a\" stroke=\"black\" d=\"M2417,-187C2417,-187 2325,-187 2325,-187 2319,-187 2313,-181 2313,-175 2313,-175 2313,-116 2313,-116 2313,-110 2319,-104 2325,-104 2325,-104 2417,-104 2417,-104 2423,-104 2429,-110 2429,-116 2429,-116 2429,-175 2429,-175 2429,-181 2423,-187 2417,-187\"/>\n<text text-anchor=\"middle\" x=\"2371\" y=\"-171.8\" font-family=\"Helvetica,sans-Serif\" font-size=\"14.00\">Insulin &lt;= 167.0</text>\n<text text-anchor=\"middle\" x=\"2371\" y=\"-156.8\" font-family=\"Helvetica,sans-Serif\" font-size=\"14.00\">gini = 0.32</text>\n<text text-anchor=\"middle\" x=\"2371\" y=\"-141.8\" font-family=\"Helvetica,sans-Serif\" font-size=\"14.00\">samples = 10</text>\n<text text-anchor=\"middle\" x=\"2371\" y=\"-126.8\" font-family=\"Helvetica,sans-Serif\" font-size=\"14.00\">value = [8, 2]</text>\n<text text-anchor=\"middle\" x=\"2371\" y=\"-111.8\" font-family=\"Helvetica,sans-Serif\" font-size=\"14.00\">class = Negative</text>\n</g>\n<!-- 61&#45;&gt;63 -->\n<g id=\"edge63\" class=\"edge\">\n<title>61&#45;&gt;63</title>\n<path fill=\"none\" stroke=\"black\" d=\"M2285.45,-222.91C2295.92,-213.56 2307.14,-203.54 2317.9,-193.93\"/>\n<polygon fill=\"black\" stroke=\"black\" points=\"2320.5,-196.29 2325.63,-187.02 2315.84,-191.07 2320.5,-196.29\"/>\n</g>\n<!-- 64 -->\n<g id=\"node65\" class=\"node\">\n<title>64</title>\n<path fill=\"#e89152\" stroke=\"black\" d=\"M2282,-68C2282,-68 2190,-68 2190,-68 2184,-68 2178,-62 2178,-56 2178,-56 2178,-12 2178,-12 2178,-6 2184,0 2190,0 2190,0 2282,0 2282,0 2288,0 2294,-6 2294,-12 2294,-12 2294,-56 2294,-56 2294,-62 2288,-68 2282,-68\"/>\n<text text-anchor=\"middle\" x=\"2236\" y=\"-52.8\" font-family=\"Helvetica,sans-Serif\" font-size=\"14.00\">gini = 0.198</text>\n<text text-anchor=\"middle\" x=\"2236\" y=\"-37.8\" font-family=\"Helvetica,sans-Serif\" font-size=\"14.00\">samples = 9</text>\n<text text-anchor=\"middle\" x=\"2236\" y=\"-22.8\" font-family=\"Helvetica,sans-Serif\" font-size=\"14.00\">value = [8, 1]</text>\n<text text-anchor=\"middle\" x=\"2236\" y=\"-7.8\" font-family=\"Helvetica,sans-Serif\" font-size=\"14.00\">class = Negative</text>\n</g>\n<!-- 63&#45;&gt;64 -->\n<g id=\"edge64\" class=\"edge\">\n<title>63&#45;&gt;64</title>\n<path fill=\"none\" stroke=\"black\" d=\"M2320.73,-103.73C2309.04,-94.24 2296.6,-84.16 2284.96,-74.72\"/>\n<polygon fill=\"black\" stroke=\"black\" points=\"2287.03,-71.88 2277.05,-68.3 2282.62,-77.32 2287.03,-71.88\"/>\n</g>\n<!-- 65 -->\n<g id=\"node66\" class=\"node\">\n<title>65</title>\n<path fill=\"#399de5\" stroke=\"black\" d=\"M2410,-68C2410,-68 2324,-68 2324,-68 2318,-68 2312,-62 2312,-56 2312,-56 2312,-12 2312,-12 2312,-6 2318,0 2324,0 2324,0 2410,0 2410,0 2416,0 2422,-6 2422,-12 2422,-12 2422,-56 2422,-56 2422,-62 2416,-68 2410,-68\"/>\n<text text-anchor=\"middle\" x=\"2367\" y=\"-52.8\" font-family=\"Helvetica,sans-Serif\" font-size=\"14.00\">gini = 0.0</text>\n<text text-anchor=\"middle\" x=\"2367\" y=\"-37.8\" font-family=\"Helvetica,sans-Serif\" font-size=\"14.00\">samples = 1</text>\n<text text-anchor=\"middle\" x=\"2367\" y=\"-22.8\" font-family=\"Helvetica,sans-Serif\" font-size=\"14.00\">value = [0, 1]</text>\n<text text-anchor=\"middle\" x=\"2367\" y=\"-7.8\" font-family=\"Helvetica,sans-Serif\" font-size=\"14.00\">class = Positive</text>\n</g>\n<!-- 63&#45;&gt;65 -->\n<g id=\"edge65\" class=\"edge\">\n<title>63&#45;&gt;65</title>\n<path fill=\"none\" stroke=\"black\" d=\"M2369.51,-103.73C2369.21,-95.52 2368.89,-86.86 2368.59,-78.56\"/>\n<polygon fill=\"black\" stroke=\"black\" points=\"2372.08,-78.17 2368.22,-68.3 2365.08,-78.42 2372.08,-78.17\"/>\n</g>\n<!-- 68 -->\n<g id=\"node69\" class=\"node\">\n<title>68</title>\n<path fill=\"#baddf6\" stroke=\"black\" d=\"M2760,-425C2760,-425 2674,-425 2674,-425 2668,-425 2662,-419 2662,-413 2662,-413 2662,-354 2662,-354 2662,-348 2668,-342 2674,-342 2674,-342 2760,-342 2760,-342 2766,-342 2772,-348 2772,-354 2772,-354 2772,-413 2772,-413 2772,-419 2766,-425 2760,-425\"/>\n<text text-anchor=\"middle\" x=\"2717\" y=\"-409.8\" font-family=\"Helvetica,sans-Serif\" font-size=\"14.00\">Age &lt;= 41.5</text>\n<text text-anchor=\"middle\" x=\"2717\" y=\"-394.8\" font-family=\"Helvetica,sans-Serif\" font-size=\"14.00\">gini = 0.478</text>\n<text text-anchor=\"middle\" x=\"2717\" y=\"-379.8\" font-family=\"Helvetica,sans-Serif\" font-size=\"14.00\">samples = 99</text>\n<text text-anchor=\"middle\" x=\"2717\" y=\"-364.8\" font-family=\"Helvetica,sans-Serif\" font-size=\"14.00\">value = [39, 60]</text>\n<text text-anchor=\"middle\" x=\"2717\" y=\"-349.8\" font-family=\"Helvetica,sans-Serif\" font-size=\"14.00\">class = Positive</text>\n</g>\n<!-- 67&#45;&gt;68 -->\n<g id=\"edge68\" class=\"edge\">\n<title>67&#45;&gt;68</title>\n<path fill=\"none\" stroke=\"black\" d=\"M2717,-460.91C2717,-452.65 2717,-443.86 2717,-435.3\"/>\n<polygon fill=\"black\" stroke=\"black\" points=\"2720.5,-435.02 2717,-425.02 2713.5,-435.02 2720.5,-435.02\"/>\n</g>\n<!-- 81 -->\n<g id=\"node82\" class=\"node\">\n<title>81</title>\n<path fill=\"#eca06a\" stroke=\"black\" d=\"M3061.5,-425C3061.5,-425 2960.5,-425 2960.5,-425 2954.5,-425 2948.5,-419 2948.5,-413 2948.5,-413 2948.5,-354 2948.5,-354 2948.5,-348 2954.5,-342 2960.5,-342 2960.5,-342 3061.5,-342 3061.5,-342 3067.5,-342 3073.5,-348 3073.5,-354 3073.5,-354 3073.5,-413 3073.5,-413 3073.5,-419 3067.5,-425 3061.5,-425\"/>\n<text text-anchor=\"middle\" x=\"3011\" y=\"-409.8\" font-family=\"Helvetica,sans-Serif\" font-size=\"14.00\">Glucose &lt;= 143.5</text>\n<text text-anchor=\"middle\" x=\"3011\" y=\"-394.8\" font-family=\"Helvetica,sans-Serif\" font-size=\"14.00\">gini = 0.32</text>\n<text text-anchor=\"middle\" x=\"3011\" y=\"-379.8\" font-family=\"Helvetica,sans-Serif\" font-size=\"14.00\">samples = 10</text>\n<text text-anchor=\"middle\" x=\"3011\" y=\"-364.8\" font-family=\"Helvetica,sans-Serif\" font-size=\"14.00\">value = [8, 2]</text>\n<text text-anchor=\"middle\" x=\"3011\" y=\"-349.8\" font-family=\"Helvetica,sans-Serif\" font-size=\"14.00\">class = Negative</text>\n</g>\n<!-- 67&#45;&gt;81 -->\n<g id=\"edge81\" class=\"edge\">\n<title>67&#45;&gt;81</title>\n<path fill=\"none\" stroke=\"black\" d=\"M2772.3,-479.49C2819.43,-460.74 2887.51,-433.64 2938.91,-413.19\"/>\n<polygon fill=\"black\" stroke=\"black\" points=\"2940.31,-416.4 2948.3,-409.45 2937.72,-409.9 2940.31,-416.4\"/>\n</g>\n<!-- 69 -->\n<g id=\"node70\" class=\"node\">\n<title>69</title>\n<path fill=\"#f8fcfe\" stroke=\"black\" d=\"M2671,-306C2671,-306 2563,-306 2563,-306 2557,-306 2551,-300 2551,-294 2551,-294 2551,-235 2551,-235 2551,-229 2557,-223 2563,-223 2563,-223 2671,-223 2671,-223 2677,-223 2683,-229 2683,-235 2683,-235 2683,-294 2683,-294 2683,-300 2677,-306 2671,-306\"/>\n<text text-anchor=\"middle\" x=\"2617\" y=\"-290.8\" font-family=\"Helvetica,sans-Serif\" font-size=\"14.00\">BMI &lt;= 41.85</text>\n<text text-anchor=\"middle\" x=\"2617\" y=\"-275.8\" font-family=\"Helvetica,sans-Serif\" font-size=\"14.00\">gini = 0.5</text>\n<text text-anchor=\"middle\" x=\"2617\" y=\"-260.8\" font-family=\"Helvetica,sans-Serif\" font-size=\"14.00\">samples = 55</text>\n<text text-anchor=\"middle\" x=\"2617\" y=\"-245.8\" font-family=\"Helvetica,sans-Serif\" font-size=\"14.00\">value = [27.0, 28.0]</text>\n<text text-anchor=\"middle\" x=\"2617\" y=\"-230.8\" font-family=\"Helvetica,sans-Serif\" font-size=\"14.00\">class = Positive</text>\n</g>\n<!-- 68&#45;&gt;69 -->\n<g id=\"edge69\" class=\"edge\">\n<title>68&#45;&gt;69</title>\n<path fill=\"none\" stroke=\"black\" d=\"M2682.31,-341.91C2674.55,-332.83 2666.25,-323.12 2658.26,-313.77\"/>\n<polygon fill=\"black\" stroke=\"black\" points=\"2660.79,-311.35 2651.63,-306.02 2655.47,-315.9 2660.79,-311.35\"/>\n</g>\n<!-- 74 -->\n<g id=\"node75\" class=\"node\">\n<title>74</title>\n<path fill=\"#83c2ef\" stroke=\"black\" d=\"M2922.5,-306C2922.5,-306 2713.5,-306 2713.5,-306 2707.5,-306 2701.5,-300 2701.5,-294 2701.5,-294 2701.5,-235 2701.5,-235 2701.5,-229 2707.5,-223 2713.5,-223 2713.5,-223 2922.5,-223 2922.5,-223 2928.5,-223 2934.5,-229 2934.5,-235 2934.5,-235 2934.5,-294 2934.5,-294 2934.5,-300 2928.5,-306 2922.5,-306\"/>\n<text text-anchor=\"middle\" x=\"2818\" y=\"-290.8\" font-family=\"Helvetica,sans-Serif\" font-size=\"14.00\">DiabetesPedigreeFunction &lt;= 0.251</text>\n<text text-anchor=\"middle\" x=\"2818\" y=\"-275.8\" font-family=\"Helvetica,sans-Serif\" font-size=\"14.00\">gini = 0.397</text>\n<text text-anchor=\"middle\" x=\"2818\" y=\"-260.8\" font-family=\"Helvetica,sans-Serif\" font-size=\"14.00\">samples = 44</text>\n<text text-anchor=\"middle\" x=\"2818\" y=\"-245.8\" font-family=\"Helvetica,sans-Serif\" font-size=\"14.00\">value = [12, 32]</text>\n<text text-anchor=\"middle\" x=\"2818\" y=\"-230.8\" font-family=\"Helvetica,sans-Serif\" font-size=\"14.00\">class = Positive</text>\n</g>\n<!-- 68&#45;&gt;74 -->\n<g id=\"edge74\" class=\"edge\">\n<title>68&#45;&gt;74</title>\n<path fill=\"none\" stroke=\"black\" d=\"M2752.04,-341.91C2759.88,-332.83 2768.26,-323.12 2776.33,-313.77\"/>\n<polygon fill=\"black\" stroke=\"black\" points=\"2779.14,-315.88 2783.02,-306.02 2773.84,-311.3 2779.14,-315.88\"/>\n</g>\n<!-- 70 -->\n<g id=\"node71\" class=\"node\">\n<title>70</title>\n<path fill=\"#fae8da\" stroke=\"black\" d=\"M2590,-187C2590,-187 2482,-187 2482,-187 2476,-187 2470,-181 2470,-175 2470,-175 2470,-116 2470,-116 2470,-110 2476,-104 2482,-104 2482,-104 2590,-104 2590,-104 2596,-104 2602,-110 2602,-116 2602,-116 2602,-175 2602,-175 2602,-181 2596,-187 2590,-187\"/>\n<text text-anchor=\"middle\" x=\"2536\" y=\"-171.8\" font-family=\"Helvetica,sans-Serif\" font-size=\"14.00\">Insulin &lt;= 175.5</text>\n<text text-anchor=\"middle\" x=\"2536\" y=\"-156.8\" font-family=\"Helvetica,sans-Serif\" font-size=\"14.00\">gini = 0.495</text>\n<text text-anchor=\"middle\" x=\"2536\" y=\"-141.8\" font-family=\"Helvetica,sans-Serif\" font-size=\"14.00\">samples = 49</text>\n<text text-anchor=\"middle\" x=\"2536\" y=\"-126.8\" font-family=\"Helvetica,sans-Serif\" font-size=\"14.00\">value = [27.0, 22.0]</text>\n<text text-anchor=\"middle\" x=\"2536\" y=\"-111.8\" font-family=\"Helvetica,sans-Serif\" font-size=\"14.00\">class = Negative</text>\n</g>\n<!-- 69&#45;&gt;70 -->\n<g id=\"edge70\" class=\"edge\">\n<title>69&#45;&gt;70</title>\n<path fill=\"none\" stroke=\"black\" d=\"M2588.9,-222.91C2582.74,-214.01 2576.16,-204.51 2569.81,-195.33\"/>\n<polygon fill=\"black\" stroke=\"black\" points=\"2572.62,-193.25 2564.05,-187.02 2566.87,-197.24 2572.62,-193.25\"/>\n</g>\n<!-- 73 -->\n<g id=\"node74\" class=\"node\">\n<title>73</title>\n<path fill=\"#399de5\" stroke=\"black\" d=\"M2718,-179.5C2718,-179.5 2632,-179.5 2632,-179.5 2626,-179.5 2620,-173.5 2620,-167.5 2620,-167.5 2620,-123.5 2620,-123.5 2620,-117.5 2626,-111.5 2632,-111.5 2632,-111.5 2718,-111.5 2718,-111.5 2724,-111.5 2730,-117.5 2730,-123.5 2730,-123.5 2730,-167.5 2730,-167.5 2730,-173.5 2724,-179.5 2718,-179.5\"/>\n<text text-anchor=\"middle\" x=\"2675\" y=\"-164.3\" font-family=\"Helvetica,sans-Serif\" font-size=\"14.00\">gini = 0.0</text>\n<text text-anchor=\"middle\" x=\"2675\" y=\"-149.3\" font-family=\"Helvetica,sans-Serif\" font-size=\"14.00\">samples = 6</text>\n<text text-anchor=\"middle\" x=\"2675\" y=\"-134.3\" font-family=\"Helvetica,sans-Serif\" font-size=\"14.00\">value = [0, 6]</text>\n<text text-anchor=\"middle\" x=\"2675\" y=\"-119.3\" font-family=\"Helvetica,sans-Serif\" font-size=\"14.00\">class = Positive</text>\n</g>\n<!-- 69&#45;&gt;73 -->\n<g id=\"edge73\" class=\"edge\">\n<title>69&#45;&gt;73</title>\n<path fill=\"none\" stroke=\"black\" d=\"M2637.12,-222.91C2642.59,-211.87 2648.53,-199.9 2654.04,-188.77\"/>\n<polygon fill=\"black\" stroke=\"black\" points=\"2657.25,-190.18 2658.56,-179.67 2650.98,-187.07 2657.25,-190.18\"/>\n</g>\n<!-- 71 -->\n<g id=\"node72\" class=\"node\">\n<title>71</title>\n<path fill=\"#edf6fd\" stroke=\"black\" d=\"M2538,-68C2538,-68 2452,-68 2452,-68 2446,-68 2440,-62 2440,-56 2440,-56 2440,-12 2440,-12 2440,-6 2446,0 2452,0 2452,0 2538,0 2538,0 2544,0 2550,-6 2550,-12 2550,-12 2550,-56 2550,-56 2550,-62 2544,-68 2538,-68\"/>\n<text text-anchor=\"middle\" x=\"2495\" y=\"-52.8\" font-family=\"Helvetica,sans-Serif\" font-size=\"14.00\">gini = 0.499</text>\n<text text-anchor=\"middle\" x=\"2495\" y=\"-37.8\" font-family=\"Helvetica,sans-Serif\" font-size=\"14.00\">samples = 42</text>\n<text text-anchor=\"middle\" x=\"2495\" y=\"-22.8\" font-family=\"Helvetica,sans-Serif\" font-size=\"14.00\">value = [20, 22]</text>\n<text text-anchor=\"middle\" x=\"2495\" y=\"-7.8\" font-family=\"Helvetica,sans-Serif\" font-size=\"14.00\">class = Positive</text>\n</g>\n<!-- 70&#45;&gt;71 -->\n<g id=\"edge71\" class=\"edge\">\n<title>70&#45;&gt;71</title>\n<path fill=\"none\" stroke=\"black\" d=\"M2520.73,-103.73C2517.56,-95.24 2514.2,-86.28 2511,-77.73\"/>\n<polygon fill=\"black\" stroke=\"black\" points=\"2514.25,-76.44 2507.47,-68.3 2507.7,-78.89 2514.25,-76.44\"/>\n</g>\n<!-- 72 -->\n<g id=\"node73\" class=\"node\">\n<title>72</title>\n<path fill=\"#e58139\" stroke=\"black\" d=\"M2672,-68C2672,-68 2580,-68 2580,-68 2574,-68 2568,-62 2568,-56 2568,-56 2568,-12 2568,-12 2568,-6 2574,0 2580,0 2580,0 2672,0 2672,0 2678,0 2684,-6 2684,-12 2684,-12 2684,-56 2684,-56 2684,-62 2678,-68 2672,-68\"/>\n<text text-anchor=\"middle\" x=\"2626\" y=\"-52.8\" font-family=\"Helvetica,sans-Serif\" font-size=\"14.00\">gini = 0.0</text>\n<text text-anchor=\"middle\" x=\"2626\" y=\"-37.8\" font-family=\"Helvetica,sans-Serif\" font-size=\"14.00\">samples = 7</text>\n<text text-anchor=\"middle\" x=\"2626\" y=\"-22.8\" font-family=\"Helvetica,sans-Serif\" font-size=\"14.00\">value = [7, 0]</text>\n<text text-anchor=\"middle\" x=\"2626\" y=\"-7.8\" font-family=\"Helvetica,sans-Serif\" font-size=\"14.00\">class = Negative</text>\n</g>\n<!-- 70&#45;&gt;72 -->\n<g id=\"edge72\" class=\"edge\">\n<title>70&#45;&gt;72</title>\n<path fill=\"none\" stroke=\"black\" d=\"M2569.51,-103.73C2576.93,-94.7 2584.8,-85.12 2592.23,-76.08\"/>\n<polygon fill=\"black\" stroke=\"black\" points=\"2594.98,-78.25 2598.63,-68.3 2589.58,-73.8 2594.98,-78.25\"/>\n</g>\n<!-- 75 -->\n<g id=\"node76\" class=\"node\">\n<title>75</title>\n<path fill=\"#f6d5bd\" stroke=\"black\" d=\"M2864,-187C2864,-187 2772,-187 2772,-187 2766,-187 2760,-181 2760,-175 2760,-175 2760,-116 2760,-116 2760,-110 2766,-104 2772,-104 2772,-104 2864,-104 2864,-104 2870,-104 2876,-110 2876,-116 2876,-116 2876,-175 2876,-175 2876,-181 2870,-187 2864,-187\"/>\n<text text-anchor=\"middle\" x=\"2818\" y=\"-171.8\" font-family=\"Helvetica,sans-Serif\" font-size=\"14.00\">Insulin &lt;= 122.5</text>\n<text text-anchor=\"middle\" x=\"2818\" y=\"-156.8\" font-family=\"Helvetica,sans-Serif\" font-size=\"14.00\">gini = 0.48</text>\n<text text-anchor=\"middle\" x=\"2818\" y=\"-141.8\" font-family=\"Helvetica,sans-Serif\" font-size=\"14.00\">samples = 10</text>\n<text text-anchor=\"middle\" x=\"2818\" y=\"-126.8\" font-family=\"Helvetica,sans-Serif\" font-size=\"14.00\">value = [6, 4]</text>\n<text text-anchor=\"middle\" x=\"2818\" y=\"-111.8\" font-family=\"Helvetica,sans-Serif\" font-size=\"14.00\">class = Negative</text>\n</g>\n<!-- 74&#45;&gt;75 -->\n<g id=\"edge75\" class=\"edge\">\n<title>74&#45;&gt;75</title>\n<path fill=\"none\" stroke=\"black\" d=\"M2818,-222.91C2818,-214.65 2818,-205.86 2818,-197.3\"/>\n<polygon fill=\"black\" stroke=\"black\" points=\"2821.5,-197.02 2818,-187.02 2814.5,-197.02 2821.5,-197.02\"/>\n</g>\n<!-- 78 -->\n<g id=\"node79\" class=\"node\">\n<title>78</title>\n<path fill=\"#63b2eb\" stroke=\"black\" d=\"M3115.5,-187C3115.5,-187 2906.5,-187 2906.5,-187 2900.5,-187 2894.5,-181 2894.5,-175 2894.5,-175 2894.5,-116 2894.5,-116 2894.5,-110 2900.5,-104 2906.5,-104 2906.5,-104 3115.5,-104 3115.5,-104 3121.5,-104 3127.5,-110 3127.5,-116 3127.5,-116 3127.5,-175 3127.5,-175 3127.5,-181 3121.5,-187 3115.5,-187\"/>\n<text text-anchor=\"middle\" x=\"3011\" y=\"-171.8\" font-family=\"Helvetica,sans-Serif\" font-size=\"14.00\">DiabetesPedigreeFunction &lt;= 1.415</text>\n<text text-anchor=\"middle\" x=\"3011\" y=\"-156.8\" font-family=\"Helvetica,sans-Serif\" font-size=\"14.00\">gini = 0.291</text>\n<text text-anchor=\"middle\" x=\"3011\" y=\"-141.8\" font-family=\"Helvetica,sans-Serif\" font-size=\"14.00\">samples = 34</text>\n<text text-anchor=\"middle\" x=\"3011\" y=\"-126.8\" font-family=\"Helvetica,sans-Serif\" font-size=\"14.00\">value = [6, 28]</text>\n<text text-anchor=\"middle\" x=\"3011\" y=\"-111.8\" font-family=\"Helvetica,sans-Serif\" font-size=\"14.00\">class = Positive</text>\n</g>\n<!-- 74&#45;&gt;78 -->\n<g id=\"edge78\" class=\"edge\">\n<title>74&#45;&gt;78</title>\n<path fill=\"none\" stroke=\"black\" d=\"M2884.96,-222.91C2901.28,-213.02 2918.84,-202.37 2935.53,-192.25\"/>\n<polygon fill=\"black\" stroke=\"black\" points=\"2937.42,-195.2 2944.16,-187.02 2933.79,-189.21 2937.42,-195.2\"/>\n</g>\n<!-- 76 -->\n<g id=\"node77\" class=\"node\">\n<title>76</title>\n<path fill=\"#e9965a\" stroke=\"black\" d=\"M2806,-68C2806,-68 2714,-68 2714,-68 2708,-68 2702,-62 2702,-56 2702,-56 2702,-12 2702,-12 2702,-6 2708,0 2714,0 2714,0 2806,0 2806,0 2812,0 2818,-6 2818,-12 2818,-12 2818,-56 2818,-56 2818,-62 2812,-68 2806,-68\"/>\n<text text-anchor=\"middle\" x=\"2760\" y=\"-52.8\" font-family=\"Helvetica,sans-Serif\" font-size=\"14.00\">gini = 0.245</text>\n<text text-anchor=\"middle\" x=\"2760\" y=\"-37.8\" font-family=\"Helvetica,sans-Serif\" font-size=\"14.00\">samples = 7</text>\n<text text-anchor=\"middle\" x=\"2760\" y=\"-22.8\" font-family=\"Helvetica,sans-Serif\" font-size=\"14.00\">value = [6, 1]</text>\n<text text-anchor=\"middle\" x=\"2760\" y=\"-7.8\" font-family=\"Helvetica,sans-Serif\" font-size=\"14.00\">class = Negative</text>\n</g>\n<!-- 75&#45;&gt;76 -->\n<g id=\"edge76\" class=\"edge\">\n<title>75&#45;&gt;76</title>\n<path fill=\"none\" stroke=\"black\" d=\"M2796.4,-103.73C2791.81,-95.06 2786.96,-85.9 2782.34,-77.18\"/>\n<polygon fill=\"black\" stroke=\"black\" points=\"2785.41,-75.5 2777.64,-68.3 2779.23,-78.77 2785.41,-75.5\"/>\n</g>\n<!-- 77 -->\n<g id=\"node78\" class=\"node\">\n<title>77</title>\n<path fill=\"#399de5\" stroke=\"black\" d=\"M2934,-68C2934,-68 2848,-68 2848,-68 2842,-68 2836,-62 2836,-56 2836,-56 2836,-12 2836,-12 2836,-6 2842,0 2848,0 2848,0 2934,0 2934,0 2940,0 2946,-6 2946,-12 2946,-12 2946,-56 2946,-56 2946,-62 2940,-68 2934,-68\"/>\n<text text-anchor=\"middle\" x=\"2891\" y=\"-52.8\" font-family=\"Helvetica,sans-Serif\" font-size=\"14.00\">gini = 0.0</text>\n<text text-anchor=\"middle\" x=\"2891\" y=\"-37.8\" font-family=\"Helvetica,sans-Serif\" font-size=\"14.00\">samples = 3</text>\n<text text-anchor=\"middle\" x=\"2891\" y=\"-22.8\" font-family=\"Helvetica,sans-Serif\" font-size=\"14.00\">value = [0, 3]</text>\n<text text-anchor=\"middle\" x=\"2891\" y=\"-7.8\" font-family=\"Helvetica,sans-Serif\" font-size=\"14.00\">class = Positive</text>\n</g>\n<!-- 75&#45;&gt;77 -->\n<g id=\"edge77\" class=\"edge\">\n<title>75&#45;&gt;77</title>\n<path fill=\"none\" stroke=\"black\" d=\"M2845.18,-103.73C2851.08,-94.88 2857.33,-85.51 2863.25,-76.63\"/>\n<polygon fill=\"black\" stroke=\"black\" points=\"2866.17,-78.56 2868.8,-68.3 2860.34,-74.68 2866.17,-78.56\"/>\n</g>\n<!-- 79 -->\n<g id=\"node80\" class=\"node\">\n<title>79</title>\n<path fill=\"#55abe9\" stroke=\"black\" d=\"M3062,-68C3062,-68 2976,-68 2976,-68 2970,-68 2964,-62 2964,-56 2964,-56 2964,-12 2964,-12 2964,-6 2970,0 2976,0 2976,0 3062,0 3062,0 3068,0 3074,-6 3074,-12 3074,-12 3074,-56 3074,-56 3074,-62 3068,-68 3062,-68\"/>\n<text text-anchor=\"middle\" x=\"3019\" y=\"-52.8\" font-family=\"Helvetica,sans-Serif\" font-size=\"14.00\">gini = 0.219</text>\n<text text-anchor=\"middle\" x=\"3019\" y=\"-37.8\" font-family=\"Helvetica,sans-Serif\" font-size=\"14.00\">samples = 32</text>\n<text text-anchor=\"middle\" x=\"3019\" y=\"-22.8\" font-family=\"Helvetica,sans-Serif\" font-size=\"14.00\">value = [4, 28]</text>\n<text text-anchor=\"middle\" x=\"3019\" y=\"-7.8\" font-family=\"Helvetica,sans-Serif\" font-size=\"14.00\">class = Positive</text>\n</g>\n<!-- 78&#45;&gt;79 -->\n<g id=\"edge79\" class=\"edge\">\n<title>78&#45;&gt;79</title>\n<path fill=\"none\" stroke=\"black\" d=\"M3013.98,-103.73C3014.59,-95.43 3015.23,-86.67 3015.84,-78.28\"/>\n<polygon fill=\"black\" stroke=\"black\" points=\"3019.33,-78.53 3016.57,-68.3 3012.35,-78.02 3019.33,-78.53\"/>\n</g>\n<!-- 80 -->\n<g id=\"node81\" class=\"node\">\n<title>80</title>\n<path fill=\"#e58139\" stroke=\"black\" d=\"M3196,-68C3196,-68 3104,-68 3104,-68 3098,-68 3092,-62 3092,-56 3092,-56 3092,-12 3092,-12 3092,-6 3098,0 3104,0 3104,0 3196,0 3196,0 3202,0 3208,-6 3208,-12 3208,-12 3208,-56 3208,-56 3208,-62 3202,-68 3196,-68\"/>\n<text text-anchor=\"middle\" x=\"3150\" y=\"-52.8\" font-family=\"Helvetica,sans-Serif\" font-size=\"14.00\">gini = 0.0</text>\n<text text-anchor=\"middle\" x=\"3150\" y=\"-37.8\" font-family=\"Helvetica,sans-Serif\" font-size=\"14.00\">samples = 2</text>\n<text text-anchor=\"middle\" x=\"3150\" y=\"-22.8\" font-family=\"Helvetica,sans-Serif\" font-size=\"14.00\">value = [2, 0]</text>\n<text text-anchor=\"middle\" x=\"3150\" y=\"-7.8\" font-family=\"Helvetica,sans-Serif\" font-size=\"14.00\">class = Negative</text>\n</g>\n<!-- 78&#45;&gt;80 -->\n<g id=\"edge80\" class=\"edge\">\n<title>78&#45;&gt;80</title>\n<path fill=\"none\" stroke=\"black\" d=\"M3062.76,-103.73C3074.8,-94.24 3087.6,-84.16 3099.58,-74.72\"/>\n<polygon fill=\"black\" stroke=\"black\" points=\"3102.04,-77.24 3107.73,-68.3 3097.71,-71.74 3102.04,-77.24\"/>\n</g>\n<!-- 82 -->\n<g id=\"node83\" class=\"node\">\n<title>82</title>\n<path fill=\"#e58139\" stroke=\"black\" d=\"M3057,-298.5C3057,-298.5 2965,-298.5 2965,-298.5 2959,-298.5 2953,-292.5 2953,-286.5 2953,-286.5 2953,-242.5 2953,-242.5 2953,-236.5 2959,-230.5 2965,-230.5 2965,-230.5 3057,-230.5 3057,-230.5 3063,-230.5 3069,-236.5 3069,-242.5 3069,-242.5 3069,-286.5 3069,-286.5 3069,-292.5 3063,-298.5 3057,-298.5\"/>\n<text text-anchor=\"middle\" x=\"3011\" y=\"-283.3\" font-family=\"Helvetica,sans-Serif\" font-size=\"14.00\">gini = 0.0</text>\n<text text-anchor=\"middle\" x=\"3011\" y=\"-268.3\" font-family=\"Helvetica,sans-Serif\" font-size=\"14.00\">samples = 7</text>\n<text text-anchor=\"middle\" x=\"3011\" y=\"-253.3\" font-family=\"Helvetica,sans-Serif\" font-size=\"14.00\">value = [7, 0]</text>\n<text text-anchor=\"middle\" x=\"3011\" y=\"-238.3\" font-family=\"Helvetica,sans-Serif\" font-size=\"14.00\">class = Negative</text>\n</g>\n<!-- 81&#45;&gt;82 -->\n<g id=\"edge82\" class=\"edge\">\n<title>81&#45;&gt;82</title>\n<path fill=\"none\" stroke=\"black\" d=\"M3011,-341.91C3011,-331.2 3011,-319.62 3011,-308.78\"/>\n<polygon fill=\"black\" stroke=\"black\" points=\"3014.5,-308.67 3011,-298.67 3007.5,-308.67 3014.5,-308.67\"/>\n</g>\n<!-- 83 -->\n<g id=\"node84\" class=\"node\">\n<title>83</title>\n<path fill=\"#9ccef2\" stroke=\"black\" d=\"M3308.5,-306C3308.5,-306 3099.5,-306 3099.5,-306 3093.5,-306 3087.5,-300 3087.5,-294 3087.5,-294 3087.5,-235 3087.5,-235 3087.5,-229 3093.5,-223 3099.5,-223 3099.5,-223 3308.5,-223 3308.5,-223 3314.5,-223 3320.5,-229 3320.5,-235 3320.5,-235 3320.5,-294 3320.5,-294 3320.5,-300 3314.5,-306 3308.5,-306\"/>\n<text text-anchor=\"middle\" x=\"3204\" y=\"-290.8\" font-family=\"Helvetica,sans-Serif\" font-size=\"14.00\">DiabetesPedigreeFunction &lt;= 0.226</text>\n<text text-anchor=\"middle\" x=\"3204\" y=\"-275.8\" font-family=\"Helvetica,sans-Serif\" font-size=\"14.00\">gini = 0.444</text>\n<text text-anchor=\"middle\" x=\"3204\" y=\"-260.8\" font-family=\"Helvetica,sans-Serif\" font-size=\"14.00\">samples = 3</text>\n<text text-anchor=\"middle\" x=\"3204\" y=\"-245.8\" font-family=\"Helvetica,sans-Serif\" font-size=\"14.00\">value = [1, 2]</text>\n<text text-anchor=\"middle\" x=\"3204\" y=\"-230.8\" font-family=\"Helvetica,sans-Serif\" font-size=\"14.00\">class = Positive</text>\n</g>\n<!-- 81&#45;&gt;83 -->\n<g id=\"edge83\" class=\"edge\">\n<title>81&#45;&gt;83</title>\n<path fill=\"none\" stroke=\"black\" d=\"M3073.66,-344.51C3091.07,-333.96 3110.15,-322.39 3128.22,-311.44\"/>\n<polygon fill=\"black\" stroke=\"black\" points=\"3130.26,-314.3 3137,-306.12 3126.63,-308.31 3130.26,-314.3\"/>\n</g>\n<!-- 84 -->\n<g id=\"node85\" class=\"node\">\n<title>84</title>\n<path fill=\"#e58139\" stroke=\"black\" d=\"M3250,-179.5C3250,-179.5 3158,-179.5 3158,-179.5 3152,-179.5 3146,-173.5 3146,-167.5 3146,-167.5 3146,-123.5 3146,-123.5 3146,-117.5 3152,-111.5 3158,-111.5 3158,-111.5 3250,-111.5 3250,-111.5 3256,-111.5 3262,-117.5 3262,-123.5 3262,-123.5 3262,-167.5 3262,-167.5 3262,-173.5 3256,-179.5 3250,-179.5\"/>\n<text text-anchor=\"middle\" x=\"3204\" y=\"-164.3\" font-family=\"Helvetica,sans-Serif\" font-size=\"14.00\">gini = 0.0</text>\n<text text-anchor=\"middle\" x=\"3204\" y=\"-149.3\" font-family=\"Helvetica,sans-Serif\" font-size=\"14.00\">samples = 1</text>\n<text text-anchor=\"middle\" x=\"3204\" y=\"-134.3\" font-family=\"Helvetica,sans-Serif\" font-size=\"14.00\">value = [1, 0]</text>\n<text text-anchor=\"middle\" x=\"3204\" y=\"-119.3\" font-family=\"Helvetica,sans-Serif\" font-size=\"14.00\">class = Negative</text>\n</g>\n<!-- 83&#45;&gt;84 -->\n<g id=\"edge84\" class=\"edge\">\n<title>83&#45;&gt;84</title>\n<path fill=\"none\" stroke=\"black\" d=\"M3204,-222.91C3204,-212.2 3204,-200.62 3204,-189.78\"/>\n<polygon fill=\"black\" stroke=\"black\" points=\"3207.5,-189.67 3204,-179.67 3200.5,-189.67 3207.5,-189.67\"/>\n</g>\n<!-- 85 -->\n<g id=\"node86\" class=\"node\">\n<title>85</title>\n<path fill=\"#399de5\" stroke=\"black\" d=\"M3378,-179.5C3378,-179.5 3292,-179.5 3292,-179.5 3286,-179.5 3280,-173.5 3280,-167.5 3280,-167.5 3280,-123.5 3280,-123.5 3280,-117.5 3286,-111.5 3292,-111.5 3292,-111.5 3378,-111.5 3378,-111.5 3384,-111.5 3390,-117.5 3390,-123.5 3390,-123.5 3390,-167.5 3390,-167.5 3390,-173.5 3384,-179.5 3378,-179.5\"/>\n<text text-anchor=\"middle\" x=\"3335\" y=\"-164.3\" font-family=\"Helvetica,sans-Serif\" font-size=\"14.00\">gini = 0.0</text>\n<text text-anchor=\"middle\" x=\"3335\" y=\"-149.3\" font-family=\"Helvetica,sans-Serif\" font-size=\"14.00\">samples = 2</text>\n<text text-anchor=\"middle\" x=\"3335\" y=\"-134.3\" font-family=\"Helvetica,sans-Serif\" font-size=\"14.00\">value = [0, 2]</text>\n<text text-anchor=\"middle\" x=\"3335\" y=\"-119.3\" font-family=\"Helvetica,sans-Serif\" font-size=\"14.00\">class = Positive</text>\n</g>\n<!-- 83&#45;&gt;85 -->\n<g id=\"edge85\" class=\"edge\">\n<title>83&#45;&gt;85</title>\n<path fill=\"none\" stroke=\"black\" d=\"M3249.45,-222.91C3262.67,-211.1 3277.1,-198.22 3290.27,-186.45\"/>\n<polygon fill=\"black\" stroke=\"black\" points=\"3292.74,-188.94 3297.86,-179.67 3288.07,-183.72 3292.74,-188.94\"/>\n</g>\n<!-- 87 -->\n<g id=\"node88\" class=\"node\">\n<title>87</title>\n<path fill=\"#e58139\" stroke=\"black\" d=\"M3230,-774.5C3230,-774.5 3138,-774.5 3138,-774.5 3132,-774.5 3126,-768.5 3126,-762.5 3126,-762.5 3126,-718.5 3126,-718.5 3126,-712.5 3132,-706.5 3138,-706.5 3138,-706.5 3230,-706.5 3230,-706.5 3236,-706.5 3242,-712.5 3242,-718.5 3242,-718.5 3242,-762.5 3242,-762.5 3242,-768.5 3236,-774.5 3230,-774.5\"/>\n<text text-anchor=\"middle\" x=\"3184\" y=\"-759.3\" font-family=\"Helvetica,sans-Serif\" font-size=\"14.00\">gini = 0.0</text>\n<text text-anchor=\"middle\" x=\"3184\" y=\"-744.3\" font-family=\"Helvetica,sans-Serif\" font-size=\"14.00\">samples = 2</text>\n<text text-anchor=\"middle\" x=\"3184\" y=\"-729.3\" font-family=\"Helvetica,sans-Serif\" font-size=\"14.00\">value = [2, 0]</text>\n<text text-anchor=\"middle\" x=\"3184\" y=\"-714.3\" font-family=\"Helvetica,sans-Serif\" font-size=\"14.00\">class = Negative</text>\n</g>\n<!-- 86&#45;&gt;87 -->\n<g id=\"edge87\" class=\"edge\">\n<title>86&#45;&gt;87</title>\n<path fill=\"none\" stroke=\"black\" d=\"M3184,-817.91C3184,-807.2 3184,-795.62 3184,-784.78\"/>\n<polygon fill=\"black\" stroke=\"black\" points=\"3187.5,-784.67 3184,-774.67 3180.5,-784.67 3187.5,-784.67\"/>\n</g>\n<!-- 88 -->\n<g id=\"node89\" class=\"node\">\n<title>88</title>\n<path fill=\"#5aade9\" stroke=\"black\" d=\"M3967,-782C3967,-782 3859,-782 3859,-782 3853,-782 3847,-776 3847,-770 3847,-770 3847,-711 3847,-711 3847,-705 3853,-699 3859,-699 3859,-699 3967,-699 3967,-699 3973,-699 3979,-705 3979,-711 3979,-711 3979,-770 3979,-770 3979,-776 3973,-782 3967,-782\"/>\n<text text-anchor=\"middle\" x=\"3913\" y=\"-766.8\" font-family=\"Helvetica,sans-Serif\" font-size=\"14.00\">Insulin &lt;= 544.0</text>\n<text text-anchor=\"middle\" x=\"3913\" y=\"-751.8\" font-family=\"Helvetica,sans-Serif\" font-size=\"14.00\">gini = 0.243</text>\n<text text-anchor=\"middle\" x=\"3913\" y=\"-736.8\" font-family=\"Helvetica,sans-Serif\" font-size=\"14.00\">samples = 92</text>\n<text text-anchor=\"middle\" x=\"3913\" y=\"-721.8\" font-family=\"Helvetica,sans-Serif\" font-size=\"14.00\">value = [13.0, 79.0]</text>\n<text text-anchor=\"middle\" x=\"3913\" y=\"-706.8\" font-family=\"Helvetica,sans-Serif\" font-size=\"14.00\">class = Positive</text>\n</g>\n<!-- 86&#45;&gt;88 -->\n<g id=\"edge88\" class=\"edge\">\n<title>86&#45;&gt;88</title>\n<path fill=\"none\" stroke=\"black\" d=\"M3239.09,-849.66C3367.98,-828.97 3689.39,-777.39 3836.86,-753.72\"/>\n<polygon fill=\"black\" stroke=\"black\" points=\"3837.43,-757.17 3846.75,-752.13 3836.32,-750.26 3837.43,-757.17\"/>\n</g>\n<!-- 89 -->\n<g id=\"node90\" class=\"node\">\n<title>89</title>\n<path fill=\"#55abe9\" stroke=\"black\" d=\"M3956,-663C3956,-663 3870,-663 3870,-663 3864,-663 3858,-657 3858,-651 3858,-651 3858,-592 3858,-592 3858,-586 3864,-580 3870,-580 3870,-580 3956,-580 3956,-580 3962,-580 3968,-586 3968,-592 3968,-592 3968,-651 3968,-651 3968,-657 3962,-663 3956,-663\"/>\n<text text-anchor=\"middle\" x=\"3913\" y=\"-647.8\" font-family=\"Helvetica,sans-Serif\" font-size=\"14.00\">Age &lt;= 62.5</text>\n<text text-anchor=\"middle\" x=\"3913\" y=\"-632.8\" font-family=\"Helvetica,sans-Serif\" font-size=\"14.00\">gini = 0.217</text>\n<text text-anchor=\"middle\" x=\"3913\" y=\"-617.8\" font-family=\"Helvetica,sans-Serif\" font-size=\"14.00\">samples = 89</text>\n<text text-anchor=\"middle\" x=\"3913\" y=\"-602.8\" font-family=\"Helvetica,sans-Serif\" font-size=\"14.00\">value = [11, 78]</text>\n<text text-anchor=\"middle\" x=\"3913\" y=\"-587.8\" font-family=\"Helvetica,sans-Serif\" font-size=\"14.00\">class = Positive</text>\n</g>\n<!-- 88&#45;&gt;89 -->\n<g id=\"edge89\" class=\"edge\">\n<title>88&#45;&gt;89</title>\n<path fill=\"none\" stroke=\"black\" d=\"M3913,-698.91C3913,-690.65 3913,-681.86 3913,-673.3\"/>\n<polygon fill=\"black\" stroke=\"black\" points=\"3916.5,-673.02 3913,-663.02 3909.5,-673.02 3916.5,-673.02\"/>\n</g>\n<!-- 106 -->\n<g id=\"node107\" class=\"node\">\n<title>106</title>\n<path fill=\"#f2c09c\" stroke=\"black\" d=\"M4196.5,-663C4196.5,-663 4065.5,-663 4065.5,-663 4059.5,-663 4053.5,-657 4053.5,-651 4053.5,-651 4053.5,-592 4053.5,-592 4053.5,-586 4059.5,-580 4065.5,-580 4065.5,-580 4196.5,-580 4196.5,-580 4202.5,-580 4208.5,-586 4208.5,-592 4208.5,-592 4208.5,-651 4208.5,-651 4208.5,-657 4202.5,-663 4196.5,-663\"/>\n<text text-anchor=\"middle\" x=\"4131\" y=\"-647.8\" font-family=\"Helvetica,sans-Serif\" font-size=\"14.00\">BloodPressure &lt;= 69.0</text>\n<text text-anchor=\"middle\" x=\"4131\" y=\"-632.8\" font-family=\"Helvetica,sans-Serif\" font-size=\"14.00\">gini = 0.444</text>\n<text text-anchor=\"middle\" x=\"4131\" y=\"-617.8\" font-family=\"Helvetica,sans-Serif\" font-size=\"14.00\">samples = 3</text>\n<text text-anchor=\"middle\" x=\"4131\" y=\"-602.8\" font-family=\"Helvetica,sans-Serif\" font-size=\"14.00\">value = [2, 1]</text>\n<text text-anchor=\"middle\" x=\"4131\" y=\"-587.8\" font-family=\"Helvetica,sans-Serif\" font-size=\"14.00\">class = Negative</text>\n</g>\n<!-- 88&#45;&gt;106 -->\n<g id=\"edge106\" class=\"edge\">\n<title>88&#45;&gt;106</title>\n<path fill=\"none\" stroke=\"black\" d=\"M3979.3,-703.92C4000.43,-692.57 4024.12,-679.86 4046.37,-667.92\"/>\n<polygon fill=\"black\" stroke=\"black\" points=\"4048.32,-670.84 4055.48,-663.03 4045.01,-664.68 4048.32,-670.84\"/>\n</g>\n<!-- 90 -->\n<g id=\"node91\" class=\"node\">\n<title>90</title>\n<path fill=\"#50a9e8\" stroke=\"black\" d=\"M3911.5,-544C3911.5,-544 3780.5,-544 3780.5,-544 3774.5,-544 3768.5,-538 3768.5,-532 3768.5,-532 3768.5,-473 3768.5,-473 3768.5,-467 3774.5,-461 3780.5,-461 3780.5,-461 3911.5,-461 3911.5,-461 3917.5,-461 3923.5,-467 3923.5,-473 3923.5,-473 3923.5,-532 3923.5,-532 3923.5,-538 3917.5,-544 3911.5,-544\"/>\n<text text-anchor=\"middle\" x=\"3846\" y=\"-528.8\" font-family=\"Helvetica,sans-Serif\" font-size=\"14.00\">BloodPressure &lt;= 92.0</text>\n<text text-anchor=\"middle\" x=\"3846\" y=\"-513.8\" font-family=\"Helvetica,sans-Serif\" font-size=\"14.00\">gini = 0.189</text>\n<text text-anchor=\"middle\" x=\"3846\" y=\"-498.8\" font-family=\"Helvetica,sans-Serif\" font-size=\"14.00\">samples = 85</text>\n<text text-anchor=\"middle\" x=\"3846\" y=\"-483.8\" font-family=\"Helvetica,sans-Serif\" font-size=\"14.00\">value = [9, 76]</text>\n<text text-anchor=\"middle\" x=\"3846\" y=\"-468.8\" font-family=\"Helvetica,sans-Serif\" font-size=\"14.00\">class = Positive</text>\n</g>\n<!-- 89&#45;&gt;90 -->\n<g id=\"edge90\" class=\"edge\">\n<title>89&#45;&gt;90</title>\n<path fill=\"none\" stroke=\"black\" d=\"M3889.75,-579.91C3884.77,-571.2 3879.44,-561.9 3874.29,-552.89\"/>\n<polygon fill=\"black\" stroke=\"black\" points=\"3877.21,-550.96 3869.2,-544.02 3871.14,-554.44 3877.21,-550.96\"/>\n</g>\n<!-- 103 -->\n<g id=\"node104\" class=\"node\">\n<title>103</title>\n<path fill=\"#ffffff\" stroke=\"black\" d=\"M4046,-544C4046,-544 3954,-544 3954,-544 3948,-544 3942,-538 3942,-532 3942,-532 3942,-473 3942,-473 3942,-467 3948,-461 3954,-461 3954,-461 4046,-461 4046,-461 4052,-461 4058,-467 4058,-473 4058,-473 4058,-532 4058,-532 4058,-538 4052,-544 4046,-544\"/>\n<text text-anchor=\"middle\" x=\"4000\" y=\"-528.8\" font-family=\"Helvetica,sans-Serif\" font-size=\"14.00\">BMI &lt;= 30.7</text>\n<text text-anchor=\"middle\" x=\"4000\" y=\"-513.8\" font-family=\"Helvetica,sans-Serif\" font-size=\"14.00\">gini = 0.5</text>\n<text text-anchor=\"middle\" x=\"4000\" y=\"-498.8\" font-family=\"Helvetica,sans-Serif\" font-size=\"14.00\">samples = 4</text>\n<text text-anchor=\"middle\" x=\"4000\" y=\"-483.8\" font-family=\"Helvetica,sans-Serif\" font-size=\"14.00\">value = [2, 2]</text>\n<text text-anchor=\"middle\" x=\"4000\" y=\"-468.8\" font-family=\"Helvetica,sans-Serif\" font-size=\"14.00\">class = Negative</text>\n</g>\n<!-- 89&#45;&gt;103 -->\n<g id=\"edge103\" class=\"edge\">\n<title>89&#45;&gt;103</title>\n<path fill=\"none\" stroke=\"black\" d=\"M3943.18,-579.91C3949.86,-570.92 3957.01,-561.32 3963.9,-552.05\"/>\n<polygon fill=\"black\" stroke=\"black\" points=\"3966.71,-554.13 3969.87,-544.02 3961.09,-549.96 3966.71,-554.13\"/>\n</g>\n<!-- 91 -->\n<g id=\"node92\" class=\"node\">\n<title>91</title>\n<path fill=\"#4ca7e8\" stroke=\"black\" d=\"M3768.5,-425C3768.5,-425 3559.5,-425 3559.5,-425 3553.5,-425 3547.5,-419 3547.5,-413 3547.5,-413 3547.5,-354 3547.5,-354 3547.5,-348 3553.5,-342 3559.5,-342 3559.5,-342 3768.5,-342 3768.5,-342 3774.5,-342 3780.5,-348 3780.5,-354 3780.5,-354 3780.5,-413 3780.5,-413 3780.5,-419 3774.5,-425 3768.5,-425\"/>\n<text text-anchor=\"middle\" x=\"3664\" y=\"-409.8\" font-family=\"Helvetica,sans-Serif\" font-size=\"14.00\">DiabetesPedigreeFunction &lt;= 0.126</text>\n<text text-anchor=\"middle\" x=\"3664\" y=\"-394.8\" font-family=\"Helvetica,sans-Serif\" font-size=\"14.00\">gini = 0.162</text>\n<text text-anchor=\"middle\" x=\"3664\" y=\"-379.8\" font-family=\"Helvetica,sans-Serif\" font-size=\"14.00\">samples = 79</text>\n<text text-anchor=\"middle\" x=\"3664\" y=\"-364.8\" font-family=\"Helvetica,sans-Serif\" font-size=\"14.00\">value = [7, 72]</text>\n<text text-anchor=\"middle\" x=\"3664\" y=\"-349.8\" font-family=\"Helvetica,sans-Serif\" font-size=\"14.00\">class = Positive</text>\n</g>\n<!-- 90&#45;&gt;91 -->\n<g id=\"edge91\" class=\"edge\">\n<title>90&#45;&gt;91</title>\n<path fill=\"none\" stroke=\"black\" d=\"M3782.86,-460.91C3767.61,-451.11 3751.21,-440.56 3735.61,-430.53\"/>\n<polygon fill=\"black\" stroke=\"black\" points=\"3737.34,-427.48 3727.03,-425.02 3733.55,-433.37 3737.34,-427.48\"/>\n</g>\n<!-- 100 -->\n<g id=\"node101\" class=\"node\">\n<title>100</title>\n<path fill=\"#9ccef2\" stroke=\"black\" d=\"M3911.5,-425C3911.5,-425 3810.5,-425 3810.5,-425 3804.5,-425 3798.5,-419 3798.5,-413 3798.5,-413 3798.5,-354 3798.5,-354 3798.5,-348 3804.5,-342 3810.5,-342 3810.5,-342 3911.5,-342 3911.5,-342 3917.5,-342 3923.5,-348 3923.5,-354 3923.5,-354 3923.5,-413 3923.5,-413 3923.5,-419 3917.5,-425 3911.5,-425\"/>\n<text text-anchor=\"middle\" x=\"3861\" y=\"-409.8\" font-family=\"Helvetica,sans-Serif\" font-size=\"14.00\">Glucose &lt;= 177.0</text>\n<text text-anchor=\"middle\" x=\"3861\" y=\"-394.8\" font-family=\"Helvetica,sans-Serif\" font-size=\"14.00\">gini = 0.444</text>\n<text text-anchor=\"middle\" x=\"3861\" y=\"-379.8\" font-family=\"Helvetica,sans-Serif\" font-size=\"14.00\">samples = 6</text>\n<text text-anchor=\"middle\" x=\"3861\" y=\"-364.8\" font-family=\"Helvetica,sans-Serif\" font-size=\"14.00\">value = [2, 4]</text>\n<text text-anchor=\"middle\" x=\"3861\" y=\"-349.8\" font-family=\"Helvetica,sans-Serif\" font-size=\"14.00\">class = Positive</text>\n</g>\n<!-- 90&#45;&gt;100 -->\n<g id=\"edge100\" class=\"edge\">\n<title>90&#45;&gt;100</title>\n<path fill=\"none\" stroke=\"black\" d=\"M3851.2,-460.91C3852.27,-452.56 3853.41,-443.67 3854.52,-435.02\"/>\n<polygon fill=\"black\" stroke=\"black\" points=\"3858,-435.38 3855.81,-425.02 3851.06,-434.49 3858,-435.38\"/>\n</g>\n<!-- 92 -->\n<g id=\"node93\" class=\"node\">\n<title>92</title>\n<path fill=\"#ffffff\" stroke=\"black\" d=\"M3632,-306C3632,-306 3540,-306 3540,-306 3534,-306 3528,-300 3528,-294 3528,-294 3528,-235 3528,-235 3528,-229 3534,-223 3540,-223 3540,-223 3632,-223 3632,-223 3638,-223 3644,-229 3644,-235 3644,-235 3644,-294 3644,-294 3644,-300 3638,-306 3632,-306\"/>\n<text text-anchor=\"middle\" x=\"3586\" y=\"-290.8\" font-family=\"Helvetica,sans-Serif\" font-size=\"14.00\">Insulin &lt;= 84.0</text>\n<text text-anchor=\"middle\" x=\"3586\" y=\"-275.8\" font-family=\"Helvetica,sans-Serif\" font-size=\"14.00\">gini = 0.5</text>\n<text text-anchor=\"middle\" x=\"3586\" y=\"-260.8\" font-family=\"Helvetica,sans-Serif\" font-size=\"14.00\">samples = 2</text>\n<text text-anchor=\"middle\" x=\"3586\" y=\"-245.8\" font-family=\"Helvetica,sans-Serif\" font-size=\"14.00\">value = [1, 1]</text>\n<text text-anchor=\"middle\" x=\"3586\" y=\"-230.8\" font-family=\"Helvetica,sans-Serif\" font-size=\"14.00\">class = Negative</text>\n</g>\n<!-- 91&#45;&gt;92 -->\n<g id=\"edge92\" class=\"edge\">\n<title>91&#45;&gt;92</title>\n<path fill=\"none\" stroke=\"black\" d=\"M3636.94,-341.91C3631.07,-333.1 3624.8,-323.7 3618.74,-314.61\"/>\n<polygon fill=\"black\" stroke=\"black\" points=\"3621.47,-312.4 3613.01,-306.02 3615.65,-316.28 3621.47,-312.4\"/>\n</g>\n<!-- 95 -->\n<g id=\"node96\" class=\"node\">\n<title>95</title>\n<path fill=\"#4aa5e7\" stroke=\"black\" d=\"M3775.5,-306C3775.5,-306 3674.5,-306 3674.5,-306 3668.5,-306 3662.5,-300 3662.5,-294 3662.5,-294 3662.5,-235 3662.5,-235 3662.5,-229 3668.5,-223 3674.5,-223 3674.5,-223 3775.5,-223 3775.5,-223 3781.5,-223 3787.5,-229 3787.5,-235 3787.5,-235 3787.5,-294 3787.5,-294 3787.5,-300 3781.5,-306 3775.5,-306\"/>\n<text text-anchor=\"middle\" x=\"3725\" y=\"-290.8\" font-family=\"Helvetica,sans-Serif\" font-size=\"14.00\">Glucose &lt;= 180.5</text>\n<text text-anchor=\"middle\" x=\"3725\" y=\"-275.8\" font-family=\"Helvetica,sans-Serif\" font-size=\"14.00\">gini = 0.144</text>\n<text text-anchor=\"middle\" x=\"3725\" y=\"-260.8\" font-family=\"Helvetica,sans-Serif\" font-size=\"14.00\">samples = 77</text>\n<text text-anchor=\"middle\" x=\"3725\" y=\"-245.8\" font-family=\"Helvetica,sans-Serif\" font-size=\"14.00\">value = [6, 71]</text>\n<text text-anchor=\"middle\" x=\"3725\" y=\"-230.8\" font-family=\"Helvetica,sans-Serif\" font-size=\"14.00\">class = Positive</text>\n</g>\n<!-- 91&#45;&gt;95 -->\n<g id=\"edge95\" class=\"edge\">\n<title>91&#45;&gt;95</title>\n<path fill=\"none\" stroke=\"black\" d=\"M3685.16,-341.91C3689.71,-333.2 3694.55,-323.9 3699.25,-314.89\"/>\n<polygon fill=\"black\" stroke=\"black\" points=\"3702.35,-316.51 3703.87,-306.02 3696.15,-313.27 3702.35,-316.51\"/>\n</g>\n<!-- 93 -->\n<g id=\"node94\" class=\"node\">\n<title>93</title>\n<path fill=\"#399de5\" stroke=\"black\" d=\"M3506,-179.5C3506,-179.5 3420,-179.5 3420,-179.5 3414,-179.5 3408,-173.5 3408,-167.5 3408,-167.5 3408,-123.5 3408,-123.5 3408,-117.5 3414,-111.5 3420,-111.5 3420,-111.5 3506,-111.5 3506,-111.5 3512,-111.5 3518,-117.5 3518,-123.5 3518,-123.5 3518,-167.5 3518,-167.5 3518,-173.5 3512,-179.5 3506,-179.5\"/>\n<text text-anchor=\"middle\" x=\"3463\" y=\"-164.3\" font-family=\"Helvetica,sans-Serif\" font-size=\"14.00\">gini = 0.0</text>\n<text text-anchor=\"middle\" x=\"3463\" y=\"-149.3\" font-family=\"Helvetica,sans-Serif\" font-size=\"14.00\">samples = 1</text>\n<text text-anchor=\"middle\" x=\"3463\" y=\"-134.3\" font-family=\"Helvetica,sans-Serif\" font-size=\"14.00\">value = [0, 1]</text>\n<text text-anchor=\"middle\" x=\"3463\" y=\"-119.3\" font-family=\"Helvetica,sans-Serif\" font-size=\"14.00\">class = Positive</text>\n</g>\n<!-- 92&#45;&gt;93 -->\n<g id=\"edge93\" class=\"edge\">\n<title>92&#45;&gt;93</title>\n<path fill=\"none\" stroke=\"black\" d=\"M3543.33,-222.91C3531.03,-211.21 3517.62,-198.46 3505.35,-186.78\"/>\n<polygon fill=\"black\" stroke=\"black\" points=\"3507.53,-184.02 3497.87,-179.67 3502.7,-189.1 3507.53,-184.02\"/>\n</g>\n<!-- 94 -->\n<g id=\"node95\" class=\"node\">\n<title>94</title>\n<path fill=\"#e58139\" stroke=\"black\" d=\"M3640,-179.5C3640,-179.5 3548,-179.5 3548,-179.5 3542,-179.5 3536,-173.5 3536,-167.5 3536,-167.5 3536,-123.5 3536,-123.5 3536,-117.5 3542,-111.5 3548,-111.5 3548,-111.5 3640,-111.5 3640,-111.5 3646,-111.5 3652,-117.5 3652,-123.5 3652,-123.5 3652,-167.5 3652,-167.5 3652,-173.5 3646,-179.5 3640,-179.5\"/>\n<text text-anchor=\"middle\" x=\"3594\" y=\"-164.3\" font-family=\"Helvetica,sans-Serif\" font-size=\"14.00\">gini = 0.0</text>\n<text text-anchor=\"middle\" x=\"3594\" y=\"-149.3\" font-family=\"Helvetica,sans-Serif\" font-size=\"14.00\">samples = 1</text>\n<text text-anchor=\"middle\" x=\"3594\" y=\"-134.3\" font-family=\"Helvetica,sans-Serif\" font-size=\"14.00\">value = [1, 0]</text>\n<text text-anchor=\"middle\" x=\"3594\" y=\"-119.3\" font-family=\"Helvetica,sans-Serif\" font-size=\"14.00\">class = Negative</text>\n</g>\n<!-- 92&#45;&gt;94 -->\n<g id=\"edge94\" class=\"edge\">\n<title>92&#45;&gt;94</title>\n<path fill=\"none\" stroke=\"black\" d=\"M3588.78,-222.91C3589.51,-212.2 3590.3,-200.62 3591.04,-189.78\"/>\n<polygon fill=\"black\" stroke=\"black\" points=\"3594.54,-189.88 3591.73,-179.67 3587.56,-189.4 3594.54,-189.88\"/>\n</g>\n<!-- 96 -->\n<g id=\"node97\" class=\"node\">\n<title>96</title>\n<path fill=\"#53aae8\" stroke=\"black\" d=\"M3768,-187C3768,-187 3682,-187 3682,-187 3676,-187 3670,-181 3670,-175 3670,-175 3670,-116 3670,-116 3670,-110 3676,-104 3682,-104 3682,-104 3768,-104 3768,-104 3774,-104 3780,-110 3780,-116 3780,-116 3780,-175 3780,-175 3780,-181 3774,-187 3768,-187\"/>\n<text text-anchor=\"middle\" x=\"3725\" y=\"-171.8\" font-family=\"Helvetica,sans-Serif\" font-size=\"14.00\">Age &lt;= 48.0</text>\n<text text-anchor=\"middle\" x=\"3725\" y=\"-156.8\" font-family=\"Helvetica,sans-Serif\" font-size=\"14.00\">gini = 0.208</text>\n<text text-anchor=\"middle\" x=\"3725\" y=\"-141.8\" font-family=\"Helvetica,sans-Serif\" font-size=\"14.00\">samples = 51</text>\n<text text-anchor=\"middle\" x=\"3725\" y=\"-126.8\" font-family=\"Helvetica,sans-Serif\" font-size=\"14.00\">value = [6, 45]</text>\n<text text-anchor=\"middle\" x=\"3725\" y=\"-111.8\" font-family=\"Helvetica,sans-Serif\" font-size=\"14.00\">class = Positive</text>\n</g>\n<!-- 95&#45;&gt;96 -->\n<g id=\"edge96\" class=\"edge\">\n<title>95&#45;&gt;96</title>\n<path fill=\"none\" stroke=\"black\" d=\"M3725,-222.91C3725,-214.65 3725,-205.86 3725,-197.3\"/>\n<polygon fill=\"black\" stroke=\"black\" points=\"3728.5,-197.02 3725,-187.02 3721.5,-197.02 3728.5,-197.02\"/>\n</g>\n<!-- 99 -->\n<g id=\"node100\" class=\"node\">\n<title>99</title>\n<path fill=\"#399de5\" stroke=\"black\" d=\"M3896,-179.5C3896,-179.5 3810,-179.5 3810,-179.5 3804,-179.5 3798,-173.5 3798,-167.5 3798,-167.5 3798,-123.5 3798,-123.5 3798,-117.5 3804,-111.5 3810,-111.5 3810,-111.5 3896,-111.5 3896,-111.5 3902,-111.5 3908,-117.5 3908,-123.5 3908,-123.5 3908,-167.5 3908,-167.5 3908,-173.5 3902,-179.5 3896,-179.5\"/>\n<text text-anchor=\"middle\" x=\"3853\" y=\"-164.3\" font-family=\"Helvetica,sans-Serif\" font-size=\"14.00\">gini = 0.0</text>\n<text text-anchor=\"middle\" x=\"3853\" y=\"-149.3\" font-family=\"Helvetica,sans-Serif\" font-size=\"14.00\">samples = 26</text>\n<text text-anchor=\"middle\" x=\"3853\" y=\"-134.3\" font-family=\"Helvetica,sans-Serif\" font-size=\"14.00\">value = [0, 26]</text>\n<text text-anchor=\"middle\" x=\"3853\" y=\"-119.3\" font-family=\"Helvetica,sans-Serif\" font-size=\"14.00\">class = Positive</text>\n</g>\n<!-- 95&#45;&gt;99 -->\n<g id=\"edge99\" class=\"edge\">\n<title>95&#45;&gt;99</title>\n<path fill=\"none\" stroke=\"black\" d=\"M3769.41,-222.91C3782.33,-211.1 3796.42,-198.22 3809.29,-186.45\"/>\n<polygon fill=\"black\" stroke=\"black\" points=\"3811.7,-189 3816.71,-179.67 3806.97,-183.83 3811.7,-189\"/>\n</g>\n<!-- 97 -->\n<g id=\"node98\" class=\"node\">\n<title>97</title>\n<path fill=\"#48a5e7\" stroke=\"black\" d=\"M3704,-68C3704,-68 3618,-68 3618,-68 3612,-68 3606,-62 3606,-56 3606,-56 3606,-12 3606,-12 3606,-6 3612,0 3618,0 3618,0 3704,0 3704,0 3710,0 3716,-6 3716,-12 3716,-12 3716,-56 3716,-56 3716,-62 3710,-68 3704,-68\"/>\n<text text-anchor=\"middle\" x=\"3661\" y=\"-52.8\" font-family=\"Helvetica,sans-Serif\" font-size=\"14.00\">gini = 0.133</text>\n<text text-anchor=\"middle\" x=\"3661\" y=\"-37.8\" font-family=\"Helvetica,sans-Serif\" font-size=\"14.00\">samples = 42</text>\n<text text-anchor=\"middle\" x=\"3661\" y=\"-22.8\" font-family=\"Helvetica,sans-Serif\" font-size=\"14.00\">value = [3, 39]</text>\n<text text-anchor=\"middle\" x=\"3661\" y=\"-7.8\" font-family=\"Helvetica,sans-Serif\" font-size=\"14.00\">class = Positive</text>\n</g>\n<!-- 96&#45;&gt;97 -->\n<g id=\"edge97\" class=\"edge\">\n<title>96&#45;&gt;97</title>\n<path fill=\"none\" stroke=\"black\" d=\"M3701.17,-103.73C3696.1,-95.06 3690.75,-85.9 3685.65,-77.18\"/>\n<polygon fill=\"black\" stroke=\"black\" points=\"3688.53,-75.17 3680.46,-68.3 3682.49,-78.7 3688.53,-75.17\"/>\n</g>\n<!-- 98 -->\n<g id=\"node99\" class=\"node\">\n<title>98</title>\n<path fill=\"#9ccef2\" stroke=\"black\" d=\"M3832,-68C3832,-68 3746,-68 3746,-68 3740,-68 3734,-62 3734,-56 3734,-56 3734,-12 3734,-12 3734,-6 3740,0 3746,0 3746,0 3832,0 3832,0 3838,0 3844,-6 3844,-12 3844,-12 3844,-56 3844,-56 3844,-62 3838,-68 3832,-68\"/>\n<text text-anchor=\"middle\" x=\"3789\" y=\"-52.8\" font-family=\"Helvetica,sans-Serif\" font-size=\"14.00\">gini = 0.444</text>\n<text text-anchor=\"middle\" x=\"3789\" y=\"-37.8\" font-family=\"Helvetica,sans-Serif\" font-size=\"14.00\">samples = 9</text>\n<text text-anchor=\"middle\" x=\"3789\" y=\"-22.8\" font-family=\"Helvetica,sans-Serif\" font-size=\"14.00\">value = [3, 6]</text>\n<text text-anchor=\"middle\" x=\"3789\" y=\"-7.8\" font-family=\"Helvetica,sans-Serif\" font-size=\"14.00\">class = Positive</text>\n</g>\n<!-- 96&#45;&gt;98 -->\n<g id=\"edge98\" class=\"edge\">\n<title>96&#45;&gt;98</title>\n<path fill=\"none\" stroke=\"black\" d=\"M3748.83,-103.73C3753.9,-95.06 3759.25,-85.9 3764.35,-77.18\"/>\n<polygon fill=\"black\" stroke=\"black\" points=\"3767.51,-78.7 3769.54,-68.3 3761.47,-75.17 3767.51,-78.7\"/>\n</g>\n<!-- 101 -->\n<g id=\"node102\" class=\"node\">\n<title>101</title>\n<path fill=\"#399de5\" stroke=\"black\" d=\"M3904,-298.5C3904,-298.5 3818,-298.5 3818,-298.5 3812,-298.5 3806,-292.5 3806,-286.5 3806,-286.5 3806,-242.5 3806,-242.5 3806,-236.5 3812,-230.5 3818,-230.5 3818,-230.5 3904,-230.5 3904,-230.5 3910,-230.5 3916,-236.5 3916,-242.5 3916,-242.5 3916,-286.5 3916,-286.5 3916,-292.5 3910,-298.5 3904,-298.5\"/>\n<text text-anchor=\"middle\" x=\"3861\" y=\"-283.3\" font-family=\"Helvetica,sans-Serif\" font-size=\"14.00\">gini = 0.0</text>\n<text text-anchor=\"middle\" x=\"3861\" y=\"-268.3\" font-family=\"Helvetica,sans-Serif\" font-size=\"14.00\">samples = 4</text>\n<text text-anchor=\"middle\" x=\"3861\" y=\"-253.3\" font-family=\"Helvetica,sans-Serif\" font-size=\"14.00\">value = [0, 4]</text>\n<text text-anchor=\"middle\" x=\"3861\" y=\"-238.3\" font-family=\"Helvetica,sans-Serif\" font-size=\"14.00\">class = Positive</text>\n</g>\n<!-- 100&#45;&gt;101 -->\n<g id=\"edge101\" class=\"edge\">\n<title>100&#45;&gt;101</title>\n<path fill=\"none\" stroke=\"black\" d=\"M3861,-341.91C3861,-331.2 3861,-319.62 3861,-308.78\"/>\n<polygon fill=\"black\" stroke=\"black\" points=\"3864.5,-308.67 3861,-298.67 3857.5,-308.67 3864.5,-308.67\"/>\n</g>\n<!-- 102 -->\n<g id=\"node103\" class=\"node\">\n<title>102</title>\n<path fill=\"#e58139\" stroke=\"black\" d=\"M4038,-298.5C4038,-298.5 3946,-298.5 3946,-298.5 3940,-298.5 3934,-292.5 3934,-286.5 3934,-286.5 3934,-242.5 3934,-242.5 3934,-236.5 3940,-230.5 3946,-230.5 3946,-230.5 4038,-230.5 4038,-230.5 4044,-230.5 4050,-236.5 4050,-242.5 4050,-242.5 4050,-286.5 4050,-286.5 4050,-292.5 4044,-298.5 4038,-298.5\"/>\n<text text-anchor=\"middle\" x=\"3992\" y=\"-283.3\" font-family=\"Helvetica,sans-Serif\" font-size=\"14.00\">gini = 0.0</text>\n<text text-anchor=\"middle\" x=\"3992\" y=\"-268.3\" font-family=\"Helvetica,sans-Serif\" font-size=\"14.00\">samples = 2</text>\n<text text-anchor=\"middle\" x=\"3992\" y=\"-253.3\" font-family=\"Helvetica,sans-Serif\" font-size=\"14.00\">value = [2, 0]</text>\n<text text-anchor=\"middle\" x=\"3992\" y=\"-238.3\" font-family=\"Helvetica,sans-Serif\" font-size=\"14.00\">class = Negative</text>\n</g>\n<!-- 100&#45;&gt;102 -->\n<g id=\"edge102\" class=\"edge\">\n<title>100&#45;&gt;102</title>\n<path fill=\"none\" stroke=\"black\" d=\"M3906.45,-341.91C3919.67,-330.1 3934.1,-317.22 3947.27,-305.45\"/>\n<polygon fill=\"black\" stroke=\"black\" points=\"3949.74,-307.94 3954.86,-298.67 3945.07,-302.72 3949.74,-307.94\"/>\n</g>\n<!-- 104 -->\n<g id=\"node105\" class=\"node\">\n<title>104</title>\n<path fill=\"#e58139\" stroke=\"black\" d=\"M4046,-417.5C4046,-417.5 3954,-417.5 3954,-417.5 3948,-417.5 3942,-411.5 3942,-405.5 3942,-405.5 3942,-361.5 3942,-361.5 3942,-355.5 3948,-349.5 3954,-349.5 3954,-349.5 4046,-349.5 4046,-349.5 4052,-349.5 4058,-355.5 4058,-361.5 4058,-361.5 4058,-405.5 4058,-405.5 4058,-411.5 4052,-417.5 4046,-417.5\"/>\n<text text-anchor=\"middle\" x=\"4000\" y=\"-402.3\" font-family=\"Helvetica,sans-Serif\" font-size=\"14.00\">gini = 0.0</text>\n<text text-anchor=\"middle\" x=\"4000\" y=\"-387.3\" font-family=\"Helvetica,sans-Serif\" font-size=\"14.00\">samples = 2</text>\n<text text-anchor=\"middle\" x=\"4000\" y=\"-372.3\" font-family=\"Helvetica,sans-Serif\" font-size=\"14.00\">value = [2, 0]</text>\n<text text-anchor=\"middle\" x=\"4000\" y=\"-357.3\" font-family=\"Helvetica,sans-Serif\" font-size=\"14.00\">class = Negative</text>\n</g>\n<!-- 103&#45;&gt;104 -->\n<g id=\"edge104\" class=\"edge\">\n<title>103&#45;&gt;104</title>\n<path fill=\"none\" stroke=\"black\" d=\"M4000,-460.91C4000,-450.2 4000,-438.62 4000,-427.78\"/>\n<polygon fill=\"black\" stroke=\"black\" points=\"4003.5,-427.67 4000,-417.67 3996.5,-427.67 4003.5,-427.67\"/>\n</g>\n<!-- 105 -->\n<g id=\"node106\" class=\"node\">\n<title>105</title>\n<path fill=\"#399de5\" stroke=\"black\" d=\"M4174,-417.5C4174,-417.5 4088,-417.5 4088,-417.5 4082,-417.5 4076,-411.5 4076,-405.5 4076,-405.5 4076,-361.5 4076,-361.5 4076,-355.5 4082,-349.5 4088,-349.5 4088,-349.5 4174,-349.5 4174,-349.5 4180,-349.5 4186,-355.5 4186,-361.5 4186,-361.5 4186,-405.5 4186,-405.5 4186,-411.5 4180,-417.5 4174,-417.5\"/>\n<text text-anchor=\"middle\" x=\"4131\" y=\"-402.3\" font-family=\"Helvetica,sans-Serif\" font-size=\"14.00\">gini = 0.0</text>\n<text text-anchor=\"middle\" x=\"4131\" y=\"-387.3\" font-family=\"Helvetica,sans-Serif\" font-size=\"14.00\">samples = 2</text>\n<text text-anchor=\"middle\" x=\"4131\" y=\"-372.3\" font-family=\"Helvetica,sans-Serif\" font-size=\"14.00\">value = [0, 2]</text>\n<text text-anchor=\"middle\" x=\"4131\" y=\"-357.3\" font-family=\"Helvetica,sans-Serif\" font-size=\"14.00\">class = Positive</text>\n</g>\n<!-- 103&#45;&gt;105 -->\n<g id=\"edge105\" class=\"edge\">\n<title>103&#45;&gt;105</title>\n<path fill=\"none\" stroke=\"black\" d=\"M4045.45,-460.91C4058.67,-449.1 4073.1,-436.22 4086.27,-424.45\"/>\n<polygon fill=\"black\" stroke=\"black\" points=\"4088.74,-426.94 4093.86,-417.67 4084.07,-421.72 4088.74,-426.94\"/>\n</g>\n<!-- 107 -->\n<g id=\"node108\" class=\"node\">\n<title>107</title>\n<path fill=\"#399de5\" stroke=\"black\" d=\"M4174,-536.5C4174,-536.5 4088,-536.5 4088,-536.5 4082,-536.5 4076,-530.5 4076,-524.5 4076,-524.5 4076,-480.5 4076,-480.5 4076,-474.5 4082,-468.5 4088,-468.5 4088,-468.5 4174,-468.5 4174,-468.5 4180,-468.5 4186,-474.5 4186,-480.5 4186,-480.5 4186,-524.5 4186,-524.5 4186,-530.5 4180,-536.5 4174,-536.5\"/>\n<text text-anchor=\"middle\" x=\"4131\" y=\"-521.3\" font-family=\"Helvetica,sans-Serif\" font-size=\"14.00\">gini = 0.0</text>\n<text text-anchor=\"middle\" x=\"4131\" y=\"-506.3\" font-family=\"Helvetica,sans-Serif\" font-size=\"14.00\">samples = 1</text>\n<text text-anchor=\"middle\" x=\"4131\" y=\"-491.3\" font-family=\"Helvetica,sans-Serif\" font-size=\"14.00\">value = [0, 1]</text>\n<text text-anchor=\"middle\" x=\"4131\" y=\"-476.3\" font-family=\"Helvetica,sans-Serif\" font-size=\"14.00\">class = Positive</text>\n</g>\n<!-- 106&#45;&gt;107 -->\n<g id=\"edge107\" class=\"edge\">\n<title>106&#45;&gt;107</title>\n<path fill=\"none\" stroke=\"black\" d=\"M4131,-579.91C4131,-569.2 4131,-557.62 4131,-546.78\"/>\n<polygon fill=\"black\" stroke=\"black\" points=\"4134.5,-546.67 4131,-536.67 4127.5,-546.67 4134.5,-546.67\"/>\n</g>\n<!-- 108 -->\n<g id=\"node109\" class=\"node\">\n<title>108</title>\n<path fill=\"#e58139\" stroke=\"black\" d=\"M4308,-536.5C4308,-536.5 4216,-536.5 4216,-536.5 4210,-536.5 4204,-530.5 4204,-524.5 4204,-524.5 4204,-480.5 4204,-480.5 4204,-474.5 4210,-468.5 4216,-468.5 4216,-468.5 4308,-468.5 4308,-468.5 4314,-468.5 4320,-474.5 4320,-480.5 4320,-480.5 4320,-524.5 4320,-524.5 4320,-530.5 4314,-536.5 4308,-536.5\"/>\n<text text-anchor=\"middle\" x=\"4262\" y=\"-521.3\" font-family=\"Helvetica,sans-Serif\" font-size=\"14.00\">gini = 0.0</text>\n<text text-anchor=\"middle\" x=\"4262\" y=\"-506.3\" font-family=\"Helvetica,sans-Serif\" font-size=\"14.00\">samples = 2</text>\n<text text-anchor=\"middle\" x=\"4262\" y=\"-491.3\" font-family=\"Helvetica,sans-Serif\" font-size=\"14.00\">value = [2, 0]</text>\n<text text-anchor=\"middle\" x=\"4262\" y=\"-476.3\" font-family=\"Helvetica,sans-Serif\" font-size=\"14.00\">class = Negative</text>\n</g>\n<!-- 106&#45;&gt;108 -->\n<g id=\"edge108\" class=\"edge\">\n<title>106&#45;&gt;108</title>\n<path fill=\"none\" stroke=\"black\" d=\"M4176.45,-579.91C4189.67,-568.1 4204.1,-555.22 4217.27,-543.45\"/>\n<polygon fill=\"black\" stroke=\"black\" points=\"4219.74,-545.94 4224.86,-536.67 4215.07,-540.72 4219.74,-545.94\"/>\n</g>\n</g>\n</svg>\n",
            "text/plain": [
              "<graphviz.sources.Source at 0x79dae1998650>"
            ]
          },
          "metadata": {},
          "execution_count": 97
        }
      ]
    },
    {
      "cell_type": "code",
      "source": [
        "#Let the classifier predict diagnosis on test data\n",
        "y_test_pred=tree_clf.predict(X_test)"
      ],
      "metadata": {
        "id": "-wRGKDLKJIKu"
      },
      "execution_count": 98,
      "outputs": []
    },
    {
      "cell_type": "code",
      "source": [
        "#Establish confusion matrix\n",
        "from sklearn.metrics import confusion_matrix\n",
        "cm=confusion_matrix(y_test, y_test_pred)"
      ],
      "metadata": {
        "id": "cuR_AneGJT5x"
      },
      "execution_count": 99,
      "outputs": []
    },
    {
      "cell_type": "code",
      "source": [
        "#Plot confusion matrix\n",
        "from sklearn.metrics import ConfusionMatrixDisplay\n",
        "disp = ConfusionMatrixDisplay(cm)\n",
        "disp.plot()\n",
        "plt.show()"
      ],
      "metadata": {
        "colab": {
          "base_uri": "https://localhost:8080/",
          "height": 449
        },
        "id": "C1hUt_gZJePe",
        "outputId": "3385094d-eae4-40b2-abc0-eed45e8c9f70"
      },
      "execution_count": 100,
      "outputs": [
        {
          "output_type": "display_data",
          "data": {
            "text/plain": [
              "<Figure size 640x480 with 2 Axes>"
            ],
            "image/png": "[encoded data removed]"
          },
          "metadata": {}
        }
      ]
    },
    {
      "cell_type": "code",
      "source": [
        "#Calculate the accuracy score on test data:\n",
        "from sklearn.metrics import accuracy_score\n",
        "accuracy_score(y_test, y_test_pred)"
      ],
      "metadata": {
        "colab": {
          "base_uri": "https://localhost:8080/"
        },
        "id": "uraBhOBxJlxV",
        "outputId": "abc1d9af-9979-46df-9569-23a67181b8fc"
      },
      "execution_count": 101,
      "outputs": [
        {
          "output_type": "execute_result",
          "data": {
            "text/plain": [
              "0.772020725388601"
            ]
          },
          "metadata": {},
          "execution_count": 101
        }
      ]
    },
    {
      "cell_type": "markdown",
      "source": [
        "###Exercise(s)"
      ],
      "metadata": {
        "id": "i_x-GYSeZPGJ"
      }
    },
    {
      "cell_type": "markdown",
      "source": [
        "1.   Compare accuracy scores on training and test data. What does this indicate?\n",
        "2.   Calculate the recall score by establishing the following piece of code:\n",
        "```\n",
        "from sklearn.metrics import recall_score\n",
        "recall_score(y_test, y_test_pred)\n",
        "```\n",
        "Add coding cell(s) acccordingly.\n",
        "What is the recall score telling you?\n",
        "\n",
        "3.   Calculate the precison score by establishing the following piece of code:\n",
        "```\n",
        "from sklearn.metrics import precision_score\n",
        "precision_score(y_test, y_test_pred)\n",
        "```\n",
        "Add coding cell(s) acccordingly.\n",
        "What is the precission score telling you?\n",
        "\n",
        "4.   Try with another classifier algoritm. That is repeating the steps above with this algoritm. Compare performance scores (accuracy, recall & precission).\n",
        " Add the needed coding cell(s).\n",
        "   \n",
        "\n",
        "\n"
      ],
      "metadata": {
        "id": "u0mcrC93ZYA4"
      }
    },
    {
      "cell_type": "code",
      "source": [
        "from sklearn.metrics import recall_score\n",
        "print(recall_score(y_test, y_test_pred))\n",
        "from sklearn.metrics import precision_score\n",
        "print(precision_score(y_test, y_test_pred))"
      ],
      "metadata": {
        "colab": {
          "base_uri": "https://localhost:8080/"
        },
        "id": "pVILMVarIQ5M",
        "outputId": "9eabb887-aee2-4495-eef5-6eedfd5c0e11"
      },
      "execution_count": 104,
      "outputs": [
        {
          "output_type": "stream",
          "name": "stdout",
          "text": [
            "0.6323529411764706\n",
            "0.6935483870967742\n"
          ]
        }
      ]
    },
    {
      "cell_type": "code",
      "source": [
        "from sklearn.tree import ExtraTreeClassifier\n",
        "etc = ExtraTreeClassifier(max_depth=9)\n",
        "etc.fit(X_train, y_train)\n",
        "y_train_pred_etc=etc.predict(X_train)"
      ],
      "metadata": {
        "id": "rL1jun8CK-h8"
      },
      "execution_count": 134,
      "outputs": []
    },
    {
      "cell_type": "code",
      "source": [
        "cm=confusion_matrix(y_train, y_train_pred_etc)\n",
        "disp = ConfusionMatrixDisplay(cm)\n",
        "disp.plot()\n",
        "plt.show()"
      ],
      "metadata": {
        "id": "oDBxNaQuMJqX",
        "outputId": "a2286739-29f4-416b-abaf-414506fb2a76",
        "colab": {
          "base_uri": "https://localhost:8080/",
          "height": 449
        }
      },
      "execution_count": 135,
      "outputs": [
        {
          "output_type": "display_data",
          "data": {
            "text/plain": [
              "<Figure size 640x480 with 2 Axes>"
            ],
            "image/png": "[encoded data removed]"
          },
          "metadata": {}
        }
      ]
    },
    {
      "cell_type": "code",
      "source": [
        "print(accuracy_score(y_train, y_train_pred_etc))\n",
        "y_test_pred_etc=etc.predict(X_test)\n",
        "print(accuracy_score(y_test, y_test_pred_etc))"
      ],
      "metadata": {
        "id": "dJQasqtXLcdr",
        "outputId": "47f9b289-4197-41ff-ee0e-fb4609f11123",
        "colab": {
          "base_uri": "https://localhost:8080/"
        }
      },
      "execution_count": 136,
      "outputs": [
        {
          "output_type": "stream",
          "name": "stdout",
          "text": [
            "0.8142361111111112\n",
            "0.7202072538860104\n"
          ]
        }
      ]
    }
  ]
}